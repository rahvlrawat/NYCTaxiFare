{
  "nbformat": 4,
  "nbformat_minor": 0,
  "metadata": {
    "colab": {
      "name": "NYC_Project.ipynb",
      "provenance": [],
      "collapsed_sections": [
        "lyftmIasglNX",
        "UIh-zPIoghWq",
        "COr_e3cxoJ_1",
        "ZdfD7rXdkJ40",
        "QcHXVQcgGh_x",
        "r9_vFjN1YYrm",
        "DZc4FZfyVIGN",
        "ljz-L1O4VK4b",
        "SQpiu7BWVeL9",
        "HAlice77VN5V"
      ],
      "mount_file_id": "1XsgUjtJt5qGtHBPs5AsCCX3gbxatIIjs",
      "authorship_tag": "ABX9TyPt7mSGY7MfS9XE7f77/C0s",
      "include_colab_link": true
    },
    "kernelspec": {
      "display_name": "Python 3",
      "name": "python3"
    }
  },
  "cells": [
    {
      "cell_type": "markdown",
      "metadata": {
        "id": "view-in-github",
        "colab_type": "text"
      },
      "source": [
        "<a href=\"https://colab.research.google.com/github/rahvlrawat/NYCTaxiFare/blob/main/NYC_Project.ipynb\" target=\"_parent\"><img src=\"https://colab.research.google.com/assets/colab-badge.svg\" alt=\"Open In Colab\"/></a>"
      ]
    },
    {
      "cell_type": "markdown",
      "metadata": {
        "id": "lyftmIasglNX"
      },
      "source": [
        "# Imports\n"
      ]
    },
    {
      "cell_type": "code",
      "metadata": {
        "id": "TBra12cnLqiw"
      },
      "source": [
        "import os\n",
        "import pandas as pd\n",
        "import numpy as np\n",
        "from tqdm import tqdm\n",
        "import geopy.distance\n",
        "import matplotlib.pyplot as plt\n",
        "import seaborn as sns\n",
        "import pickle\n",
        "from collections import Counter\n",
        "import warnings \n",
        "warnings.filterwarnings('ignore')\n",
        "from sklearn.metrics import r2_score\n",
        "from sklearn.metrics import mean_squared_error\n",
        "from sklearn.model_selection import train_test_split\n",
        "from xgboost import XGBRegressor, plot_importance\n",
        "from sklearn.model_selection import GridSearchCV\n",
        "from sklearn.model_selection import RandomizedSearchCV\n",
        "from sklearn.model_selection import RepeatedStratifiedKFold\n",
        "from sklearn.model_selection import StratifiedKFold\n",
        "from sklearn.model_selection import KFold\n",
        "import lightgbm as lgbm\n",
        "import xgboost as xgb"
      ],
      "execution_count": 1,
      "outputs": []
    },
    {
      "cell_type": "markdown",
      "metadata": {
        "id": "UIh-zPIoghWq"
      },
      "source": [
        "# Downloads"
      ]
    },
    {
      "cell_type": "code",
      "metadata": {
        "colab": {
          "base_uri": "https://localhost:8080/"
        },
        "id": "6cyzSD0NVATD",
        "outputId": "7a5159c9-fe8d-4406-fec0-9a6b3ef80073"
      },
      "source": [
        "os.system('pip install -q kaggle')\n",
        "os.system('mkdir ~/.kaggle')\n",
        "os.system('cp /content/drive/MyDrive/kaggle.json   ~/.kaggle/')\n",
        "os.system('chmod 600 ~/.kaggle/kaggle.json')\n",
        "\n"
      ],
      "execution_count": 2,
      "outputs": [
        {
          "output_type": "execute_result",
          "data": {
            "text/plain": [
              "0"
            ]
          },
          "metadata": {
            "tags": []
          },
          "execution_count": 2
        }
      ]
    },
    {
      "cell_type": "code",
      "metadata": {
        "colab": {
          "base_uri": "https://localhost:8080/"
        },
        "id": "TnBHHbzSDqZz",
        "outputId": "2e548450-771a-4e12-b689-fe998d6a9581"
      },
      "source": [
        "os.system('kaggle competitions download -c new-york-city-taxi-fare-prediction')"
      ],
      "execution_count": 3,
      "outputs": [
        {
          "output_type": "execute_result",
          "data": {
            "text/plain": [
              "0"
            ]
          },
          "metadata": {
            "tags": []
          },
          "execution_count": 3
        }
      ]
    },
    {
      "cell_type": "code",
      "metadata": {
        "colab": {
          "base_uri": "https://localhost:8080/"
        },
        "id": "XD70BdY1EI8z",
        "outputId": "44f7c414-85de-481b-b74a-6a79491b821d"
      },
      "source": [
        "os.system('unzip  /content/train.csv.zip')"
      ],
      "execution_count": 4,
      "outputs": [
        {
          "output_type": "execute_result",
          "data": {
            "text/plain": [
              "0"
            ]
          },
          "metadata": {
            "tags": []
          },
          "execution_count": 4
        }
      ]
    },
    {
      "cell_type": "markdown",
      "metadata": {
        "id": "BgxRqp5KO_TE"
      },
      "source": [
        "# Exploratory analysis,Cleaning and Feature Engineering"
      ]
    },
    {
      "cell_type": "markdown",
      "metadata": {
        "id": "COr_e3cxoJ_1"
      },
      "source": [
        "## Preliminary Analysis"
      ]
    },
    {
      "cell_type": "markdown",
      "metadata": {
        "id": "RTdhMpJeY7vQ"
      },
      "source": [
        "First thing we do with a new dataset is to explore the data. This means investigating the number of features, their datatype, their meaning and some basics statistics."
      ]
    },
    {
      "cell_type": "markdown",
      "metadata": {
        "id": "Sud6P154ZKdV"
      },
      "source": [
        "This dataset is huge thus reading all data would require a lot of memory. Therefore I read a limited number of rows while exploring the data."
      ]
    },
    {
      "cell_type": "code",
      "metadata": {
        "colab": {
          "base_uri": "https://localhost:8080/",
          "height": 313
        },
        "id": "Ps2DlyRYYlN6",
        "outputId": "bcd7ea72-55d5-4a94-b2b7-2c76c84b972b"
      },
      "source": [
        "train_df =  pd.read_csv('/content/train.csv', nrows = 2_000_000)\n",
        "train_df.head()"
      ],
      "execution_count": null,
      "outputs": [
        {
          "output_type": "execute_result",
          "data": {
            "text/html": [
              "<div>\n",
              "<style scoped>\n",
              "    .dataframe tbody tr th:only-of-type {\n",
              "        vertical-align: middle;\n",
              "    }\n",
              "\n",
              "    .dataframe tbody tr th {\n",
              "        vertical-align: top;\n",
              "    }\n",
              "\n",
              "    .dataframe thead th {\n",
              "        text-align: right;\n",
              "    }\n",
              "</style>\n",
              "<table border=\"1\" class=\"dataframe\">\n",
              "  <thead>\n",
              "    <tr style=\"text-align: right;\">\n",
              "      <th></th>\n",
              "      <th>key</th>\n",
              "      <th>fare_amount</th>\n",
              "      <th>pickup_datetime</th>\n",
              "      <th>pickup_longitude</th>\n",
              "      <th>pickup_latitude</th>\n",
              "      <th>dropoff_longitude</th>\n",
              "      <th>dropoff_latitude</th>\n",
              "      <th>passenger_count</th>\n",
              "    </tr>\n",
              "  </thead>\n",
              "  <tbody>\n",
              "    <tr>\n",
              "      <th>0</th>\n",
              "      <td>2009-06-15 17:26:21.0000001</td>\n",
              "      <td>4.5</td>\n",
              "      <td>2009-06-15 17:26:21 UTC</td>\n",
              "      <td>-73.844311</td>\n",
              "      <td>40.721319</td>\n",
              "      <td>-73.841610</td>\n",
              "      <td>40.712278</td>\n",
              "      <td>1</td>\n",
              "    </tr>\n",
              "    <tr>\n",
              "      <th>1</th>\n",
              "      <td>2010-01-05 16:52:16.0000002</td>\n",
              "      <td>16.9</td>\n",
              "      <td>2010-01-05 16:52:16 UTC</td>\n",
              "      <td>-74.016048</td>\n",
              "      <td>40.711303</td>\n",
              "      <td>-73.979268</td>\n",
              "      <td>40.782004</td>\n",
              "      <td>1</td>\n",
              "    </tr>\n",
              "    <tr>\n",
              "      <th>2</th>\n",
              "      <td>2011-08-18 00:35:00.00000049</td>\n",
              "      <td>5.7</td>\n",
              "      <td>2011-08-18 00:35:00 UTC</td>\n",
              "      <td>-73.982738</td>\n",
              "      <td>40.761270</td>\n",
              "      <td>-73.991242</td>\n",
              "      <td>40.750562</td>\n",
              "      <td>2</td>\n",
              "    </tr>\n",
              "    <tr>\n",
              "      <th>3</th>\n",
              "      <td>2012-04-21 04:30:42.0000001</td>\n",
              "      <td>7.7</td>\n",
              "      <td>2012-04-21 04:30:42 UTC</td>\n",
              "      <td>-73.987130</td>\n",
              "      <td>40.733143</td>\n",
              "      <td>-73.991567</td>\n",
              "      <td>40.758092</td>\n",
              "      <td>1</td>\n",
              "    </tr>\n",
              "    <tr>\n",
              "      <th>4</th>\n",
              "      <td>2010-03-09 07:51:00.000000135</td>\n",
              "      <td>5.3</td>\n",
              "      <td>2010-03-09 07:51:00 UTC</td>\n",
              "      <td>-73.968095</td>\n",
              "      <td>40.768008</td>\n",
              "      <td>-73.956655</td>\n",
              "      <td>40.783762</td>\n",
              "      <td>1</td>\n",
              "    </tr>\n",
              "  </tbody>\n",
              "</table>\n",
              "</div>"
            ],
            "text/plain": [
              "                             key  ...  passenger_count\n",
              "0    2009-06-15 17:26:21.0000001  ...                1\n",
              "1    2010-01-05 16:52:16.0000002  ...                1\n",
              "2   2011-08-18 00:35:00.00000049  ...                2\n",
              "3    2012-04-21 04:30:42.0000001  ...                1\n",
              "4  2010-03-09 07:51:00.000000135  ...                1\n",
              "\n",
              "[5 rows x 8 columns]"
            ]
          },
          "metadata": {
            "tags": []
          },
          "execution_count": 8
        }
      ]
    },
    {
      "cell_type": "code",
      "metadata": {
        "colab": {
          "base_uri": "https://localhost:8080/",
          "height": 300
        },
        "id": "3UoMmHkNZzzB",
        "outputId": "b915300a-09ba-41dc-ced7-f0f252abc1fa"
      },
      "source": [
        "train_df.describe()"
      ],
      "execution_count": null,
      "outputs": [
        {
          "output_type": "execute_result",
          "data": {
            "text/html": [
              "<div>\n",
              "<style scoped>\n",
              "    .dataframe tbody tr th:only-of-type {\n",
              "        vertical-align: middle;\n",
              "    }\n",
              "\n",
              "    .dataframe tbody tr th {\n",
              "        vertical-align: top;\n",
              "    }\n",
              "\n",
              "    .dataframe thead th {\n",
              "        text-align: right;\n",
              "    }\n",
              "</style>\n",
              "<table border=\"1\" class=\"dataframe\">\n",
              "  <thead>\n",
              "    <tr style=\"text-align: right;\">\n",
              "      <th></th>\n",
              "      <th>fare_amount</th>\n",
              "      <th>pickup_longitude</th>\n",
              "      <th>pickup_latitude</th>\n",
              "      <th>dropoff_longitude</th>\n",
              "      <th>dropoff_latitude</th>\n",
              "      <th>passenger_count</th>\n",
              "    </tr>\n",
              "  </thead>\n",
              "  <tbody>\n",
              "    <tr>\n",
              "      <th>count</th>\n",
              "      <td>2.000000e+06</td>\n",
              "      <td>2.000000e+06</td>\n",
              "      <td>2.000000e+06</td>\n",
              "      <td>1.999986e+06</td>\n",
              "      <td>1.999986e+06</td>\n",
              "      <td>2.000000e+06</td>\n",
              "    </tr>\n",
              "    <tr>\n",
              "      <th>mean</th>\n",
              "      <td>1.134779e+01</td>\n",
              "      <td>-7.252321e+01</td>\n",
              "      <td>3.992963e+01</td>\n",
              "      <td>-7.252395e+01</td>\n",
              "      <td>3.992808e+01</td>\n",
              "      <td>1.684113e+00</td>\n",
              "    </tr>\n",
              "    <tr>\n",
              "      <th>std</th>\n",
              "      <td>9.852883e+00</td>\n",
              "      <td>1.286804e+01</td>\n",
              "      <td>7.983352e+00</td>\n",
              "      <td>1.277497e+01</td>\n",
              "      <td>1.032382e+01</td>\n",
              "      <td>1.314982e+00</td>\n",
              "    </tr>\n",
              "    <tr>\n",
              "      <th>min</th>\n",
              "      <td>-6.200000e+01</td>\n",
              "      <td>-3.377681e+03</td>\n",
              "      <td>-3.458665e+03</td>\n",
              "      <td>-3.383297e+03</td>\n",
              "      <td>-3.461541e+03</td>\n",
              "      <td>0.000000e+00</td>\n",
              "    </tr>\n",
              "    <tr>\n",
              "      <th>25%</th>\n",
              "      <td>6.000000e+00</td>\n",
              "      <td>-7.399208e+01</td>\n",
              "      <td>4.073491e+01</td>\n",
              "      <td>-7.399141e+01</td>\n",
              "      <td>4.073400e+01</td>\n",
              "      <td>1.000000e+00</td>\n",
              "    </tr>\n",
              "    <tr>\n",
              "      <th>50%</th>\n",
              "      <td>8.500000e+00</td>\n",
              "      <td>-7.398181e+01</td>\n",
              "      <td>4.075263e+01</td>\n",
              "      <td>-7.398016e+01</td>\n",
              "      <td>4.075312e+01</td>\n",
              "      <td>1.000000e+00</td>\n",
              "    </tr>\n",
              "    <tr>\n",
              "      <th>75%</th>\n",
              "      <td>1.250000e+01</td>\n",
              "      <td>-7.396713e+01</td>\n",
              "      <td>4.076710e+01</td>\n",
              "      <td>-7.396369e+01</td>\n",
              "      <td>4.076809e+01</td>\n",
              "      <td>2.000000e+00</td>\n",
              "    </tr>\n",
              "    <tr>\n",
              "      <th>max</th>\n",
              "      <td>1.273310e+03</td>\n",
              "      <td>2.856442e+03</td>\n",
              "      <td>2.621628e+03</td>\n",
              "      <td>3.414307e+03</td>\n",
              "      <td>3.345917e+03</td>\n",
              "      <td>2.080000e+02</td>\n",
              "    </tr>\n",
              "  </tbody>\n",
              "</table>\n",
              "</div>"
            ],
            "text/plain": [
              "        fare_amount  pickup_longitude  ...  dropoff_latitude  passenger_count\n",
              "count  2.000000e+06      2.000000e+06  ...      1.999986e+06     2.000000e+06\n",
              "mean   1.134779e+01     -7.252321e+01  ...      3.992808e+01     1.684113e+00\n",
              "std    9.852883e+00      1.286804e+01  ...      1.032382e+01     1.314982e+00\n",
              "min   -6.200000e+01     -3.377681e+03  ...     -3.461541e+03     0.000000e+00\n",
              "25%    6.000000e+00     -7.399208e+01  ...      4.073400e+01     1.000000e+00\n",
              "50%    8.500000e+00     -7.398181e+01  ...      4.075312e+01     1.000000e+00\n",
              "75%    1.250000e+01     -7.396713e+01  ...      4.076809e+01     2.000000e+00\n",
              "max    1.273310e+03      2.856442e+03  ...      3.345917e+03     2.080000e+02\n",
              "\n",
              "[8 rows x 6 columns]"
            ]
          },
          "metadata": {
            "tags": []
          },
          "execution_count": 9
        }
      ]
    },
    {
      "cell_type": "markdown",
      "metadata": {
        "id": "iTaHRJ4UZpFy"
      },
      "source": [
        "Following insights can  be inferred from this small sample of our dataset:\n",
        "\n",
        "\n",
        "1.   The minimal *fare_amount* is negative. As this does not seem to be realistic I will drop them from the dataset.\n",
        "2.   Minimum and Maximum *longitude/lattitude coordinates* are way off . Will filter these out using bounding box for co-ordinates of the NYC.\n",
        "3. Min value for *Passenger count* is 0 thus have to filter these rows where such values exist\n",
        "4. Mean value for *Passenger count* is  around 1.68 but max value is 200+ which is not quite possible thus will need to see the distribution and filter out the outliers\n",
        "\n",
        "\n",
        "\n"
      ]
    },
    {
      "cell_type": "markdown",
      "metadata": {
        "id": "w36pcmEubF3U"
      },
      "source": [
        "Now for further insights will try EDA on complete dataset.As data is too big to be read and loaded directly so i used chunk-read   size of 5M along with converting some columns to smaller  datatype  so as  to use less space in memory."
      ]
    },
    {
      "cell_type": "code",
      "metadata": {
        "id": "Jy1sg9yw0oBm",
        "colab": {
          "base_uri": "https://localhost:8080/"
        },
        "outputId": "6593fdbe-fc9f-402a-f3a9-b7df5ca15fdc"
      },
      "source": [
        "df_list = [] # list to hold the batch dataframe\n",
        "chunksize = 5_000_000# 5 million rows at one go. Or try 10 million\n",
        "traintypes = {'fare_amount': 'float32',\n",
        "              'pickup_longitude': 'float32',\n",
        "              'pickup_latitude': 'float32',\n",
        "              'pickup_datetime': 'str',\n",
        "              'dropoff_longitude': 'float32',\n",
        "              'dropoff_latitude': 'float32',\n",
        "              'passenger_count': 'uint8'}\n",
        "\n",
        "cols = list(traintypes.keys())\n",
        "for df_chunk in tqdm(pd.read_csv('/content/train.csv', usecols=cols, dtype=traintypes, chunksize=chunksize)):\n",
        "        df_list.append(df_chunk) \n",
        "        del df_chunk\n",
        "        \n",
        "\n",
        "train_df = pd.concat(df_list)\n",
        "del df_list\n",
        "\n"
      ],
      "execution_count": null,
      "outputs": [
        {
          "output_type": "stream",
          "text": [
            "12it [01:46,  8.87s/it]\n"
          ],
          "name": "stderr"
        }
      ]
    },
    {
      "cell_type": "markdown",
      "metadata": {
        "id": "Lh6RlmTLX8U3"
      },
      "source": [
        "There are about total of 55Million+  rows in our dataset."
      ]
    },
    {
      "cell_type": "code",
      "metadata": {
        "colab": {
          "base_uri": "https://localhost:8080/"
        },
        "id": "ES0ZWnP-1snL",
        "outputId": "004b665d-dc17-4829-bdf4-56156a2516a2"
      },
      "source": [
        "len(train_df )"
      ],
      "execution_count": null,
      "outputs": [
        {
          "output_type": "execute_result",
          "data": {
            "text/plain": [
              "55423856"
            ]
          },
          "metadata": {
            "tags": []
          },
          "execution_count": 11
        }
      ]
    },
    {
      "cell_type": "code",
      "metadata": {
        "colab": {
          "base_uri": "https://localhost:8080/"
        },
        "id": "TaQYhAT0T_6n",
        "outputId": "7bcdcc30-7519-4866-d9e5-ab81bb009f47"
      },
      "source": [
        "train_df.shape"
      ],
      "execution_count": null,
      "outputs": [
        {
          "output_type": "execute_result",
          "data": {
            "text/plain": [
              "(55423856, 7)"
            ]
          },
          "metadata": {
            "tags": []
          },
          "execution_count": 12
        }
      ]
    },
    {
      "cell_type": "code",
      "metadata": {
        "colab": {
          "base_uri": "https://localhost:8080/",
          "height": 313
        },
        "id": "Ykb75QFpTwoI",
        "outputId": "0c9121a1-00eb-41f9-b0de-82a33aa58b97"
      },
      "source": [
        "train_df.head()"
      ],
      "execution_count": null,
      "outputs": [
        {
          "output_type": "execute_result",
          "data": {
            "text/html": [
              "<div>\n",
              "<style scoped>\n",
              "    .dataframe tbody tr th:only-of-type {\n",
              "        vertical-align: middle;\n",
              "    }\n",
              "\n",
              "    .dataframe tbody tr th {\n",
              "        vertical-align: top;\n",
              "    }\n",
              "\n",
              "    .dataframe thead th {\n",
              "        text-align: right;\n",
              "    }\n",
              "</style>\n",
              "<table border=\"1\" class=\"dataframe\">\n",
              "  <thead>\n",
              "    <tr style=\"text-align: right;\">\n",
              "      <th></th>\n",
              "      <th>fare_amount</th>\n",
              "      <th>pickup_datetime</th>\n",
              "      <th>pickup_longitude</th>\n",
              "      <th>pickup_latitude</th>\n",
              "      <th>dropoff_longitude</th>\n",
              "      <th>dropoff_latitude</th>\n",
              "      <th>passenger_count</th>\n",
              "    </tr>\n",
              "  </thead>\n",
              "  <tbody>\n",
              "    <tr>\n",
              "      <th>0</th>\n",
              "      <td>4.5</td>\n",
              "      <td>2009-06-15 17:26:21 UTC</td>\n",
              "      <td>-73.844315</td>\n",
              "      <td>40.721317</td>\n",
              "      <td>-73.841614</td>\n",
              "      <td>40.712276</td>\n",
              "      <td>1</td>\n",
              "    </tr>\n",
              "    <tr>\n",
              "      <th>1</th>\n",
              "      <td>16.9</td>\n",
              "      <td>2010-01-05 16:52:16 UTC</td>\n",
              "      <td>-74.016045</td>\n",
              "      <td>40.711304</td>\n",
              "      <td>-73.979271</td>\n",
              "      <td>40.782005</td>\n",
              "      <td>1</td>\n",
              "    </tr>\n",
              "    <tr>\n",
              "      <th>2</th>\n",
              "      <td>5.7</td>\n",
              "      <td>2011-08-18 00:35:00 UTC</td>\n",
              "      <td>-73.982735</td>\n",
              "      <td>40.761269</td>\n",
              "      <td>-73.991241</td>\n",
              "      <td>40.750561</td>\n",
              "      <td>2</td>\n",
              "    </tr>\n",
              "    <tr>\n",
              "      <th>3</th>\n",
              "      <td>7.7</td>\n",
              "      <td>2012-04-21 04:30:42 UTC</td>\n",
              "      <td>-73.987129</td>\n",
              "      <td>40.733143</td>\n",
              "      <td>-73.991570</td>\n",
              "      <td>40.758091</td>\n",
              "      <td>1</td>\n",
              "    </tr>\n",
              "    <tr>\n",
              "      <th>4</th>\n",
              "      <td>5.3</td>\n",
              "      <td>2010-03-09 07:51:00 UTC</td>\n",
              "      <td>-73.968094</td>\n",
              "      <td>40.768009</td>\n",
              "      <td>-73.956657</td>\n",
              "      <td>40.783764</td>\n",
              "      <td>1</td>\n",
              "    </tr>\n",
              "  </tbody>\n",
              "</table>\n",
              "</div>"
            ],
            "text/plain": [
              "   fare_amount          pickup_datetime  ...  dropoff_latitude  passenger_count\n",
              "0          4.5  2009-06-15 17:26:21 UTC  ...         40.712276                1\n",
              "1         16.9  2010-01-05 16:52:16 UTC  ...         40.782005                1\n",
              "2          5.7  2011-08-18 00:35:00 UTC  ...         40.750561                2\n",
              "3          7.7  2012-04-21 04:30:42 UTC  ...         40.758091                1\n",
              "4          5.3  2010-03-09 07:51:00 UTC  ...         40.783764                1\n",
              "\n",
              "[5 rows x 7 columns]"
            ]
          },
          "metadata": {
            "tags": []
          },
          "execution_count": 13
        }
      ]
    },
    {
      "cell_type": "code",
      "metadata": {
        "colab": {
          "base_uri": "https://localhost:8080/"
        },
        "id": "lVPOnNYTUIsa",
        "outputId": "3afc74c9-f24a-473b-9ab7-c98b264bcec2"
      },
      "source": [
        "train_df.isnull().sum().sort_index()/len(train_df)"
      ],
      "execution_count": null,
      "outputs": [
        {
          "output_type": "execute_result",
          "data": {
            "text/plain": [
              "dropoff_latitude     0.000007\n",
              "dropoff_longitude    0.000007\n",
              "fare_amount          0.000000\n",
              "passenger_count      0.000000\n",
              "pickup_datetime      0.000000\n",
              "pickup_latitude      0.000000\n",
              "pickup_longitude     0.000000\n",
              "dtype: float64"
            ]
          },
          "metadata": {
            "tags": []
          },
          "execution_count": 14
        }
      ]
    },
    {
      "cell_type": "markdown",
      "metadata": {
        "id": "JB597KM1cz_O"
      },
      "source": [
        "There are some null values existing in data which we will drop."
      ]
    },
    {
      "cell_type": "code",
      "metadata": {
        "colab": {
          "base_uri": "https://localhost:8080/"
        },
        "id": "fYbN68w3USzI",
        "outputId": "d89cd377-3433-4c36-9b71-1771c15b874d"
      },
      "source": [
        "train_df.info()"
      ],
      "execution_count": null,
      "outputs": [
        {
          "output_type": "stream",
          "text": [
            "<class 'pandas.core.frame.DataFrame'>\n",
            "RangeIndex: 55423856 entries, 0 to 55423855\n",
            "Data columns (total 7 columns):\n",
            " #   Column             Dtype  \n",
            "---  ------             -----  \n",
            " 0   fare_amount        float32\n",
            " 1   pickup_datetime    object \n",
            " 2   pickup_longitude   float32\n",
            " 3   pickup_latitude    float32\n",
            " 4   dropoff_longitude  float32\n",
            " 5   dropoff_latitude   float32\n",
            " 6   passenger_count    uint8  \n",
            "dtypes: float32(5), object(1), uint8(1)\n",
            "memory usage: 1.5+ GB\n"
          ],
          "name": "stdout"
        }
      ]
    },
    {
      "cell_type": "markdown",
      "metadata": {
        "id": "uAhFzBX9djpR"
      },
      "source": [
        "In order to utilize the pickup_datetime info will have to break down this data into its basic components year,month,day,hour,minute and seconds later."
      ]
    },
    {
      "cell_type": "code",
      "metadata": {
        "colab": {
          "base_uri": "https://localhost:8080/",
          "height": 300
        },
        "id": "auXzeLlcUP-P",
        "outputId": "8e41f2c8-a552-4961-fc53-3281adadaeb2"
      },
      "source": [
        "train_df.describe()"
      ],
      "execution_count": null,
      "outputs": [
        {
          "output_type": "execute_result",
          "data": {
            "text/html": [
              "<div>\n",
              "<style scoped>\n",
              "    .dataframe tbody tr th:only-of-type {\n",
              "        vertical-align: middle;\n",
              "    }\n",
              "\n",
              "    .dataframe tbody tr th {\n",
              "        vertical-align: top;\n",
              "    }\n",
              "\n",
              "    .dataframe thead th {\n",
              "        text-align: right;\n",
              "    }\n",
              "</style>\n",
              "<table border=\"1\" class=\"dataframe\">\n",
              "  <thead>\n",
              "    <tr style=\"text-align: right;\">\n",
              "      <th></th>\n",
              "      <th>fare_amount</th>\n",
              "      <th>pickup_longitude</th>\n",
              "      <th>pickup_latitude</th>\n",
              "      <th>dropoff_longitude</th>\n",
              "      <th>dropoff_latitude</th>\n",
              "      <th>passenger_count</th>\n",
              "    </tr>\n",
              "  </thead>\n",
              "  <tbody>\n",
              "    <tr>\n",
              "      <th>count</th>\n",
              "      <td>5.542386e+07</td>\n",
              "      <td>5.542386e+07</td>\n",
              "      <td>5.542386e+07</td>\n",
              "      <td>5.542348e+07</td>\n",
              "      <td>5.542348e+07</td>\n",
              "      <td>5.542386e+07</td>\n",
              "    </tr>\n",
              "    <tr>\n",
              "      <th>mean</th>\n",
              "      <td>8.077921e+00</td>\n",
              "      <td>-3.875290e+01</td>\n",
              "      <td>1.937328e+01</td>\n",
              "      <td>-3.875261e+01</td>\n",
              "      <td>1.937341e+01</td>\n",
              "      <td>1.685380e+00</td>\n",
              "    </tr>\n",
              "    <tr>\n",
              "      <th>std</th>\n",
              "      <td>2.055127e+01</td>\n",
              "      <td>2.556202e+01</td>\n",
              "      <td>1.414234e+01</td>\n",
              "      <td>2.553839e+01</td>\n",
              "      <td>1.412191e+01</td>\n",
              "      <td>1.327664e+00</td>\n",
              "    </tr>\n",
              "    <tr>\n",
              "      <th>min</th>\n",
              "      <td>-3.000000e+02</td>\n",
              "      <td>-3.442060e+03</td>\n",
              "      <td>-3.492264e+03</td>\n",
              "      <td>-3.442025e+03</td>\n",
              "      <td>-3.547887e+03</td>\n",
              "      <td>0.000000e+00</td>\n",
              "    </tr>\n",
              "    <tr>\n",
              "      <th>25%</th>\n",
              "      <td>6.000000e+00</td>\n",
              "      <td>-7.399207e+01</td>\n",
              "      <td>4.073493e+01</td>\n",
              "      <td>-7.399140e+01</td>\n",
              "      <td>4.073403e+01</td>\n",
              "      <td>1.000000e+00</td>\n",
              "    </tr>\n",
              "    <tr>\n",
              "      <th>50%</th>\n",
              "      <td>8.500000e+00</td>\n",
              "      <td>-7.398180e+01</td>\n",
              "      <td>4.075265e+01</td>\n",
              "      <td>-7.398015e+01</td>\n",
              "      <td>4.075316e+01</td>\n",
              "      <td>1.000000e+00</td>\n",
              "    </tr>\n",
              "    <tr>\n",
              "      <th>75%</th>\n",
              "      <td>1.250000e+01</td>\n",
              "      <td>-7.396708e+01</td>\n",
              "      <td>4.076713e+01</td>\n",
              "      <td>-7.396368e+01</td>\n",
              "      <td>4.076810e+01</td>\n",
              "      <td>2.000000e+00</td>\n",
              "    </tr>\n",
              "    <tr>\n",
              "      <th>max</th>\n",
              "      <td>9.396336e+04</td>\n",
              "      <td>3.457626e+03</td>\n",
              "      <td>3.408790e+03</td>\n",
              "      <td>3.457622e+03</td>\n",
              "      <td>3.537133e+03</td>\n",
              "      <td>2.080000e+02</td>\n",
              "    </tr>\n",
              "  </tbody>\n",
              "</table>\n",
              "</div>"
            ],
            "text/plain": [
              "        fare_amount  pickup_longitude  ...  dropoff_latitude  passenger_count\n",
              "count  5.542386e+07      5.542386e+07  ...      5.542348e+07     5.542386e+07\n",
              "mean   8.077921e+00     -3.875290e+01  ...      1.937341e+01     1.685380e+00\n",
              "std    2.055127e+01      2.556202e+01  ...      1.412191e+01     1.327664e+00\n",
              "min   -3.000000e+02     -3.442060e+03  ...     -3.547887e+03     0.000000e+00\n",
              "25%    6.000000e+00     -7.399207e+01  ...      4.073403e+01     1.000000e+00\n",
              "50%    8.500000e+00     -7.398180e+01  ...      4.075316e+01     1.000000e+00\n",
              "75%    1.250000e+01     -7.396708e+01  ...      4.076810e+01     2.000000e+00\n",
              "max    9.396336e+04      3.457626e+03  ...      3.537133e+03     2.080000e+02\n",
              "\n",
              "[8 rows x 6 columns]"
            ]
          },
          "metadata": {
            "tags": []
          },
          "execution_count": 16
        }
      ]
    },
    {
      "cell_type": "markdown",
      "metadata": {
        "id": "mJaGRWJifKGJ"
      },
      "source": [
        "-New York city coordinates are \n",
        "\n",
        "\n",
        "longitude = -74.0063889\n",
        "lattitude = 40.7141667\n",
        "\n",
        "so accordingly will filter out the coordinates around these."
      ]
    },
    {
      "cell_type": "code",
      "metadata": {
        "colab": {
          "base_uri": "https://localhost:8080/",
          "height": 308
        },
        "id": "xjUu1Sxj4gpe",
        "outputId": "08c5de4e-6627-4994-8aab-52b372c150da"
      },
      "source": [
        "sns.countplot(x='passenger_count',data=train_df)"
      ],
      "execution_count": null,
      "outputs": [
        {
          "output_type": "execute_result",
          "data": {
            "text/plain": [
              "<matplotlib.axes._subplots.AxesSubplot at 0x7f25ad414850>"
            ]
          },
          "metadata": {
            "tags": []
          },
          "execution_count": 17
        },
        {
          "output_type": "display_data",
          "data": {
            "image/png": "[encoded data removed]",
            "text/plain": [
              "<Figure size 432x288 with 1 Axes>"
            ]
          },
          "metadata": {
            "tags": [],
            "needs_background": "light"
          }
        }
      ]
    },
    {
      "cell_type": "markdown",
      "metadata": {
        "id": "TPOFIQbAedrw"
      },
      "source": [
        "From passenger count  plot its deduced that majority of our data lies for 6 passengers which is quite plausible for a cab and thus will drop all data pertaining to passenger count above that."
      ]
    },
    {
      "cell_type": "code",
      "metadata": {
        "colab": {
          "base_uri": "https://localhost:8080/",
          "height": 297
        },
        "id": "oQLG511shMAM",
        "outputId": "c3f9f3d1-3d34-43d7-bbcf-b085a008af6c"
      },
      "source": [
        "sns.boxplot(x='fare_amount',data=train_df)"
      ],
      "execution_count": null,
      "outputs": [
        {
          "output_type": "execute_result",
          "data": {
            "text/plain": [
              "<matplotlib.axes._subplots.AxesSubplot at 0x7f25ac8887d0>"
            ]
          },
          "metadata": {
            "tags": []
          },
          "execution_count": 18
        },
        {
          "output_type": "display_data",
          "data": {
            "image/png": "[encoded data removed]",
            "text/plain": [
              "<Figure size 432x288 with 1 Axes>"
            ]
          },
          "metadata": {
            "tags": [],
            "needs_background": "light"
          }
        }
      ]
    },
    {
      "cell_type": "code",
      "metadata": {
        "colab": {
          "base_uri": "https://localhost:8080/",
          "height": 216
        },
        "id": "-gCPa-l5iGuE",
        "outputId": "3fd7235c-91db-4dd4-d16a-8b6a4073ebe1"
      },
      "source": [
        "train_df[train_df[\"fare_amount\"]>20000]"
      ],
      "execution_count": null,
      "outputs": [
        {
          "output_type": "execute_result",
          "data": {
            "text/html": [
              "<div>\n",
              "<style scoped>\n",
              "    .dataframe tbody tr th:only-of-type {\n",
              "        vertical-align: middle;\n",
              "    }\n",
              "\n",
              "    .dataframe tbody tr th {\n",
              "        vertical-align: top;\n",
              "    }\n",
              "\n",
              "    .dataframe thead th {\n",
              "        text-align: right;\n",
              "    }\n",
              "</style>\n",
              "<table border=\"1\" class=\"dataframe\">\n",
              "  <thead>\n",
              "    <tr style=\"text-align: right;\">\n",
              "      <th></th>\n",
              "      <th>fare_amount</th>\n",
              "      <th>pickup_datetime</th>\n",
              "      <th>pickup_longitude</th>\n",
              "      <th>pickup_latitude</th>\n",
              "      <th>dropoff_longitude</th>\n",
              "      <th>dropoff_latitude</th>\n",
              "      <th>passenger_count</th>\n",
              "    </tr>\n",
              "  </thead>\n",
              "  <tbody>\n",
              "    <tr>\n",
              "      <th>18859340</th>\n",
              "      <td>61550.859375</td>\n",
              "      <td>2013-08-20 11:52:52 UTC</td>\n",
              "      <td>-73.967712</td>\n",
              "      <td>40.755966</td>\n",
              "      <td>-73.945572</td>\n",
              "      <td>40.747665</td>\n",
              "      <td>1</td>\n",
              "    </tr>\n",
              "    <tr>\n",
              "      <th>41032263</th>\n",
              "      <td>93963.359375</td>\n",
              "      <td>2015-02-24 08:57:37 UTC</td>\n",
              "      <td>-73.994461</td>\n",
              "      <td>40.712353</td>\n",
              "      <td>-74.012543</td>\n",
              "      <td>40.702904</td>\n",
              "      <td>2</td>\n",
              "    </tr>\n",
              "    <tr>\n",
              "      <th>41186018</th>\n",
              "      <td>75747.023438</td>\n",
              "      <td>2015-05-03 09:35:20 UTC</td>\n",
              "      <td>-73.967949</td>\n",
              "      <td>40.792355</td>\n",
              "      <td>-73.990898</td>\n",
              "      <td>40.738976</td>\n",
              "      <td>1</td>\n",
              "    </tr>\n",
              "  </tbody>\n",
              "</table>\n",
              "</div>"
            ],
            "text/plain": [
              "           fare_amount  ... passenger_count\n",
              "18859340  61550.859375  ...               1\n",
              "41032263  93963.359375  ...               2\n",
              "41186018  75747.023438  ...               1\n",
              "\n",
              "[3 rows x 7 columns]"
            ]
          },
          "metadata": {
            "tags": []
          },
          "execution_count": 19
        }
      ]
    },
    {
      "cell_type": "code",
      "metadata": {
        "colab": {
          "base_uri": "https://localhost:8080/",
          "height": 297
        },
        "id": "FifRL1hLmAgS",
        "outputId": "d7eb1dd4-a1de-4f91-9b18-be2a19834f14"
      },
      "source": [
        "sns.boxplot(x='fare_amount',data=train_df[train_df[\"fare_amount\"]<20000])"
      ],
      "execution_count": null,
      "outputs": [
        {
          "output_type": "execute_result",
          "data": {
            "text/plain": [
              "<matplotlib.axes._subplots.AxesSubplot at 0x7f25ac3c0310>"
            ]
          },
          "metadata": {
            "tags": []
          },
          "execution_count": 20
        },
        {
          "output_type": "display_data",
          "data": {
            "image/png": "[encoded data removed]",
            "text/plain": [
              "<Figure size 432x288 with 1 Axes>"
            ]
          },
          "metadata": {
            "tags": [],
            "needs_background": "light"
          }
        }
      ]
    },
    {
      "cell_type": "code",
      "metadata": {
        "colab": {
          "base_uri": "https://localhost:8080/",
          "height": 459
        },
        "id": "ZLd3L5GuQguh",
        "outputId": "414b220a-db4e-4fb7-9c93-d79178237df3"
      },
      "source": [
        "train_df[train_df[\"fare_amount\"]>2000]"
      ],
      "execution_count": null,
      "outputs": [
        {
          "output_type": "execute_result",
          "data": {
            "text/html": [
              "<div>\n",
              "<style scoped>\n",
              "    .dataframe tbody tr th:only-of-type {\n",
              "        vertical-align: middle;\n",
              "    }\n",
              "\n",
              "    .dataframe tbody tr th {\n",
              "        vertical-align: top;\n",
              "    }\n",
              "\n",
              "    .dataframe thead th {\n",
              "        text-align: right;\n",
              "    }\n",
              "</style>\n",
              "<table border=\"1\" class=\"dataframe\">\n",
              "  <thead>\n",
              "    <tr style=\"text-align: right;\">\n",
              "      <th></th>\n",
              "      <th>fare_amount</th>\n",
              "      <th>pickup_datetime</th>\n",
              "      <th>pickup_longitude</th>\n",
              "      <th>pickup_latitude</th>\n",
              "      <th>dropoff_longitude</th>\n",
              "      <th>dropoff_latitude</th>\n",
              "      <th>passenger_count</th>\n",
              "    </tr>\n",
              "  </thead>\n",
              "  <tbody>\n",
              "    <tr>\n",
              "      <th>18592729</th>\n",
              "      <td>2010.900024</td>\n",
              "      <td>2010-03-21 10:03:32 UTC</td>\n",
              "      <td>-73.986267</td>\n",
              "      <td>40.774845</td>\n",
              "      <td>-73.971542</td>\n",
              "      <td>40.743950</td>\n",
              "      <td>1</td>\n",
              "    </tr>\n",
              "    <tr>\n",
              "      <th>18859340</th>\n",
              "      <td>61550.859375</td>\n",
              "      <td>2013-08-20 11:52:52 UTC</td>\n",
              "      <td>-73.967712</td>\n",
              "      <td>40.755966</td>\n",
              "      <td>-73.945572</td>\n",
              "      <td>40.747665</td>\n",
              "      <td>1</td>\n",
              "    </tr>\n",
              "    <tr>\n",
              "      <th>22703574</th>\n",
              "      <td>3130.300049</td>\n",
              "      <td>2015-03-09 15:28:56 UTC</td>\n",
              "      <td>-74.005417</td>\n",
              "      <td>40.664413</td>\n",
              "      <td>-74.005417</td>\n",
              "      <td>40.664413</td>\n",
              "      <td>1</td>\n",
              "    </tr>\n",
              "    <tr>\n",
              "      <th>30823273</th>\n",
              "      <td>2004.500000</td>\n",
              "      <td>2010-03-20 12:24:52 UTC</td>\n",
              "      <td>-73.963135</td>\n",
              "      <td>40.777855</td>\n",
              "      <td>-73.975433</td>\n",
              "      <td>40.782146</td>\n",
              "      <td>1</td>\n",
              "    </tr>\n",
              "    <tr>\n",
              "      <th>37879397</th>\n",
              "      <td>2023.699951</td>\n",
              "      <td>2010-03-21 14:43:02 UTC</td>\n",
              "      <td>-73.790054</td>\n",
              "      <td>40.647064</td>\n",
              "      <td>-73.917976</td>\n",
              "      <td>40.656940</td>\n",
              "      <td>1</td>\n",
              "    </tr>\n",
              "    <tr>\n",
              "      <th>39374511</th>\n",
              "      <td>9000.410156</td>\n",
              "      <td>2010-02-19 17:10:00 UTC</td>\n",
              "      <td>-73.993744</td>\n",
              "      <td>40.746105</td>\n",
              "      <td>-73.989807</td>\n",
              "      <td>40.738976</td>\n",
              "      <td>1</td>\n",
              "    </tr>\n",
              "    <tr>\n",
              "      <th>41032263</th>\n",
              "      <td>93963.359375</td>\n",
              "      <td>2015-02-24 08:57:37 UTC</td>\n",
              "      <td>-73.994461</td>\n",
              "      <td>40.712353</td>\n",
              "      <td>-74.012543</td>\n",
              "      <td>40.702904</td>\n",
              "      <td>2</td>\n",
              "    </tr>\n",
              "    <tr>\n",
              "      <th>41186018</th>\n",
              "      <td>75747.023438</td>\n",
              "      <td>2015-05-03 09:35:20 UTC</td>\n",
              "      <td>-73.967949</td>\n",
              "      <td>40.792355</td>\n",
              "      <td>-73.990898</td>\n",
              "      <td>40.738976</td>\n",
              "      <td>1</td>\n",
              "    </tr>\n",
              "  </tbody>\n",
              "</table>\n",
              "</div>"
            ],
            "text/plain": [
              "           fare_amount  ... passenger_count\n",
              "18592729   2010.900024  ...               1\n",
              "18859340  61550.859375  ...               1\n",
              "22703574   3130.300049  ...               1\n",
              "30823273   2004.500000  ...               1\n",
              "37879397   2023.699951  ...               1\n",
              "39374511   9000.410156  ...               1\n",
              "41032263  93963.359375  ...               2\n",
              "41186018  75747.023438  ...               1\n",
              "\n",
              "[8 rows x 7 columns]"
            ]
          },
          "metadata": {
            "tags": []
          },
          "execution_count": 21
        }
      ]
    },
    {
      "cell_type": "markdown",
      "metadata": {
        "id": "edBMbQauiN9V"
      },
      "source": [
        "Will drop these rows with fare > 2000  as fare_amount is unbilievable large for these trips even though there seems to be no irregularity in other data and as can be seen from plots points beyond these are outliers anyways as majority data lies below 2000."
      ]
    },
    {
      "cell_type": "code",
      "metadata": {
        "colab": {
          "base_uri": "https://localhost:8080/"
        },
        "id": "YZnkQJNVIccw",
        "outputId": "3b9b9794-1e95-417a-8666-ddef62d64f77"
      },
      "source": [
        "len(train_df)"
      ],
      "execution_count": null,
      "outputs": [
        {
          "output_type": "execute_result",
          "data": {
            "text/plain": [
              "55423856"
            ]
          },
          "metadata": {
            "tags": []
          },
          "execution_count": 22
        }
      ]
    },
    {
      "cell_type": "markdown",
      "metadata": {
        "id": "LLrrgKTAofFM"
      },
      "source": [
        "## Feature Engineering"
      ]
    },
    {
      "cell_type": "code",
      "metadata": {
        "id": "6846vTol7ZMh"
      },
      "source": [
        "jfk = (-73.7781, 40.6413)\n",
        "ewr = (-74.1745, 40.6895)\n",
        "lgr = (-73.8740, 40.7769)\n",
        "tsq =(-74.1745, 40.6895)\n",
        "met = (-73.9632,40.7794)\n"
      ],
      "execution_count": 5,
      "outputs": []
    },
    {
      "cell_type": "markdown",
      "metadata": {
        "id": "GgMEwOBvf3nW"
      },
      "source": [
        "Taking a cab around some areas in city  is quiet expensive than others and thus i have picked up some major Airports/Terminals which are near and in the city."
      ]
    },
    {
      "cell_type": "code",
      "metadata": {
        "id": "NLe1X6mOCOgF"
      },
      "source": [
        "# calculate-distance-between-two-latitude-longitude-points-haversine-formula \n",
        "# Returns distance in miles\n",
        "def distance(lat1, lon1, lat2, lon2):\n",
        "    p = 0.017453292519943295 # Pi/180\n",
        "    a = 0.5 - np.cos((lat2 - lat1) * p)/2 + np.cos(lat1 * p) * np.cos(lat2 * p) * (1 - np.cos((lon2 - lon1) * p)) / 2\n",
        "    return 0.6213712 * 12742 * np.arcsin(np.sqrt(a))   # 2*R*asin..."
      ],
      "execution_count": 6,
      "outputs": []
    },
    {
      "cell_type": "markdown",
      "metadata": {
        "id": "30y7UaMTk-yk"
      },
      "source": [
        "We will use haversine formula in order to calculate distance between the co-ordinates."
      ]
    },
    {
      "cell_type": "code",
      "metadata": {
        "id": "J_5Km3vatgsj"
      },
      "source": [
        "# list to hold the batch dataframe\n",
        "chunksize = 1_000_000# 5 million rows at one go. Or try 10 million\n",
        "traintypes = {'fare_amount': 'float32',\n",
        "              'pickup_datetime': 'str', \n",
        "              'pickup_longitude': 'float32',\n",
        "              'pickup_latitude': 'float32',\n",
        "              'dropoff_longitude': 'float32',\n",
        "              'dropoff_latitude': 'float32',\n",
        "              'passenger_count': 'uint8'}\n",
        "\n",
        "cols = list(traintypes.keys())\n"
      ],
      "execution_count": 7,
      "outputs": []
    },
    {
      "cell_type": "code",
      "metadata": {
        "id": "jHHCXoUJpBzp"
      },
      "source": [
        "def processed_data(unprocessed_file_path):\n",
        "  df_list = [] \n",
        "  count=0\n",
        "  for df_chunk in tqdm(pd.read_csv(unprocessed_file_path, usecols=cols, dtype=traintypes, chunksize=chunksize,parse_dates=['pickup_datetime'])):\n",
        "        df_chunk=df_chunk[df_chunk[\"fare_amount\"].between(1, 2000, inclusive = True) ]\n",
        "        df_chunk=df_chunk[df_chunk[\"passenger_count\"].between(1, 6, inclusive = True) ]\n",
        "        \n",
        "        df_chunk=df_chunk.dropna(how = 'any', axis = 'rows')\n",
        "\n",
        "        df_chunk=df_chunk[df_chunk['dropoff_longitude'].between(-75,-72, inclusive = True)]\n",
        "        df_chunk=df_chunk[df_chunk['pickup_longitude'].between(-75, -72, inclusive = True)]\n",
        "        df_chunk=df_chunk[df_chunk['pickup_latitude'].between(40, 42, inclusive = True)]\n",
        "        df_chunk=df_chunk[df_chunk['dropoff_latitude'].between(40,42, inclusive = True)]\n",
        "\n",
        "        df_chunk['diff_lat'] = ( df_chunk['dropoff_latitude'] - df_chunk['pickup_latitude']).abs()\n",
        "        df_chunk['diff_long'] = (df_chunk['dropoff_longitude'] - df_chunk['pickup_longitude']).abs()\n",
        "\n",
        "        df_chunk[\"geodesic\"]=df_chunk.apply(lambda x: geopy.distance.geodesic((x.pickup_latitude,x.pickup_longitude),(x.dropoff_latitude,x.dropoff_longitude)), axis=1).astype(str).str[:-3].astype('float32')\n",
        "        df_chunk=df_chunk[df_chunk[\"geodesic\"]>=1]\n",
        "        \n",
        "        df_chunk['pickup_distance_to_jfk'] = distance(jfk[1], jfk[0],df_chunk['pickup_latitude'], df_chunk['pickup_longitude']).astype('float32')\n",
        "        df_chunk['dropoff_distance_to_jfk'] = distance(jfk[1], jfk[0],df_chunk['dropoff_latitude'], df_chunk['dropoff_longitude']).astype('float32')\n",
        "        df_chunk['pickup_distance_to_ewr'] = distance(ewr[1], ewr[0],df_chunk['pickup_latitude'], df_chunk['pickup_longitude']).astype('float32')\n",
        "        df_chunk['dropoff_distance_to_ewr'] = distance(ewr[1], ewr[0],df_chunk['dropoff_latitude'], df_chunk['dropoff_longitude']).astype('float32')\n",
        "        df_chunk['pickup_distance_to_lgr'] = distance(lgr[1], lgr[0],df_chunk['pickup_latitude'], df_chunk['pickup_longitude']).astype('float32')\n",
        "        df_chunk['dropoff_distance_to_lgr'] = distance(lgr[1], lgr[0],df_chunk['dropoff_latitude'], df_chunk['dropoff_longitude']).astype('float32')\n",
        "        df_chunk['pickup_distance_to_tsq'] = distance(tsq[1], tsq[0],df_chunk['pickup_latitude'], df_chunk['pickup_longitude']).astype('float32')\n",
        "        df_chunk['dropoff_distance_to_tsq'] = distance(tsq[1], tsq[0],df_chunk['dropoff_latitude'], df_chunk['dropoff_longitude']).astype('float32')\n",
        "        df_chunk['pickup_distance_to_met'] = distance(met[1], met[0],df_chunk['pickup_latitude'], df_chunk['pickup_longitude']).astype('float32')\n",
        "        df_chunk['dropoff_distance_to_met'] = distance(met[1], met[0],df_chunk['dropoff_latitude'], df_chunk['dropoff_longitude']).astype('float32')\n",
        "\n",
        "        df_chunk[['pickup_longitude', 'pickup_latitude','dropoff_longitude', 'dropoff_latitude']]=df_chunk[['pickup_longitude', 'pickup_latitude','dropoff_longitude', 'dropoff_latitude']].astype('float32')\n",
        "        \n",
        "        \n",
        "        df_chunk['day']=(df_chunk['pickup_datetime'].dt.weekday).astype('uint8')\n",
        "        df_chunk['month']=(df_chunk['pickup_datetime'].dt.month).astype('uint8')\n",
        "        df_chunk['year']=df_chunk['pickup_datetime'].dt.year.astype('uint32')\n",
        "        \n",
        "        df_chunk['time']=df_chunk['pickup_datetime'].dt.time\n",
        "        df_chunk[['hh','mm','ss']] = df_chunk['time'].astype(str).str.split(':', expand=True).astype(int)\n",
        "        df_chunk=df_chunk.drop([\"time\",\"pickup_datetime\"],axis=1)\n",
        "\n",
        "        \n",
        "        df_chunk['hh']=df_chunk['hh'].astype('uint8')\n",
        "        df_chunk['mm']=df_chunk['mm'].astype('uint8')\n",
        "        df_chunk['ss']=df_chunk['ss'].astype('uint8')\n",
        "\n",
        "        \n",
        "        df_list.append(df_chunk) \n",
        "        del df_chunk\n",
        "\n",
        "        \n",
        "        if(count==30):\n",
        "          break\n",
        "        else:\n",
        "          count+=1  \n",
        "        \n",
        "  \n",
        "  train_df = pd.concat(df_list)\n",
        "  del df_list\n",
        "  return train_df\n"
      ],
      "execution_count": 8,
      "outputs": []
    },
    {
      "cell_type": "code",
      "metadata": {
        "colab": {
          "base_uri": "https://localhost:8080/"
        },
        "id": "LjxpgJGiw4Mh",
        "outputId": "f0b4b79f-818a-4683-c909-ae5097ebb720"
      },
      "source": [
        "train_df = processed_data('train.csv')"
      ],
      "execution_count": null,
      "outputs": [
        {
          "output_type": "stream",
          "text": [
            "20it [2:02:28, 367.53s/it]"
          ],
          "name": "stderr"
        }
      ]
    },
    {
      "cell_type": "markdown",
      "metadata": {
        "id": "EswZ-Z2VutdU"
      },
      "source": [
        "First i will remove all duplicates from our data and then  sample this data due to memory limitations and save that sampled data for future use."
      ]
    },
    {
      "cell_type": "code",
      "metadata": {
        "id": "T3NoKQTWeK0C"
      },
      "source": [
        "train_df[train_df.duplicated(keep=False)]"
      ],
      "execution_count": null,
      "outputs": []
    },
    {
      "cell_type": "code",
      "metadata": {
        "id": "m5CZ8eUhPJMB"
      },
      "source": [
        "train_df.drop_duplicates(keep=False,inplace=True)"
      ],
      "execution_count": null,
      "outputs": []
    },
    {
      "cell_type": "markdown",
      "metadata": {
        "id": "iaE7sxRseM5B"
      },
      "source": [
        "Some duplicate data also exists which we will  filter out."
      ]
    },
    {
      "cell_type": "code",
      "metadata": {
        "id": "rcSGu65-3x5K"
      },
      "source": [
        "train_df.to_csv('/content/drive/MyDrive/NYC/mod_traincsv.csv',index=False)\n",
        "train_df.reset_index().to_feather('/content/drive/MyDrive/NYC/mod_trainfeather.feather')\n"
      ],
      "execution_count": null,
      "outputs": []
    },
    {
      "cell_type": "code",
      "metadata": {
        "id": "34qMxbUoKBS3"
      },
      "source": [
        "print(\"Done\")"
      ],
      "execution_count": null,
      "outputs": []
    },
    {
      "cell_type": "markdown",
      "metadata": {
        "id": "F5dwvQpSrixV"
      },
      "source": [
        "#### Further processing and inferences"
      ]
    },
    {
      "cell_type": "code",
      "metadata": {
        "id": "Zjokya7Q8lKO"
      },
      "source": [
        "train_df=pd.read_feather('/content/drive/MyDrive/NYC/mod_trainfeather.feather')\n"
      ],
      "execution_count": null,
      "outputs": []
    },
    {
      "cell_type": "code",
      "metadata": {
        "id": "HVkod8ib-R9U"
      },
      "source": [
        "train_df.set_index(\"index\", inplace = True)"
      ],
      "execution_count": null,
      "outputs": []
    },
    {
      "cell_type": "code",
      "metadata": {
        "id": "EXd4aD6EXofe"
      },
      "source": [
        "train_df.shape"
      ],
      "execution_count": null,
      "outputs": []
    },
    {
      "cell_type": "code",
      "metadata": {
        "id": "LWl6MT88Xofi"
      },
      "source": [
        "train_df.info()"
      ],
      "execution_count": null,
      "outputs": []
    },
    {
      "cell_type": "code",
      "metadata": {
        "id": "TWTfI5HiXofh"
      },
      "source": [
        "train_df.describe()"
      ],
      "execution_count": null,
      "outputs": []
    },
    {
      "cell_type": "markdown",
      "metadata": {
        "id": "gztSjq1X4ovm"
      },
      "source": [
        "As we are using float16 dtype that's why getting NaN mean for some columns let's convert the dtype for these columns."
      ]
    },
    {
      "cell_type": "code",
      "metadata": {
        "id": "QtKHp41E4EzF"
      },
      "source": [
        "train_df.columns"
      ],
      "execution_count": null,
      "outputs": []
    },
    {
      "cell_type": "code",
      "metadata": {
        "id": "ME_3QJ-K4-vj"
      },
      "source": [
        "cols=['geodesic',\n",
        "       'pickup_distance_to_jfk', 'dropoff_distance_to_jfk',\n",
        "       'pickup_distance_to_ewr', 'dropoff_distance_to_ewr',\n",
        "       'pickup_distance_to_lgr', 'dropoff_distance_to_lgr',\n",
        "       'pickup_distance_to_tsq', 'dropoff_distance_to_tsq',\n",
        "       'pickup_distance_to_met', 'dropoff_distance_to_met']"
      ],
      "execution_count": null,
      "outputs": []
    },
    {
      "cell_type": "code",
      "metadata": {
        "id": "qrwRYKMm37gA"
      },
      "source": [
        "train_df[cols]=train_df[cols].astype('float32')"
      ],
      "execution_count": null,
      "outputs": []
    },
    {
      "cell_type": "code",
      "metadata": {
        "id": "DAMZKP3h4LWx"
      },
      "source": [
        "train_df.describe()"
      ],
      "execution_count": null,
      "outputs": []
    },
    {
      "cell_type": "code",
      "metadata": {
        "colab": {
          "base_uri": "https://localhost:8080/",
          "height": 459
        },
        "id": "D2C8Sm7xXxML",
        "outputId": "a13a6fb4-5838-4558-f0aa-d8f6b31b9802"
      },
      "source": [
        "plt.figure(figsize=(15,7))\n",
        "plt.scatter(x=train_df['passenger_count'], y=train_df['fare_amount'], s=1.5)\n",
        "plt.xlabel('No. of Passengers')\n",
        "plt.ylabel('Fare')"
      ],
      "execution_count": null,
      "outputs": [
        {
          "output_type": "execute_result",
          "data": {
            "text/plain": [
              "Text(0, 0.5, 'Fare')"
            ]
          },
          "metadata": {
            "tags": []
          },
          "execution_count": 12
        },
        {
          "output_type": "display_data",
          "data": {
            "image/png": "[encoded data removed]",
            "text/plain": [
              "<Figure size 1080x504 with 1 Axes>"
            ]
          },
          "metadata": {
            "tags": []
          }
        }
      ]
    },
    {
      "cell_type": "markdown",
      "metadata": {
        "id": "wlKFApyg62l5"
      },
      "source": [
        "Above graph indicates that  single passengers are the most frequent travellers, and the highest fare also seems to come from cabs which carry just 1 passenger."
      ]
    },
    {
      "cell_type": "code",
      "metadata": {
        "colab": {
          "base_uri": "https://localhost:8080/",
          "height": 459
        },
        "id": "56I94ZL9Xzzi",
        "outputId": "a5b3defa-ce24-4ee4-bbf6-b0f0ae1e7fe3"
      },
      "source": [
        "plt.figure(figsize=(15,7))\n",
        "plt.scatter(x=train_df['day'], y=train_df['fare_amount'], s=5)\n",
        "plt.xlabel('Day')\n",
        "plt.ylabel('Fare')"
      ],
      "execution_count": null,
      "outputs": [
        {
          "output_type": "execute_result",
          "data": {
            "text/plain": [
              "Text(0, 0.5, 'Fare')"
            ]
          },
          "metadata": {
            "tags": []
          },
          "execution_count": 16
        },
        {
          "output_type": "display_data",
          "data": {
            "image/png": "[encoded data removed]",
            "text/plain": [
              "<Figure size 1080x504 with 1 Axes>"
            ]
          },
          "metadata": {
            "tags": []
          }
        }
      ]
    },
    {
      "cell_type": "markdown",
      "metadata": {
        "id": "hPkku39L9tiR"
      },
      "source": [
        "from above graph Fare  is comparatively  higher on  Sunday."
      ]
    },
    {
      "cell_type": "code",
      "metadata": {
        "colab": {
          "base_uri": "https://localhost:8080/",
          "height": 459
        },
        "id": "-XPb_zmGX2Wn",
        "outputId": "3ae0b48f-a193-4f87-b98b-139999f7bced"
      },
      "source": [
        "plt.figure(figsize=(15,7))\n",
        "plt.scatter(x=train_df['month'], y=train_df['fare_amount'], s=5)\n",
        "plt.xlabel('Month')\n",
        "plt.ylabel('Fare')"
      ],
      "execution_count": null,
      "outputs": [
        {
          "output_type": "execute_result",
          "data": {
            "text/plain": [
              "Text(0, 0.5, 'Fare')"
            ]
          },
          "metadata": {
            "tags": []
          },
          "execution_count": 17
        },
        {
          "output_type": "display_data",
          "data": {
            "image/png": "[encoded data removed]",
            "text/plain": [
              "<Figure size 1080x504 with 1 Axes>"
            ]
          },
          "metadata": {
            "tags": []
          }
        }
      ]
    },
    {
      "cell_type": "markdown",
      "metadata": {
        "id": "49Fq_5oO9me2"
      },
      "source": [
        "From above graph no particular pattern among these emerges except that recorded fare is quite low for January and December as compared to other months."
      ]
    },
    {
      "cell_type": "code",
      "metadata": {
        "colab": {
          "base_uri": "https://localhost:8080/",
          "height": 459
        },
        "id": "Q0qL8KCNX4Xg",
        "outputId": "7f336d74-70e9-4771-80e8-a617cad4bb8f"
      },
      "source": [
        "plt.figure(figsize=(15,7))\n",
        "plt.scatter(x=train_df['hh'], y=train_df['fare_amount'], s=5)\n",
        "plt.xlabel('Hour')\n",
        "plt.ylabel('Fare')"
      ],
      "execution_count": null,
      "outputs": [
        {
          "output_type": "execute_result",
          "data": {
            "text/plain": [
              "Text(0, 0.5, 'Fare')"
            ]
          },
          "metadata": {
            "tags": []
          },
          "execution_count": 18
        },
        {
          "output_type": "display_data",
          "data": {
            "image/png": "[encoded data removed]",
            "text/plain": [
              "<Figure size 1080x504 with 1 Axes>"
            ]
          },
          "metadata": {
            "tags": []
          }
        }
      ]
    },
    {
      "cell_type": "code",
      "metadata": {
        "colab": {
          "base_uri": "https://localhost:8080/",
          "height": 470
        },
        "id": "CUerG0GpX6cq",
        "outputId": "efcaab9a-9c7d-48e9-8e9c-04065a55e675"
      },
      "source": [
        "train_df.sort_values(['geodesic','fare_amount'], ascending=False)"
      ],
      "execution_count": null,
      "outputs": [
        {
          "output_type": "execute_result",
          "data": {
            "text/html": [
              "<div>\n",
              "<style scoped>\n",
              "    .dataframe tbody tr th:only-of-type {\n",
              "        vertical-align: middle;\n",
              "    }\n",
              "\n",
              "    .dataframe tbody tr th {\n",
              "        vertical-align: top;\n",
              "    }\n",
              "\n",
              "    .dataframe thead th {\n",
              "        text-align: right;\n",
              "    }\n",
              "</style>\n",
              "<table border=\"1\" class=\"dataframe\">\n",
              "  <thead>\n",
              "    <tr style=\"text-align: right;\">\n",
              "      <th></th>\n",
              "      <th>fare_amount</th>\n",
              "      <th>passenger_count</th>\n",
              "      <th>diff_lat</th>\n",
              "      <th>diff_long</th>\n",
              "      <th>geodesic</th>\n",
              "      <th>pickup_distance_to_jfk</th>\n",
              "      <th>dropoff_distance_to_jfk</th>\n",
              "      <th>pickup_distance_to_ewr</th>\n",
              "      <th>dropoff_distance_to_ewr</th>\n",
              "      <th>pickup_distance_to_lgr</th>\n",
              "      <th>dropoff_distance_to_lgr</th>\n",
              "      <th>pickup_distance_to_tsq</th>\n",
              "      <th>dropoff_distance_to_tsq</th>\n",
              "      <th>pickup_distance_to_met</th>\n",
              "      <th>dropoff_distance_to_met</th>\n",
              "      <th>day</th>\n",
              "      <th>month</th>\n",
              "      <th>year</th>\n",
              "      <th>hh</th>\n",
              "      <th>mm</th>\n",
              "      <th>ss</th>\n",
              "    </tr>\n",
              "    <tr>\n",
              "      <th>index</th>\n",
              "      <th></th>\n",
              "      <th></th>\n",
              "      <th></th>\n",
              "      <th></th>\n",
              "      <th></th>\n",
              "      <th></th>\n",
              "      <th></th>\n",
              "      <th></th>\n",
              "      <th></th>\n",
              "      <th></th>\n",
              "      <th></th>\n",
              "      <th></th>\n",
              "      <th></th>\n",
              "      <th></th>\n",
              "      <th></th>\n",
              "      <th></th>\n",
              "      <th></th>\n",
              "      <th></th>\n",
              "      <th></th>\n",
              "      <th></th>\n",
              "      <th></th>\n",
              "    </tr>\n",
              "  </thead>\n",
              "  <tbody>\n",
              "    <tr>\n",
              "      <th>17751102</th>\n",
              "      <td>8.5</td>\n",
              "      <td>2</td>\n",
              "      <td>0.696815</td>\n",
              "      <td>2.113548</td>\n",
              "      <td>195.375</td>\n",
              "      <td>87.415489</td>\n",
              "      <td>34.126694</td>\n",
              "      <td>107.729042</td>\n",
              "      <td>13.428939</td>\n",
              "      <td>96.239128</td>\n",
              "      <td>27.838921</td>\n",
              "      <td>107.729042</td>\n",
              "      <td>13.428939</td>\n",
              "      <td>100.403580</td>\n",
              "      <td>23.174129</td>\n",
              "      <td>6</td>\n",
              "      <td>6</td>\n",
              "      <td>2010</td>\n",
              "      <td>4</td>\n",
              "      <td>34</td>\n",
              "      <td>0</td>\n",
              "    </tr>\n",
              "    <tr>\n",
              "      <th>14229824</th>\n",
              "      <td>8.9</td>\n",
              "      <td>5</td>\n",
              "      <td>0.581558</td>\n",
              "      <td>1.969658</td>\n",
              "      <td>179.125</td>\n",
              "      <td>99.543098</td>\n",
              "      <td>11.659762</td>\n",
              "      <td>120.283432</td>\n",
              "      <td>10.616741</td>\n",
              "      <td>107.684731</td>\n",
              "      <td>6.652132</td>\n",
              "      <td>120.283432</td>\n",
              "      <td>10.616741</td>\n",
              "      <td>112.044075</td>\n",
              "      <td>4.219329</td>\n",
              "      <td>4</td>\n",
              "      <td>1</td>\n",
              "      <td>2009</td>\n",
              "      <td>2</td>\n",
              "      <td>32</td>\n",
              "      <td>0</td>\n",
              "    </tr>\n",
              "    <tr>\n",
              "      <th>14360243</th>\n",
              "      <td>9.0</td>\n",
              "      <td>1</td>\n",
              "      <td>0.725048</td>\n",
              "      <td>1.832603</td>\n",
              "      <td>175.250</td>\n",
              "      <td>96.012314</td>\n",
              "      <td>12.804369</td>\n",
              "      <td>116.322525</td>\n",
              "      <td>10.993978</td>\n",
              "      <td>104.808784</td>\n",
              "      <td>5.858243</td>\n",
              "      <td>116.322525</td>\n",
              "      <td>10.993978</td>\n",
              "      <td>108.985870</td>\n",
              "      <td>2.377357</td>\n",
              "      <td>6</td>\n",
              "      <td>9</td>\n",
              "      <td>2013</td>\n",
              "      <td>17</td>\n",
              "      <td>22</td>\n",
              "      <td>31</td>\n",
              "    </tr>\n",
              "    <tr>\n",
              "      <th>31417953</th>\n",
              "      <td>3.7</td>\n",
              "      <td>1</td>\n",
              "      <td>0.072586</td>\n",
              "      <td>2.082512</td>\n",
              "      <td>174.750</td>\n",
              "      <td>96.629478</td>\n",
              "      <td>44.225231</td>\n",
              "      <td>114.257469</td>\n",
              "      <td>34.920227</td>\n",
              "      <td>97.405411</td>\n",
              "      <td>33.602566</td>\n",
              "      <td>114.257469</td>\n",
              "      <td>34.920227</td>\n",
              "      <td>101.718727</td>\n",
              "      <td>31.312586</td>\n",
              "      <td>4</td>\n",
              "      <td>9</td>\n",
              "      <td>2010</td>\n",
              "      <td>9</td>\n",
              "      <td>6</td>\n",
              "      <td>31</td>\n",
              "    </tr>\n",
              "    <tr>\n",
              "      <th>9363026</th>\n",
              "      <td>7.5</td>\n",
              "      <td>1</td>\n",
              "      <td>0.684410</td>\n",
              "      <td>1.863632</td>\n",
              "      <td>174.000</td>\n",
              "      <td>13.214177</td>\n",
              "      <td>102.517868</td>\n",
              "      <td>11.003263</td>\n",
              "      <td>118.934494</td>\n",
              "      <td>5.884872</td>\n",
              "      <td>102.168045</td>\n",
              "      <td>11.003263</td>\n",
              "      <td>118.934494</td>\n",
              "      <td>2.035568</td>\n",
              "      <td>106.265953</td>\n",
              "      <td>1</td>\n",
              "      <td>2</td>\n",
              "      <td>2014</td>\n",
              "      <td>11</td>\n",
              "      <td>1</td>\n",
              "      <td>0</td>\n",
              "    </tr>\n",
              "    <tr>\n",
              "      <th>...</th>\n",
              "      <td>...</td>\n",
              "      <td>...</td>\n",
              "      <td>...</td>\n",
              "      <td>...</td>\n",
              "      <td>...</td>\n",
              "      <td>...</td>\n",
              "      <td>...</td>\n",
              "      <td>...</td>\n",
              "      <td>...</td>\n",
              "      <td>...</td>\n",
              "      <td>...</td>\n",
              "      <td>...</td>\n",
              "      <td>...</td>\n",
              "      <td>...</td>\n",
              "      <td>...</td>\n",
              "      <td>...</td>\n",
              "      <td>...</td>\n",
              "      <td>...</td>\n",
              "      <td>...</td>\n",
              "      <td>...</td>\n",
              "      <td>...</td>\n",
              "    </tr>\n",
              "    <tr>\n",
              "      <th>29325539</th>\n",
              "      <td>3.3</td>\n",
              "      <td>1</td>\n",
              "      <td>0.008080</td>\n",
              "      <td>0.005241</td>\n",
              "      <td>1.000</td>\n",
              "      <td>12.803222</td>\n",
              "      <td>12.662766</td>\n",
              "      <td>12.127374</td>\n",
              "      <td>11.654166</td>\n",
              "      <td>4.798774</td>\n",
              "      <td>5.209507</td>\n",
              "      <td>12.127374</td>\n",
              "      <td>11.654166</td>\n",
              "      <td>1.202835</td>\n",
              "      <td>1.785233</td>\n",
              "      <td>3</td>\n",
              "      <td>12</td>\n",
              "      <td>2009</td>\n",
              "      <td>16</td>\n",
              "      <td>23</td>\n",
              "      <td>46</td>\n",
              "    </tr>\n",
              "    <tr>\n",
              "      <th>29692819</th>\n",
              "      <td>3.3</td>\n",
              "      <td>5</td>\n",
              "      <td>0.008965</td>\n",
              "      <td>0.001137</td>\n",
              "      <td>1.000</td>\n",
              "      <td>13.490068</td>\n",
              "      <td>13.733765</td>\n",
              "      <td>9.249315</td>\n",
              "      <td>9.515272</td>\n",
              "      <td>7.628980</td>\n",
              "      <td>7.337739</td>\n",
              "      <td>9.249315</td>\n",
              "      <td>9.515272</td>\n",
              "      <td>4.034672</td>\n",
              "      <td>3.502423</td>\n",
              "      <td>0</td>\n",
              "      <td>9</td>\n",
              "      <td>2010</td>\n",
              "      <td>14</td>\n",
              "      <td>28</td>\n",
              "      <td>0</td>\n",
              "    </tr>\n",
              "    <tr>\n",
              "      <th>17270481</th>\n",
              "      <td>3.0</td>\n",
              "      <td>1</td>\n",
              "      <td>0.007317</td>\n",
              "      <td>0.006905</td>\n",
              "      <td>1.000</td>\n",
              "      <td>13.599114</td>\n",
              "      <td>13.079818</td>\n",
              "      <td>8.333427</td>\n",
              "      <td>8.600915</td>\n",
              "      <td>8.718868</td>\n",
              "      <td>8.676017</td>\n",
              "      <td>8.333427</td>\n",
              "      <td>8.600915</td>\n",
              "      <td>5.338222</td>\n",
              "      <td>5.594294</td>\n",
              "      <td>2</td>\n",
              "      <td>10</td>\n",
              "      <td>2012</td>\n",
              "      <td>21</td>\n",
              "      <td>44</td>\n",
              "      <td>32</td>\n",
              "    </tr>\n",
              "    <tr>\n",
              "      <th>2276343</th>\n",
              "      <td>2.5</td>\n",
              "      <td>2</td>\n",
              "      <td>0.007137</td>\n",
              "      <td>0.007225</td>\n",
              "      <td>1.000</td>\n",
              "      <td>12.659040</td>\n",
              "      <td>13.215681</td>\n",
              "      <td>9.584215</td>\n",
              "      <td>9.341351</td>\n",
              "      <td>7.492125</td>\n",
              "      <td>7.582194</td>\n",
              "      <td>9.584215</td>\n",
              "      <td>9.341351</td>\n",
              "      <td>4.431481</td>\n",
              "      <td>4.159116</td>\n",
              "      <td>1</td>\n",
              "      <td>6</td>\n",
              "      <td>2009</td>\n",
              "      <td>23</td>\n",
              "      <td>31</td>\n",
              "      <td>57</td>\n",
              "    </tr>\n",
              "    <tr>\n",
              "      <th>26038230</th>\n",
              "      <td>2.5</td>\n",
              "      <td>1</td>\n",
              "      <td>0.000893</td>\n",
              "      <td>0.011787</td>\n",
              "      <td>1.000</td>\n",
              "      <td>13.370586</td>\n",
              "      <td>12.835083</td>\n",
              "      <td>10.798845</td>\n",
              "      <td>11.341398</td>\n",
              "      <td>6.095894</td>\n",
              "      <td>5.522610</td>\n",
              "      <td>10.798845</td>\n",
              "      <td>11.341398</td>\n",
              "      <td>2.169178</td>\n",
              "      <td>1.955597</td>\n",
              "      <td>3</td>\n",
              "      <td>1</td>\n",
              "      <td>2013</td>\n",
              "      <td>7</td>\n",
              "      <td>47</td>\n",
              "      <td>10</td>\n",
              "    </tr>\n",
              "  </tbody>\n",
              "</table>\n",
              "<p>26041121 rows × 21 columns</p>\n",
              "</div>"
            ],
            "text/plain": [
              "          fare_amount  passenger_count  diff_lat  diff_long  ...  year  hh  mm  ss\n",
              "index                                                        ...                  \n",
              "17751102          8.5                2  0.696815   2.113548  ...  2010   4  34   0\n",
              "14229824          8.9                5  0.581558   1.969658  ...  2009   2  32   0\n",
              "14360243          9.0                1  0.725048   1.832603  ...  2013  17  22  31\n",
              "31417953          3.7                1  0.072586   2.082512  ...  2010   9   6  31\n",
              "9363026           7.5                1  0.684410   1.863632  ...  2014  11   1   0\n",
              "...               ...              ...       ...        ...  ...   ...  ..  ..  ..\n",
              "29325539          3.3                1  0.008080   0.005241  ...  2009  16  23  46\n",
              "29692819          3.3                5  0.008965   0.001137  ...  2010  14  28   0\n",
              "17270481          3.0                1  0.007317   0.006905  ...  2012  21  44  32\n",
              "2276343           2.5                2  0.007137   0.007225  ...  2009  23  31  57\n",
              "26038230          2.5                1  0.000893   0.011787  ...  2013   7  47  10\n",
              "\n",
              "[26041121 rows x 21 columns]"
            ]
          },
          "metadata": {
            "tags": []
          },
          "execution_count": 19
        }
      ]
    },
    {
      "cell_type": "code",
      "metadata": {
        "colab": {
          "base_uri": "https://localhost:8080/"
        },
        "id": "HFO9X6JP-_Nv",
        "outputId": "3feb8566-9767-4f6c-ac83-abce105e4ae6"
      },
      "source": [
        "bins_0 = train_df.loc[(train_df['geodesic'] == 0), ['geodesic']]\n",
        "bins_1 = train_df.loc[(train_df['geodesic'] > 0) & (train_df['geodesic'] <= 10),['geodesic']]\n",
        "bins_2 = train_df.loc[(train_df['geodesic'] > 10) & (train_df['geodesic'] <= 50),['geodesic']]\n",
        "bins_3 = train_df.loc[(train_df['geodesic'] > 50) & (train_df['geodesic'] <= 100),['geodesic']]\n",
        "bins_4 = train_df.loc[(train_df['geodesic'] > 100) & (train_df['geodesic'] <= 200),['geodesic']]\n",
        "bins_5 = train_df.loc[(train_df['geodesic'] > 200) & (train_df['geodesic'] <= 300),['geodesic']]\n",
        "bins_6 = train_df.loc[(train_df['geodesic'] > 300),['geodesic']]\n",
        "bins_0['bins'] = '0'\n",
        "bins_1['bins'] = '0-10'\n",
        "bins_2['bins'] = '11-50'\n",
        "bins_3['bins'] = '51-100'\n",
        "bins_4['bins'] = '100-200'\n",
        "bins_5['bins'] = '201-300'\n",
        "bins_6['bins'] = '>300'\n",
        "dist_bins =pd.concat([bins_0,bins_1,bins_2,bins_3,bins_4,bins_5,bins_6])\n",
        "#len(dist_bins)\n",
        "dist_bins.columns"
      ],
      "execution_count": null,
      "outputs": [
        {
          "output_type": "execute_result",
          "data": {
            "text/plain": [
              "Index(['geodesic', 'bins'], dtype='object')"
            ]
          },
          "metadata": {
            "tags": []
          },
          "execution_count": 26
        }
      ]
    },
    {
      "cell_type": "code",
      "metadata": {
        "colab": {
          "base_uri": "https://localhost:8080/",
          "height": 470
        },
        "id": "_bmTXZATX-w_",
        "outputId": "6ee61e64-2ead-4ac9-f912-6054b06fe70d"
      },
      "source": [
        "plt.figure(figsize=(15,7))\n",
        "plt.hist(dist_bins['bins'], bins=50)\n",
        "plt.xlabel('Bins')\n",
        "plt.ylabel('Frequency')"
      ],
      "execution_count": null,
      "outputs": [
        {
          "output_type": "execute_result",
          "data": {
            "text/plain": [
              "Text(0, 0.5, 'Frequency')"
            ]
          },
          "metadata": {
            "tags": []
          },
          "execution_count": 27
        },
        {
          "output_type": "display_data",
          "data": {
            "image/png": "[encoded data removed]",
            "text/plain": [
              "<Figure size 1080x504 with 1 Axes>"
            ]
          },
          "metadata": {
            "tags": []
          }
        }
      ]
    },
    {
      "cell_type": "code",
      "metadata": {
        "colab": {
          "base_uri": "https://localhost:8080/"
        },
        "id": "IAsPwxrRYBWd",
        "outputId": "21802d8b-1c54-486d-c755-75a882b2b6dd"
      },
      "source": [
        "Counter(dist_bins['bins'])"
      ],
      "execution_count": null,
      "outputs": [
        {
          "output_type": "execute_result",
          "data": {
            "text/plain": [
              "Counter({'0-10': 24466626, '11-50': 1568642, '51-100': 4650})"
            ]
          },
          "metadata": {
            "tags": []
          },
          "execution_count": 28
        }
      ]
    },
    {
      "cell_type": "markdown",
      "metadata": {
        "id": "_BwX3XsgAPUJ"
      },
      "source": [
        "Since the distance 51-100 Kms is quite large for a cab in NYC and has quite less corresponding data rows too we can drop this data."
      ]
    },
    {
      "cell_type": "code",
      "metadata": {
        "id": "iqpiHAsE_st2"
      },
      "source": [
        "train_df=train_df[train_df['geodesic']<100]"
      ],
      "execution_count": null,
      "outputs": []
    },
    {
      "cell_type": "code",
      "metadata": {
        "colab": {
          "base_uri": "https://localhost:8080/",
          "height": 306
        },
        "id": "okdmaUwEYFnP",
        "outputId": "450046d6-7067-4d7a-9ebc-765e7cbae044"
      },
      "source": [
        "figure,(ax1,ax2,ax3,ax4)=plt.subplots(ncols=4,figsize=(30,5))\n",
        "ax1.set_title('Pickup Years')\n",
        "ax=sns.countplot(x=\"year\",data=train_df,ax=ax1)\n",
        "ax2.set_title('Pickup Months')\n",
        "ax=sns.countplot(x=\"month\",data=train_df,ax=ax2)\n",
        "ax3.set_title('Pickup Days')\n",
        "ax=sns.countplot(x=\"day\",data=train_df,ax=ax3)\n",
        "ax4.set_title('Pickup Hour')\n",
        "ax=sns.countplot(x=\"hh\",data=train_df,ax=ax4)\n",
        "\n"
      ],
      "execution_count": null,
      "outputs": [
        {
          "output_type": "display_data",
          "data": {
            "image/png": "[encoded data removed]",
            "text/plain": [
              "<Figure size 2160x360 with 4 Axes>"
            ]
          },
          "metadata": {
            "tags": []
          }
        }
      ]
    },
    {
      "cell_type": "markdown",
      "metadata": {
        "id": "vplBk6rUDykN"
      },
      "source": [
        "From above graphs following observations can be made:\n",
        "\n",
        "\n",
        "1.   Over the year total pickups have more or less remains the same but we can see very low value for year 2015 which is  due to the data not being for the complete year in case of 2015.\n",
        "\n",
        "2.   As the year progressed the total pickups have gone down a bit month to month basis after initial high of first six months\n",
        "\n",
        "3. Most pickups are made in weekdays compared to weekends\n",
        "\n",
        "4. Most pickups are made 6 PM -11 PM \n",
        "\n"
      ]
    },
    {
      "cell_type": "code",
      "metadata": {
        "colab": {
          "base_uri": "https://localhost:8080/",
          "height": 309
        },
        "id": "pNvTSeZUYHd4",
        "outputId": "ca3d440f-5260-4a5c-9b8e-daf7f1f48197"
      },
      "source": [
        "figure,(ax1,ax2,ax3,ax4)=plt.subplots(ncols=4,figsize=(30,5))\n",
        "ax1.set_title('Mean fare Years')\n",
        "fair_yearmean=train_df.groupby('year')[\"fare_amount\"].mean()\n",
        "ax=sns.barplot(fair_yearmean.index,fair_yearmean.values,ax=ax1)\n",
        "\n",
        "ax2.set_title('Mean fare Months')\n",
        "fair_monthmean=train_df.groupby('month')[\"fare_amount\"].mean()\n",
        "ax=sns.barplot(fair_monthmean.index,fair_monthmean.values,ax=ax2)\n",
        "\n",
        "ax3.set_title('Mean fare Days')\n",
        "fair_daymean=train_df.groupby('day')[\"fare_amount\"].mean()\n",
        "ax=sns.barplot(fair_daymean.index,fair_daymean.values,ax=ax3)\n",
        "\n",
        "ax4.set_title('Mean fare Hour')\n",
        "fair_hourmean=train_df.groupby('hh')[\"fare_amount\"].mean()\n",
        "ax=sns.barplot(fair_hourmean.index,fair_hourmean.values,ax=ax4)\n",
        "\n"
      ],
      "execution_count": null,
      "outputs": [
        {
          "output_type": "display_data",
          "data": {
            "image/png": "[encoded data removed]",
            "text/plain": [
              "<Figure size 2160x360 with 4 Axes>"
            ]
          },
          "metadata": {
            "tags": []
          }
        }
      ]
    },
    {
      "cell_type": "markdown",
      "metadata": {
        "id": "IORfLvQTEvF1"
      },
      "source": [
        "From above graphs following observations can be made:\n",
        "\n",
        "1.   Over the years mean fare has increased in a progressive manner\n",
        "2.   Over the months more or less mean fare has remained almost same with little variation for some months here and there\n",
        "3. Mean fare remains similar for all days of the week with a little variation \n",
        "4. Mean fare is high for 4 AM -6 AM as opposed to other hours of the day \n",
        "\n",
        "\n"
      ]
    },
    {
      "cell_type": "code",
      "metadata": {
        "id": "hRZ9e2cHIVHq"
      },
      "source": [
        "train_df.reset_index().to_csv('/content/drive/MyDrive/NYC/mod_traincsv.csv',index=False)"
      ],
      "execution_count": null,
      "outputs": []
    },
    {
      "cell_type": "code",
      "metadata": {
        "id": "L0gchvQVW6pp"
      },
      "source": [
        "train_df.reset_index().to_feather('/content/drive/MyDrive/NYC/mod_trainfeather.feather')"
      ],
      "execution_count": null,
      "outputs": []
    },
    {
      "cell_type": "markdown",
      "metadata": {
        "id": "ZdfD7rXdkJ40"
      },
      "source": [
        "#Training/Validation sets"
      ]
    },
    {
      "cell_type": "code",
      "metadata": {
        "id": "o2xad4cniYR8"
      },
      "source": [
        "train_df=pd.read_feather('/content/drive/MyDrive/NYC/mod_trainfeather.feather')\n",
        "train_df.set_index(\"index\", inplace = True)"
      ],
      "execution_count": null,
      "outputs": []
    },
    {
      "cell_type": "code",
      "metadata": {
        "id": "lZ913XcsXTtA"
      },
      "source": [
        "train=train_df.sample(10_000_000)\n"
      ],
      "execution_count": null,
      "outputs": []
    },
    {
      "cell_type": "code",
      "metadata": {
        "id": "fxw6VTyRrLwl"
      },
      "source": [
        "train=train[train[\"year\"]<2013]\n",
        "valid=train[train[\"year\"]>=2013]"
      ],
      "execution_count": null,
      "outputs": []
    },
    {
      "cell_type": "code",
      "metadata": {
        "id": "Vm_uyjxy-wwc"
      },
      "source": [
        "# X_train,y_train= train.drop('fare_amount', axis = 1),train['fare_amount']\n",
        "# X_test,y_test= valid.drop('fare_amount', axis = 1),valid['fare_amount']"
      ],
      "execution_count": null,
      "outputs": []
    },
    {
      "cell_type": "code",
      "metadata": {
        "colab": {
          "base_uri": "https://localhost:8080/"
        },
        "id": "JWSIdvlDwxAh",
        "outputId": "eaec6006-b952-4200-bacd-07c1703a6af2"
      },
      "source": [
        "train"
      ],
      "execution_count": null,
      "outputs": [
        {
          "output_type": "execute_result",
          "data": {
            "text/html": [
              "<div>\n",
              "<style scoped>\n",
              "    .dataframe tbody tr th:only-of-type {\n",
              "        vertical-align: middle;\n",
              "    }\n",
              "\n",
              "    .dataframe tbody tr th {\n",
              "        vertical-align: top;\n",
              "    }\n",
              "\n",
              "    .dataframe thead th {\n",
              "        text-align: right;\n",
              "    }\n",
              "</style>\n",
              "<table border=\"1\" class=\"dataframe\">\n",
              "  <thead>\n",
              "    <tr style=\"text-align: right;\">\n",
              "      <th></th>\n",
              "      <th>fare_amount</th>\n",
              "      <th>passenger_count</th>\n",
              "      <th>diff_lat</th>\n",
              "      <th>diff_long</th>\n",
              "      <th>geodesic</th>\n",
              "      <th>pickup_distance_to_jfk</th>\n",
              "      <th>dropoff_distance_to_jfk</th>\n",
              "      <th>pickup_distance_to_ewr</th>\n",
              "      <th>dropoff_distance_to_ewr</th>\n",
              "      <th>pickup_distance_to_lgr</th>\n",
              "      <th>dropoff_distance_to_lgr</th>\n",
              "      <th>pickup_distance_to_tsq</th>\n",
              "      <th>dropoff_distance_to_tsq</th>\n",
              "      <th>pickup_distance_to_met</th>\n",
              "      <th>dropoff_distance_to_met</th>\n",
              "      <th>day</th>\n",
              "      <th>month</th>\n",
              "      <th>year</th>\n",
              "      <th>hh</th>\n",
              "      <th>mm</th>\n",
              "      <th>ss</th>\n",
              "    </tr>\n",
              "    <tr>\n",
              "      <th>index</th>\n",
              "      <th></th>\n",
              "      <th></th>\n",
              "      <th></th>\n",
              "      <th></th>\n",
              "      <th></th>\n",
              "      <th></th>\n",
              "      <th></th>\n",
              "      <th></th>\n",
              "      <th></th>\n",
              "      <th></th>\n",
              "      <th></th>\n",
              "      <th></th>\n",
              "      <th></th>\n",
              "      <th></th>\n",
              "      <th></th>\n",
              "      <th></th>\n",
              "      <th></th>\n",
              "      <th></th>\n",
              "      <th></th>\n",
              "      <th></th>\n",
              "      <th></th>\n",
              "    </tr>\n",
              "  </thead>\n",
              "  <tbody>\n",
              "    <tr>\n",
              "      <th>28934275</th>\n",
              "      <td>31.700001</td>\n",
              "      <td>1</td>\n",
              "      <td>0.064514</td>\n",
              "      <td>0.143341</td>\n",
              "      <td>14.070312</td>\n",
              "      <td>10.466210</td>\n",
              "      <td>13.419312</td>\n",
              "      <td>16.752930</td>\n",
              "      <td>8.317727</td>\n",
              "      <td>0.205267</td>\n",
              "      <td>8.858365</td>\n",
              "      <td>16.752930</td>\n",
              "      <td>8.317727</td>\n",
              "      <td>4.652731</td>\n",
              "      <td>5.618022</td>\n",
              "      <td>1</td>\n",
              "      <td>6</td>\n",
              "      <td>2012</td>\n",
              "      <td>21</td>\n",
              "      <td>31</td>\n",
              "      <td>15</td>\n",
              "    </tr>\n",
              "    <tr>\n",
              "      <th>14034199</th>\n",
              "      <td>8.100000</td>\n",
              "      <td>1</td>\n",
              "      <td>0.021198</td>\n",
              "      <td>0.002182</td>\n",
              "      <td>2.361328</td>\n",
              "      <td>12.701652</td>\n",
              "      <td>13.474294</td>\n",
              "      <td>10.812516</td>\n",
              "      <td>11.494651</td>\n",
              "      <td>6.045700</td>\n",
              "      <td>5.523302</td>\n",
              "      <td>10.812516</td>\n",
              "      <td>11.494651</td>\n",
              "      <td>2.689394</td>\n",
              "      <td>1.326164</td>\n",
              "      <td>0</td>\n",
              "      <td>10</td>\n",
              "      <td>2009</td>\n",
              "      <td>7</td>\n",
              "      <td>56</td>\n",
              "      <td>2</td>\n",
              "    </tr>\n",
              "    <tr>\n",
              "      <th>13657181</th>\n",
              "      <td>50.000000</td>\n",
              "      <td>1</td>\n",
              "      <td>0.111286</td>\n",
              "      <td>0.197006</td>\n",
              "      <td>20.734375</td>\n",
              "      <td>13.576308</td>\n",
              "      <td>0.707584</td>\n",
              "      <td>10.960054</td>\n",
              "      <td>20.409166</td>\n",
              "      <td>5.999753</td>\n",
              "      <td>10.000164</td>\n",
              "      <td>10.960054</td>\n",
              "      <td>20.409166</td>\n",
              "      <td>1.872246</td>\n",
              "      <td>12.903896</td>\n",
              "      <td>4</td>\n",
              "      <td>1</td>\n",
              "      <td>2009</td>\n",
              "      <td>6</td>\n",
              "      <td>29</td>\n",
              "      <td>1</td>\n",
              "    </tr>\n",
              "    <tr>\n",
              "      <th>5171031</th>\n",
              "      <td>14.500000</td>\n",
              "      <td>5</td>\n",
              "      <td>0.066502</td>\n",
              "      <td>0.031609</td>\n",
              "      <td>7.851562</td>\n",
              "      <td>12.747800</td>\n",
              "      <td>14.845475</td>\n",
              "      <td>11.193494</td>\n",
              "      <td>14.874285</td>\n",
              "      <td>5.659910</td>\n",
              "      <td>4.532965</td>\n",
              "      <td>11.193494</td>\n",
              "      <td>14.874285</td>\n",
              "      <td>2.199925</td>\n",
              "      <td>2.687253</td>\n",
              "      <td>3</td>\n",
              "      <td>4</td>\n",
              "      <td>2010</td>\n",
              "      <td>0</td>\n",
              "      <td>47</td>\n",
              "      <td>0</td>\n",
              "    </tr>\n",
              "    <tr>\n",
              "      <th>14450993</th>\n",
              "      <td>6.100000</td>\n",
              "      <td>1</td>\n",
              "      <td>0.009918</td>\n",
              "      <td>0.019142</td>\n",
              "      <td>1.956055</td>\n",
              "      <td>13.625646</td>\n",
              "      <td>13.341114</td>\n",
              "      <td>11.579642</td>\n",
              "      <td>12.785349</td>\n",
              "      <td>5.508020</td>\n",
              "      <td>4.464076</td>\n",
              "      <td>11.579642</td>\n",
              "      <td>12.785349</td>\n",
              "      <td>1.167463</td>\n",
              "      <td>0.262434</td>\n",
              "      <td>3</td>\n",
              "      <td>5</td>\n",
              "      <td>2010</td>\n",
              "      <td>23</td>\n",
              "      <td>42</td>\n",
              "      <td>0</td>\n",
              "    </tr>\n",
              "    <tr>\n",
              "      <th>...</th>\n",
              "      <td>...</td>\n",
              "      <td>...</td>\n",
              "      <td>...</td>\n",
              "      <td>...</td>\n",
              "      <td>...</td>\n",
              "      <td>...</td>\n",
              "      <td>...</td>\n",
              "      <td>...</td>\n",
              "      <td>...</td>\n",
              "      <td>...</td>\n",
              "      <td>...</td>\n",
              "      <td>...</td>\n",
              "      <td>...</td>\n",
              "      <td>...</td>\n",
              "      <td>...</td>\n",
              "      <td>...</td>\n",
              "      <td>...</td>\n",
              "      <td>...</td>\n",
              "      <td>...</td>\n",
              "      <td>...</td>\n",
              "      <td>...</td>\n",
              "    </tr>\n",
              "    <tr>\n",
              "      <th>27740154</th>\n",
              "      <td>6.500000</td>\n",
              "      <td>1</td>\n",
              "      <td>0.000664</td>\n",
              "      <td>0.012024</td>\n",
              "      <td>1.017578</td>\n",
              "      <td>13.713561</td>\n",
              "      <td>13.187313</td>\n",
              "      <td>10.969712</td>\n",
              "      <td>11.516497</td>\n",
              "      <td>6.030730</td>\n",
              "      <td>5.423452</td>\n",
              "      <td>10.969712</td>\n",
              "      <td>11.516497</td>\n",
              "      <td>1.803961</td>\n",
              "      <td>1.479073</td>\n",
              "      <td>4</td>\n",
              "      <td>7</td>\n",
              "      <td>2011</td>\n",
              "      <td>8</td>\n",
              "      <td>8</td>\n",
              "      <td>0</td>\n",
              "    </tr>\n",
              "    <tr>\n",
              "      <th>16465565</th>\n",
              "      <td>5.700000</td>\n",
              "      <td>5</td>\n",
              "      <td>0.012413</td>\n",
              "      <td>0.011993</td>\n",
              "      <td>1.710938</td>\n",
              "      <td>13.247827</td>\n",
              "      <td>13.244901</td>\n",
              "      <td>11.543442</td>\n",
              "      <td>10.620826</td>\n",
              "      <td>5.415627</td>\n",
              "      <td>6.243440</td>\n",
              "      <td>11.543442</td>\n",
              "      <td>10.620826</td>\n",
              "      <td>1.407459</td>\n",
              "      <td>2.462470</td>\n",
              "      <td>2</td>\n",
              "      <td>1</td>\n",
              "      <td>2012</td>\n",
              "      <td>20</td>\n",
              "      <td>19</td>\n",
              "      <td>0</td>\n",
              "    </tr>\n",
              "    <tr>\n",
              "      <th>29815251</th>\n",
              "      <td>6.900000</td>\n",
              "      <td>1</td>\n",
              "      <td>0.016060</td>\n",
              "      <td>0.007072</td>\n",
              "      <td>1.880859</td>\n",
              "      <td>13.150326</td>\n",
              "      <td>13.347498</td>\n",
              "      <td>9.231074</td>\n",
              "      <td>9.921978</td>\n",
              "      <td>7.736200</td>\n",
              "      <td>6.930858</td>\n",
              "      <td>9.231074</td>\n",
              "      <td>9.921978</td>\n",
              "      <td>4.393509</td>\n",
              "      <td>3.251718</td>\n",
              "      <td>3</td>\n",
              "      <td>6</td>\n",
              "      <td>2009</td>\n",
              "      <td>17</td>\n",
              "      <td>58</td>\n",
              "      <td>0</td>\n",
              "    </tr>\n",
              "    <tr>\n",
              "      <th>20497892</th>\n",
              "      <td>11.300000</td>\n",
              "      <td>1</td>\n",
              "      <td>0.004948</td>\n",
              "      <td>0.017609</td>\n",
              "      <td>1.585938</td>\n",
              "      <td>13.437027</td>\n",
              "      <td>12.759308</td>\n",
              "      <td>8.847322</td>\n",
              "      <td>9.826542</td>\n",
              "      <td>8.112537</td>\n",
              "      <td>7.138467</td>\n",
              "      <td>8.847322</td>\n",
              "      <td>9.826542</td>\n",
              "      <td>4.676507</td>\n",
              "      <td>3.937723</td>\n",
              "      <td>2</td>\n",
              "      <td>8</td>\n",
              "      <td>2012</td>\n",
              "      <td>18</td>\n",
              "      <td>40</td>\n",
              "      <td>44</td>\n",
              "    </tr>\n",
              "    <tr>\n",
              "      <th>20487383</th>\n",
              "      <td>8.500000</td>\n",
              "      <td>1</td>\n",
              "      <td>0.020000</td>\n",
              "      <td>0.004402</td>\n",
              "      <td>2.251953</td>\n",
              "      <td>12.836905</td>\n",
              "      <td>13.823052</td>\n",
              "      <td>10.675674</td>\n",
              "      <td>11.022189</td>\n",
              "      <td>6.179242</td>\n",
              "      <td>6.023481</td>\n",
              "      <td>10.675674</td>\n",
              "      <td>11.022189</td>\n",
              "      <td>2.728944</td>\n",
              "      <td>1.711182</td>\n",
              "      <td>5</td>\n",
              "      <td>8</td>\n",
              "      <td>2010</td>\n",
              "      <td>14</td>\n",
              "      <td>1</td>\n",
              "      <td>0</td>\n",
              "    </tr>\n",
              "  </tbody>\n",
              "</table>\n",
              "<p>6219638 rows × 21 columns</p>\n",
              "</div>"
            ],
            "text/plain": [
              "          fare_amount  passenger_count  diff_lat  diff_long  ...  year  hh  mm  ss\n",
              "index                                                        ...                  \n",
              "28934275    31.700001                1  0.064514   0.143341  ...  2012  21  31  15\n",
              "14034199     8.100000                1  0.021198   0.002182  ...  2009   7  56   2\n",
              "13657181    50.000000                1  0.111286   0.197006  ...  2009   6  29   1\n",
              "5171031     14.500000                5  0.066502   0.031609  ...  2010   0  47   0\n",
              "14450993     6.100000                1  0.009918   0.019142  ...  2010  23  42   0\n",
              "...               ...              ...       ...        ...  ...   ...  ..  ..  ..\n",
              "27740154     6.500000                1  0.000664   0.012024  ...  2011   8   8   0\n",
              "16465565     5.700000                5  0.012413   0.011993  ...  2012  20  19   0\n",
              "29815251     6.900000                1  0.016060   0.007072  ...  2009  17  58   0\n",
              "20497892    11.300000                1  0.004948   0.017609  ...  2012  18  40  44\n",
              "20487383     8.500000                1  0.020000   0.004402  ...  2010  14   1   0\n",
              "\n",
              "[6219638 rows x 21 columns]"
            ]
          },
          "metadata": {
            "tags": []
          },
          "execution_count": 6
        }
      ]
    },
    {
      "cell_type": "code",
      "metadata": {
        "id": "9JcgFRlewk8d"
      },
      "source": [
        "X,y= train.drop('fare_amount', axis = 1),train['fare_amount']"
      ],
      "execution_count": null,
      "outputs": []
    },
    {
      "cell_type": "code",
      "metadata": {
        "id": "1A4f72VAweX1"
      },
      "source": [
        "X_train, X_test, y_train, y_test = train_test_split(X, y, test_size=0.3, random_state=42)"
      ],
      "execution_count": null,
      "outputs": []
    },
    {
      "cell_type": "code",
      "metadata": {
        "id": "CeD7nJbKuZAg"
      },
      "source": [
        "# del train,valid"
      ],
      "execution_count": null,
      "outputs": []
    },
    {
      "cell_type": "code",
      "metadata": {
        "id": "9irn5DHt_UR1"
      },
      "source": [
        "# X_train, X_test, y_train, y_test = train_test_split(X, y, test_size=0.3, random_state=42)"
      ],
      "execution_count": null,
      "outputs": []
    },
    {
      "cell_type": "code",
      "metadata": {
        "id": "96R2ceyU_z0s"
      },
      "source": [
        "del X,y"
      ],
      "execution_count": null,
      "outputs": []
    },
    {
      "cell_type": "code",
      "metadata": {
        "colab": {
          "base_uri": "https://localhost:8080/"
        },
        "id": "LBzCoktVmLPD",
        "outputId": "2228b2b6-e757-4acd-b321-b970a011f4ff"
      },
      "source": [
        "X_train.shape,X_test.shape,y_train.shape,y_test.shape"
      ],
      "execution_count": null,
      "outputs": [
        {
          "output_type": "execute_result",
          "data": {
            "text/plain": [
              "((4353746, 20), (1865892, 20), (4353746,), (1865892,))"
            ]
          },
          "metadata": {
            "tags": []
          },
          "execution_count": 12
        }
      ]
    },
    {
      "cell_type": "markdown",
      "metadata": {
        "id": "pPALkqWcF_0B"
      },
      "source": [
        "I will use this train/validation set on different models and will further try to process data based on feature importance  and choose best model for my use case i.e. fare prediction."
      ]
    },
    {
      "cell_type": "markdown",
      "metadata": {
        "id": "QcHXVQcgGh_x"
      },
      "source": [
        "#Models"
      ]
    },
    {
      "cell_type": "markdown",
      "metadata": {
        "id": "r9_vFjN1YYrm"
      },
      "source": [
        "##BaseLine"
      ]
    },
    {
      "cell_type": "code",
      "metadata": {
        "colab": {
          "base_uri": "https://localhost:8080/"
        },
        "id": "bZM9GeoPxTvQ",
        "outputId": "5aa5c42f-a3f1-4a20-cc53-e8cdfdfccaa8"
      },
      "source": [
        "avg_fare=round(np.mean(y_train),2) #11.31\n",
        "baseline_pred=np.repeat(avg_fare,y_test.shape[0])\n",
        "baseline_rmse=np.sqrt(mean_squared_error(baseline_pred, y_test))\n",
        "print(\"Basline RMSE of Validation data :\",baseline_rmse)"
      ],
      "execution_count": null,
      "outputs": [
        {
          "output_type": "stream",
          "text": [
            "Basline RMSE of Validation data : 9.776261246180738\n"
          ],
          "name": "stdout"
        }
      ]
    },
    {
      "cell_type": "code",
      "metadata": {
        "colab": {
          "base_uri": "https://localhost:8080/"
        },
        "id": "soVkqYNunfKh",
        "outputId": "d17b39f6-af5d-479c-d7c8-ed4927a5a510"
      },
      "source": [
        "avg_fare=round(np.mean(y_train),2) #11.31\n",
        "baseline_pred=np.repeat(avg_fare,y_test.shape[0])\n",
        "baseline_rmse=np.sqrt(mean_squared_error(baseline_pred, y_test))\n",
        "print(\"Basline RMSE of Validation data :\",baseline_rmse)"
      ],
      "execution_count": null,
      "outputs": [
        {
          "output_type": "stream",
          "text": [
            "Basline RMSE of Validation data : 11.620703130517338\n"
          ],
          "name": "stdout"
        }
      ]
    },
    {
      "cell_type": "markdown",
      "metadata": {
        "id": "YHltZPW1F5A3"
      },
      "source": [
        "Baseline RMSE comes out to be quite large."
      ]
    },
    {
      "cell_type": "markdown",
      "metadata": {
        "id": "DZc4FZfyVIGN"
      },
      "source": [
        "## Linear Regression"
      ]
    },
    {
      "cell_type": "code",
      "metadata": {
        "id": "foRTqLihUbo2"
      },
      "source": [
        "from sklearn.linear_model import LinearRegression"
      ],
      "execution_count": null,
      "outputs": []
    },
    {
      "cell_type": "code",
      "metadata": {
        "colab": {
          "base_uri": "https://localhost:8080/"
        },
        "id": "AUxlQ_xboecw",
        "outputId": "c14a60ed-6447-4373-ce70-69fd1292b64a"
      },
      "source": [
        "lm = LinearRegression()\n",
        "lm.fit(X_train,y_train)\n",
        "y_pred=np.round(lm.predict(X_test),2)\n",
        "lm_rmse=np.sqrt(mean_squared_error(y_pred, y_test))\n",
        "lm_train_rmse=np.sqrt(mean_squared_error(lm.predict(X_train), y_train))\n",
        "lm_variance=abs(lm_train_rmse - lm_rmse)\n",
        "print(\"Test RMSE for Linear Regression : \",lm_rmse)\n",
        "print(\"Train RMSE for Linear Regression :  \",lm_train_rmse)\n",
        "print(\"Variance for Linear Regression is : \",lm_variance)"
      ],
      "execution_count": null,
      "outputs": [
        {
          "output_type": "stream",
          "text": [
            "Test RMSE for Linear Regression :  4.769022866187919\n",
            "Train RMSE for Linear Regression :   4.1236713691850095\n",
            "Variance for Linear Regression is :  0.6453514970029097\n"
          ],
          "name": "stdout"
        }
      ]
    },
    {
      "cell_type": "markdown",
      "metadata": {
        "id": "FnQvLlMeGnFf"
      },
      "source": [
        "Much better results than Baseline. Let's see if further improvements can be made using other models."
      ]
    },
    {
      "cell_type": "markdown",
      "metadata": {
        "id": "ljz-L1O4VK4b"
      },
      "source": [
        "## Random Forest"
      ]
    },
    {
      "cell_type": "code",
      "metadata": {
        "id": "J38zTPh5VQvf"
      },
      "source": [
        "from sklearn.ensemble import RandomForestRegressor"
      ],
      "execution_count": null,
      "outputs": []
    },
    {
      "cell_type": "code",
      "metadata": {
        "id": "8tiu1CBGVYuh"
      },
      "source": [
        "rf = RandomForestRegressor(n_estimators =40 , max_samples=200_000,max_features=0.7,min_samples_leaf=5,random_state = 42,n_jobs=-1,oob_score=True)"
      ],
      "execution_count": null,
      "outputs": []
    },
    {
      "cell_type": "code",
      "metadata": {
        "colab": {
          "base_uri": "https://localhost:8080/"
        },
        "id": "ao5tRr1HYsw3",
        "outputId": "557fa225-101b-4442-a071-fbdcbb28ff31"
      },
      "source": [
        "rf.fit(X_train,y_train) "
      ],
      "execution_count": null,
      "outputs": [
        {
          "output_type": "execute_result",
          "data": {
            "text/plain": [
              "RandomForestRegressor(bootstrap=True, ccp_alpha=0.0, criterion='mse',\n",
              "                      max_depth=None, max_features=0.7, max_leaf_nodes=None,\n",
              "                      max_samples=200000, min_impurity_decrease=0.0,\n",
              "                      min_impurity_split=None, min_samples_leaf=5,\n",
              "                      min_samples_split=2, min_weight_fraction_leaf=0.0,\n",
              "                      n_estimators=40, n_jobs=-1, oob_score=True,\n",
              "                      random_state=42, verbose=0, warm_start=False)"
            ]
          },
          "metadata": {
            "tags": []
          },
          "execution_count": 11
        }
      ]
    },
    {
      "cell_type": "code",
      "metadata": {
        "id": "yRsiZgKKYugj"
      },
      "source": [
        "rf_pred= rf.predict(X_test)"
      ],
      "execution_count": null,
      "outputs": []
    },
    {
      "cell_type": "code",
      "metadata": {
        "colab": {
          "base_uri": "https://localhost:8080/"
        },
        "id": "n9Yw7_VydVWO",
        "outputId": "742cb84e-de13-46dc-a8af-438f90e0edc9"
      },
      "source": [
        "rf_rmse=np.sqrt(mean_squared_error(rf_pred, y_test))\n",
        "print(\"RMSE for Random Forest is \",rf_rmse)"
      ],
      "execution_count": null,
      "outputs": [
        {
          "output_type": "stream",
          "text": [
            "RMSE for Random Forest is  3.667475239758026\n"
          ],
          "name": "stdout"
        }
      ]
    },
    {
      "cell_type": "code",
      "metadata": {
        "id": "Dj7Q6mk3IWST"
      },
      "source": [
        "sorted_idx = rf.feature_importances_.argsort()"
      ],
      "execution_count": null,
      "outputs": []
    },
    {
      "cell_type": "code",
      "metadata": {
        "colab": {
          "base_uri": "https://localhost:8080/",
          "height": 282
        },
        "id": "zqt7TdlNH1eH",
        "outputId": "6957d273-bee8-4466-df80-5d06a36b3a72"
      },
      "source": [
        "plt.barh(X_train.columns[sorted_idx], rf.feature_importances_[sorted_idx])"
      ],
      "execution_count": null,
      "outputs": [
        {
          "output_type": "execute_result",
          "data": {
            "text/plain": [
              "<BarContainer object of 20 artists>"
            ]
          },
          "metadata": {
            "tags": []
          },
          "execution_count": 15
        },
        {
          "output_type": "display_data",
          "data": {
            "image/png": "[encoded data removed]",
            "text/plain": [
              "<Figure size 432x288 with 1 Axes>"
            ]
          },
          "metadata": {
            "tags": []
          }
        }
      ]
    },
    {
      "cell_type": "markdown",
      "metadata": {
        "id": "UmBtS0weImJp"
      },
      "source": [
        "day,ss and passenger_count features are removed from dataset and then again all models are checked for results."
      ]
    },
    {
      "cell_type": "markdown",
      "metadata": {
        "id": "SQpiu7BWVeL9"
      },
      "source": [
        "# LightGBM"
      ]
    },
    {
      "cell_type": "code",
      "metadata": {
        "id": "tCP-4HUAVgXB"
      },
      "source": [
        "import lightgbm as lgbm"
      ],
      "execution_count": null,
      "outputs": []
    },
    {
      "cell_type": "code",
      "metadata": {
        "colab": {
          "base_uri": "https://localhost:8080/"
        },
        "id": "8dLgBmFyJwyV",
        "outputId": "d60e2a91-6559-4268-dccf-c68349c94e18"
      },
      "source": [
        "train_data=lgbm.Dataset(X_train,label=y_train)\n",
        "param = {'num_leaves':31, 'num_trees':5000,'objective':'regression'}\n",
        "param['metric'] = 'l2_root'\n",
        "num_round=5000\n",
        "cv_results = lgbm.cv(param, train_data, num_boost_round=num_round, nfold=10,verbose_eval=200, early_stopping_rounds=20,stratified=False)\n",
        "lgbm_bst=lgbm.train(param,train_data,len(cv_results['rmse-mean']))\n",
        "lgbm_pred = lgbm_bst.predict(X_test)\n",
        "lgbm_rmse=np.sqrt(mean_squared_error(lgbm_pred, y_test))"
      ],
      "execution_count": null,
      "outputs": [
        {
          "output_type": "stream",
          "text": [
            "[200]\tcv_agg's rmse: 2.99066 + 0.0214066\n",
            "[400]\tcv_agg's rmse: 2.92953 + 0.0212208\n",
            "[600]\tcv_agg's rmse: 2.90324 + 0.0217219\n",
            "[800]\tcv_agg's rmse: 2.88811 + 0.0219606\n",
            "[1000]\tcv_agg's rmse: 2.87819 + 0.0214628\n",
            "[1200]\tcv_agg's rmse: 2.87129 + 0.0214519\n",
            "[1400]\tcv_agg's rmse: 2.86582 + 0.0216142\n",
            "[1600]\tcv_agg's rmse: 2.86185 + 0.0215578\n",
            "[1800]\tcv_agg's rmse: 2.85862 + 0.0211894\n",
            "[2000]\tcv_agg's rmse: 2.85622 + 0.0205221\n",
            "[2200]\tcv_agg's rmse: 2.85407 + 0.0206498\n",
            "[2400]\tcv_agg's rmse: 2.85216 + 0.0208024\n",
            "[2600]\tcv_agg's rmse: 2.85061 + 0.0207958\n",
            "[2800]\tcv_agg's rmse: 2.84935 + 0.0206489\n",
            "[3000]\tcv_agg's rmse: 2.84798 + 0.0205919\n",
            "[3200]\tcv_agg's rmse: 2.84681 + 0.0207243\n",
            "[3400]\tcv_agg's rmse: 2.84591 + 0.0208034\n",
            "[3600]\tcv_agg's rmse: 2.845 + 0.0208224\n",
            "[3800]\tcv_agg's rmse: 2.84436 + 0.0205913\n"
          ],
          "name": "stdout"
        }
      ]
    },
    {
      "cell_type": "code",
      "metadata": {
        "colab": {
          "base_uri": "https://localhost:8080/"
        },
        "id": "61ag3WulK6RA",
        "outputId": "decc0ceb-c870-4a40-df96-fba0e7f2008d"
      },
      "source": [
        "print(\"RMSE for Light GBM is \",lgbm_rmse)"
      ],
      "execution_count": null,
      "outputs": [
        {
          "output_type": "stream",
          "text": [
            "RMSE for Light GBM is  3.2958462120057233\n"
          ],
          "name": "stdout"
        }
      ]
    },
    {
      "cell_type": "code",
      "metadata": {
        "id": "KI4y7IqkPIGZ"
      },
      "source": [
        "filename=\"/content/drive/MyDrive/NYC/Light GBM.sav\"\n",
        "# to save the model\n",
        "pickle.dump(lgbm_bst, open(filename, 'wb'))"
      ],
      "execution_count": null,
      "outputs": []
    },
    {
      "cell_type": "code",
      "metadata": {
        "colab": {
          "base_uri": "https://localhost:8080/",
          "height": 312
        },
        "id": "91wdx6QIPgRG",
        "outputId": "e5df07d7-3ce4-4426-dc35-a77eaa56f17c"
      },
      "source": [
        "lgbm.plot_importance(lgbm_bst,title='Feature importance', xlabel='Feature importance', ylabel='Features')"
      ],
      "execution_count": null,
      "outputs": [
        {
          "output_type": "execute_result",
          "data": {
            "text/plain": [
              "<matplotlib.axes._subplots.AxesSubplot at 0x7f0259e66f10>"
            ]
          },
          "metadata": {
            "tags": []
          },
          "execution_count": 20
        },
        {
          "output_type": "display_data",
          "data": {
            "image/png": "[encoded data removed]",
            "text/plain": [
              "<Figure size 432x288 with 1 Axes>"
            ]
          },
          "metadata": {
            "tags": []
          }
        }
      ]
    },
    {
      "cell_type": "markdown",
      "metadata": {
        "id": "HAlice77VN5V"
      },
      "source": [
        "# XGBoost"
      ]
    },
    {
      "cell_type": "code",
      "metadata": {
        "colab": {
          "base_uri": "https://localhost:8080/"
        },
        "id": "VXkCERovm_Kb",
        "outputId": "f89a43af-26c0-48cc-a4ce-e8ad3d4e2df1"
      },
      "source": [
        "!nvidia-smi"
      ],
      "execution_count": null,
      "outputs": [
        {
          "output_type": "stream",
          "text": [
            "Sun May  9 11:58:06 2021       \n",
            "+-----------------------------------------------------------------------------+\n",
            "| NVIDIA-SMI 465.19.01    Driver Version: 460.32.03    CUDA Version: 11.2     |\n",
            "|-------------------------------+----------------------+----------------------+\n",
            "| GPU  Name        Persistence-M| Bus-Id        Disp.A | Volatile Uncorr. ECC |\n",
            "| Fan  Temp  Perf  Pwr:Usage/Cap|         Memory-Usage | GPU-Util  Compute M. |\n",
            "|                               |                      |               MIG M. |\n",
            "|===============================+======================+======================|\n",
            "|   0  Tesla T4            Off  | 00000000:00:04.0 Off |                    0 |\n",
            "| N/A   58C    P0    29W /  70W |   2696MiB / 15109MiB |      0%      Default |\n",
            "|                               |                      |                  N/A |\n",
            "+-------------------------------+----------------------+----------------------+\n",
            "                                                                               \n",
            "+-----------------------------------------------------------------------------+\n",
            "| Processes:                                                                  |\n",
            "|  GPU   GI   CI        PID   Type   Process name                  GPU Memory |\n",
            "|        ID   ID                                                   Usage      |\n",
            "|=============================================================================|\n",
            "+-----------------------------------------------------------------------------+\n"
          ],
          "name": "stdout"
        }
      ]
    },
    {
      "cell_type": "code",
      "metadata": {
        "id": "SEx4AMSvwHRk"
      },
      "source": [
        "xgb_params = {\n",
        "    'min_child_weight': 1, \n",
        "    'tree_method': 'gpu_hist',\n",
        "    'colsample_bytree': 0.7, \n",
        "    'max_depth': 15,\n",
        "    'subsample': 0.7,\n",
        "    'n_estimators': 5000,\n",
        "    'n_jobs': -1, \n",
        "    'booster' : 'gbtree', \n",
        "    'silent': 1,\n",
        "    'eval_metric': 'rmse'}"
      ],
      "execution_count": null,
      "outputs": []
    },
    {
      "cell_type": "code",
      "metadata": {
        "id": "XYlbXvYqA0Mu"
      },
      "source": [
        "def XGBmodel(X_train,X_test,y_train,y_test,params):\n",
        "    dtrain = xgb.DMatrix(X_train, label=y_train)\n",
        "    dvalid = xgb.DMatrix(X_test, label=y_test)\n",
        "    watchlist = [(dtrain, 'train'), (dvalid, 'valid')]\n",
        "    model = xgb.train(params, dtrain, 1000, watchlist,early_stopping_rounds=50, maximize=False, verbose_eval=200)\n",
        "    return model\n"
      ],
      "execution_count": null,
      "outputs": []
    },
    {
      "cell_type": "code",
      "metadata": {
        "colab": {
          "base_uri": "https://localhost:8080/"
        },
        "id": "zsUrUd5c-b2p",
        "outputId": "76fb8f7e-a13d-434c-a10e-27cc20347aae"
      },
      "source": [
        "model = XGBmodel(X_train,X_test,y_train,y_test,xgb_params)"
      ],
      "execution_count": null,
      "outputs": [
        {
          "output_type": "stream",
          "text": [
            "[0]\ttrain-rmse:9.99741\tvalid-rmse:10.0185\n",
            "Multiple eval metrics have been passed: 'valid-rmse' will be used for early stopping.\n",
            "\n",
            "Will train until valid-rmse hasn't improved in 50 rounds.\n",
            "Stopping. Best iteration:\n",
            "[32]\ttrain-rmse:2.22434\tvalid-rmse:2.88754\n",
            "\n"
          ],
          "name": "stdout"
        }
      ]
    },
    {
      "cell_type": "code",
      "metadata": {
        "id": "uJcdqiK1U7j8"
      },
      "source": [
        "filename=\"/content/drive/MyDrive/NYC/XGBregressor_gpu.sav\"\n",
        "# to save the model\n",
        "pickle.dump(model, open(filename, 'wb'))"
      ],
      "execution_count": null,
      "outputs": []
    },
    {
      "cell_type": "code",
      "metadata": {
        "id": "1zsAzPwABd5d",
        "colab": {
          "base_uri": "https://localhost:8080/"
        },
        "outputId": "00ab2ad9-db84-4b86-f976-834e6abb9261"
      },
      "source": [
        "print(\"Done\")"
      ],
      "execution_count": null,
      "outputs": [
        {
          "output_type": "stream",
          "text": [
            "Done\n"
          ],
          "name": "stdout"
        }
      ]
    },
    {
      "cell_type": "markdown",
      "metadata": {
        "id": "swcwA73w_sy8"
      },
      "source": [
        "# Deep Learning"
      ]
    },
    {
      "cell_type": "code",
      "metadata": {
        "id": "lLn3EI9JspQ9"
      },
      "source": [
        "import torch\n",
        "import torch.nn as nn\n",
        "import torch.nn.functional as F"
      ],
      "execution_count": null,
      "outputs": []
    },
    {
      "cell_type": "code",
      "metadata": {
        "colab": {
          "base_uri": "https://localhost:8080/"
        },
        "id": "eDwfY3exJYQn",
        "outputId": "5250a738-e100-42e4-9e62-1a0fc3bbb622"
      },
      "source": [
        "X_train.info()"
      ],
      "execution_count": null,
      "outputs": [
        {
          "output_type": "stream",
          "text": [
            "<class 'pandas.core.frame.DataFrame'>\n",
            "Int64Index: 4352457 entries, 10514137 to 14073333\n",
            "Data columns (total 20 columns):\n",
            " #   Column                   Dtype  \n",
            "---  ------                   -----  \n",
            " 0   passenger_count          uint8  \n",
            " 1   diff_lat                 float32\n",
            " 2   diff_long                float32\n",
            " 3   geodesic                 float32\n",
            " 4   pickup_distance_to_jfk   float32\n",
            " 5   dropoff_distance_to_jfk  float32\n",
            " 6   pickup_distance_to_ewr   float32\n",
            " 7   dropoff_distance_to_ewr  float32\n",
            " 8   pickup_distance_to_lgr   float32\n",
            " 9   dropoff_distance_to_lgr  float32\n",
            " 10  pickup_distance_to_tsq   float32\n",
            " 11  dropoff_distance_to_tsq  float32\n",
            " 12  pickup_distance_to_met   float32\n",
            " 13  dropoff_distance_to_met  float32\n",
            " 14  day                      uint8  \n",
            " 15  month                    uint8  \n",
            " 16  year                     uint32 \n",
            " 17  hh                       uint8  \n",
            " 18  mm                       uint8  \n",
            " 19  ss                       uint8  \n",
            "dtypes: float32(13), uint32(1), uint8(6)\n",
            "memory usage: 290.6 MB\n"
          ],
          "name": "stdout"
        }
      ]
    },
    {
      "cell_type": "code",
      "metadata": {
        "id": "xRb_NTmOJZ3Y"
      },
      "source": [
        "class Net(nn.Module):\n",
        "    def __init__(self, D_in, H1, H2, H3, D_out):\n",
        "        super(Net, self).__init__()\n",
        "        \n",
        "        self.linear1 = nn.Linear(D_in, H1)\n",
        "        self.linear2 = nn.Linear(H1, H2)\n",
        "        self.linear3 = nn.Linear(H2, H3)\n",
        "        self.linear4 = nn.Linear(H3, D_out)\n",
        "        \n",
        "    def forward(self, x):\n",
        "        y_pred = self.linear1(x).clamp(min=0)\n",
        "        y_pred = self.linear2(y_pred).clamp(min=0)\n",
        "        y_pred = self.linear3(y_pred).clamp(min=0)\n",
        "        y_pred = self.linear4(y_pred)\n",
        "        return y_pred\n"
      ],
      "execution_count": null,
      "outputs": []
    },
    {
      "cell_type": "code",
      "metadata": {
        "id": "Kw78jYy7JzGl"
      },
      "source": [
        "H1, H2, H3 = 500, 1000, 200"
      ],
      "execution_count": null,
      "outputs": []
    },
    {
      "cell_type": "code",
      "metadata": {
        "id": "T_wfreEyKNp1"
      },
      "source": [
        "xx=torch.tensor(X_train.values)"
      ],
      "execution_count": null,
      "outputs": []
    },
    {
      "cell_type": "code",
      "metadata": {
        "id": "rYm37hDcKxDg"
      },
      "source": [
        "yy=torch.tensor(y_train.values)"
      ],
      "execution_count": null,
      "outputs": []
    },
    {
      "cell_type": "code",
      "metadata": {
        "colab": {
          "base_uri": "https://localhost:8080/"
        },
        "id": "QcQHH4sJLoBU",
        "outputId": "e4f5c67b-d23d-42ba-e000-0ee2003691ba"
      },
      "source": [
        "yy.shape"
      ],
      "execution_count": null,
      "outputs": [
        {
          "output_type": "execute_result",
          "data": {
            "text/plain": [
              "torch.Size([4353746])"
            ]
          },
          "metadata": {
            "tags": []
          },
          "execution_count": 21
        }
      ]
    },
    {
      "cell_type": "code",
      "metadata": {
        "id": "lfCNH6BONADB"
      },
      "source": [
        "yy=torch.unsqueeze(yy, 1)"
      ],
      "execution_count": null,
      "outputs": []
    },
    {
      "cell_type": "code",
      "metadata": {
        "id": "OBYRx4kbKBkV"
      },
      "source": [
        "D_in, D_out = xx.shape[1], yy.shape[1]"
      ],
      "execution_count": null,
      "outputs": []
    },
    {
      "cell_type": "code",
      "metadata": {
        "colab": {
          "base_uri": "https://localhost:8080/"
        },
        "id": "Vk9kxJARLaVV",
        "outputId": "e27cde73-5ce8-4b27-8467-d74067602c11"
      },
      "source": [
        "D_out"
      ],
      "execution_count": null,
      "outputs": [
        {
          "output_type": "execute_result",
          "data": {
            "text/plain": [
              "1"
            ]
          },
          "metadata": {
            "tags": []
          },
          "execution_count": 24
        }
      ]
    },
    {
      "cell_type": "code",
      "metadata": {
        "id": "F_f_xSTEKL2z"
      },
      "source": [
        "criterion = nn.MSELoss(reduction='sum')\n",
        "\n"
      ],
      "execution_count": null,
      "outputs": []
    },
    {
      "cell_type": "code",
      "metadata": {
        "id": "TaQXR0W8LQgn"
      },
      "source": [
        "model1 = Net(D_in, H1, H2, H3, D_out)"
      ],
      "execution_count": null,
      "outputs": []
    },
    {
      "cell_type": "code",
      "metadata": {
        "id": "JXAaHeCWLFu1"
      },
      "source": [
        "losses1 = []\n",
        "\n",
        "for t in range(500):\n",
        "    y_pred = model1(xx)\n",
        "    \n",
        "    loss = criterion(y_pred,yy)\n",
        "    print(t, loss.item())\n",
        "    losses1.append(loss.item())\n",
        "    \n",
        "    if torch.isnan(loss):\n",
        "        break\n",
        "    \n",
        "    optimizer.zero_grad()\n",
        "    loss.backward()\n",
        "    optimizer.step()"
      ],
      "execution_count": null,
      "outputs": []
    },
    {
      "cell_type": "code",
      "metadata": {
        "id": "ahgqR8D6Ng9i"
      },
      "source": [
        ""
      ],
      "execution_count": null,
      "outputs": []
    }
  ]
}