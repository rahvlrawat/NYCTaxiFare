{
  "nbformat": 4,
  "nbformat_minor": 0,
  "metadata": {
    "colab": {
      "name": "NYC_Project.ipynb",
      "provenance": [],
      "collapsed_sections": [
        "lyftmIasglNX",
        "UIh-zPIoghWq",
        "COr_e3cxoJ_1",
        "LLrrgKTAofFM",
        "F5dwvQpSrixV",
        "8bNlztCWyUdI",
        "BVKjH_e-ymVV",
        "QcHXVQcgGh_x",
        "r9_vFjN1YYrm",
        "DZc4FZfyVIGN",
        "ljz-L1O4VK4b",
        "UDW0ap_x3hig",
        "-7uYCCyA3evG",
        "HAlice77VN5V",
        "zylGcVAs6UlX",
        "OVGij9UAH_bl",
        "JrWJ5XNqID1o",
        "GwNgeAu36Z6g",
        "l_Zx7yNwITdi",
        "_V_YHsc1IURE"
      ],
      "mount_file_id": "1XsgUjtJt5qGtHBPs5AsCCX3gbxatIIjs",
      "authorship_tag": "ABX9TyMRoZPMuuUBtrC7vfLxlz3+",
      "include_colab_link": true
    },
    "kernelspec": {
      "display_name": "Python 3",
      "name": "python3"
    },
    "accelerator": "GPU"
  },
  "cells": [
    {
      "cell_type": "markdown",
      "metadata": {
        "id": "view-in-github",
        "colab_type": "text"
      },
      "source": [
        "<a href=\"https://colab.research.google.com/github/rahvlrawat/NYCTaxiFare/blob/main/NYC_Project.ipynb\" target=\"_parent\"><img src=\"https://colab.research.google.com/assets/colab-badge.svg\" alt=\"Open In Colab\"/></a>"
      ]
    },
    {
      "cell_type": "markdown",
      "metadata": {
        "id": "lyftmIasglNX"
      },
      "source": [
        "# Imports\n"
      ]
    },
    {
      "cell_type": "code",
      "metadata": {
        "id": "TBra12cnLqiw"
      },
      "source": [
        "import os\n",
        "import pandas as pd\n",
        "import numpy as np\n",
        "from tqdm import tqdm\n",
        "import geopy.distance\n",
        "import matplotlib.pyplot as plt\n",
        "import seaborn as sns\n",
        "import pickle\n",
        "from collections import Counter\n",
        "import warnings \n",
        "warnings.filterwarnings('ignore')\n",
        "from sklearn.metrics import r2_score\n",
        "from sklearn.metrics import mean_squared_error\n",
        "from sklearn.model_selection import train_test_split\n",
        "from xgboost import XGBRegressor, plot_importance\n",
        "from sklearn.model_selection import GridSearchCV\n",
        "from sklearn.model_selection import RandomizedSearchCV\n",
        "from sklearn.model_selection import RepeatedStratifiedKFold\n",
        "from sklearn.model_selection import StratifiedKFold\n",
        "from sklearn.model_selection import KFold\n",
        "import lightgbm as lgbm\n",
        "import xgboost as xgb"
      ],
      "execution_count": 1,
      "outputs": []
    },
    {
      "cell_type": "markdown",
      "metadata": {
        "id": "UIh-zPIoghWq"
      },
      "source": [
        "# Downloads"
      ]
    },
    {
      "cell_type": "code",
      "metadata": {
        "colab": {
          "base_uri": "https://localhost:8080/"
        },
        "id": "6cyzSD0NVATD",
        "outputId": "8684502b-a5f2-4ea5-d1f7-b6a411a9a780"
      },
      "source": [
        "os.system('pip install -q kaggle')\n",
        "os.system('mkdir ~/.kaggle')\n",
        "os.system('cp /content/drive/MyDrive/kaggle.json   ~/.kaggle/')\n",
        "os.system('chmod 600 ~/.kaggle/kaggle.json')\n",
        "\n"
      ],
      "execution_count": null,
      "outputs": [
        {
          "output_type": "execute_result",
          "data": {
            "text/plain": [
              "0"
            ]
          },
          "metadata": {
            "tags": []
          },
          "execution_count": 9
        }
      ]
    },
    {
      "cell_type": "code",
      "metadata": {
        "colab": {
          "base_uri": "https://localhost:8080/"
        },
        "id": "TnBHHbzSDqZz",
        "outputId": "741d43bd-f4d6-4645-980a-fd1d6ee20930"
      },
      "source": [
        "os.system('kaggle competitions download -c new-york-city-taxi-fare-prediction')"
      ],
      "execution_count": null,
      "outputs": [
        {
          "output_type": "execute_result",
          "data": {
            "text/plain": [
              "0"
            ]
          },
          "metadata": {
            "tags": []
          },
          "execution_count": 10
        }
      ]
    },
    {
      "cell_type": "code",
      "metadata": {
        "colab": {
          "base_uri": "https://localhost:8080/"
        },
        "id": "XD70BdY1EI8z",
        "outputId": "f87d4c2e-9c0a-4069-d401-20e538c48170"
      },
      "source": [
        "os.system('unzip  /content/train.csv.zip')"
      ],
      "execution_count": null,
      "outputs": [
        {
          "output_type": "execute_result",
          "data": {
            "text/plain": [
              "0"
            ]
          },
          "metadata": {
            "tags": []
          },
          "execution_count": 11
        }
      ]
    },
    {
      "cell_type": "markdown",
      "metadata": {
        "id": "BgxRqp5KO_TE"
      },
      "source": [
        "# Exploratory analysis,Cleaning and Feature Engineering"
      ]
    },
    {
      "cell_type": "markdown",
      "metadata": {
        "id": "COr_e3cxoJ_1"
      },
      "source": [
        "## Preliminary Analysis"
      ]
    },
    {
      "cell_type": "markdown",
      "metadata": {
        "id": "RTdhMpJeY7vQ"
      },
      "source": [
        "First thing we do with a new dataset is to explore the data. This means investigating the number of features, their datatype, their meaning and some basics statistics."
      ]
    },
    {
      "cell_type": "markdown",
      "metadata": {
        "id": "Sud6P154ZKdV"
      },
      "source": [
        "This dataset is huge thus reading all data would require a lot of memory. Therefore I read a limited number of rows while exploring the data."
      ]
    },
    {
      "cell_type": "code",
      "metadata": {
        "colab": {
          "base_uri": "https://localhost:8080/",
          "height": 189
        },
        "id": "Ps2DlyRYYlN6",
        "outputId": "8e667550-503c-4ef2-9b5c-51ba51b346f8"
      },
      "source": [
        "train_df =  pd.read_csv('/content/train.csv', nrows = 2_000_000)\n",
        "train_df.head()"
      ],
      "execution_count": null,
      "outputs": [
        {
          "output_type": "execute_result",
          "data": {
            "text/html": [
              "<div>\n",
              "<style scoped>\n",
              "    .dataframe tbody tr th:only-of-type {\n",
              "        vertical-align: middle;\n",
              "    }\n",
              "\n",
              "    .dataframe tbody tr th {\n",
              "        vertical-align: top;\n",
              "    }\n",
              "\n",
              "    .dataframe thead th {\n",
              "        text-align: right;\n",
              "    }\n",
              "</style>\n",
              "<table border=\"1\" class=\"dataframe\">\n",
              "  <thead>\n",
              "    <tr style=\"text-align: right;\">\n",
              "      <th></th>\n",
              "      <th>key</th>\n",
              "      <th>fare_amount</th>\n",
              "      <th>pickup_datetime</th>\n",
              "      <th>pickup_longitude</th>\n",
              "      <th>pickup_latitude</th>\n",
              "      <th>dropoff_longitude</th>\n",
              "      <th>dropoff_latitude</th>\n",
              "      <th>passenger_count</th>\n",
              "    </tr>\n",
              "  </thead>\n",
              "  <tbody>\n",
              "    <tr>\n",
              "      <th>0</th>\n",
              "      <td>2009-06-15 17:26:21.0000001</td>\n",
              "      <td>4.5</td>\n",
              "      <td>2009-06-15 17:26:21 UTC</td>\n",
              "      <td>-73.844311</td>\n",
              "      <td>40.721319</td>\n",
              "      <td>-73.841610</td>\n",
              "      <td>40.712278</td>\n",
              "      <td>1</td>\n",
              "    </tr>\n",
              "    <tr>\n",
              "      <th>1</th>\n",
              "      <td>2010-01-05 16:52:16.0000002</td>\n",
              "      <td>16.9</td>\n",
              "      <td>2010-01-05 16:52:16 UTC</td>\n",
              "      <td>-74.016048</td>\n",
              "      <td>40.711303</td>\n",
              "      <td>-73.979268</td>\n",
              "      <td>40.782004</td>\n",
              "      <td>1</td>\n",
              "    </tr>\n",
              "    <tr>\n",
              "      <th>2</th>\n",
              "      <td>2011-08-18 00:35:00.00000049</td>\n",
              "      <td>5.7</td>\n",
              "      <td>2011-08-18 00:35:00 UTC</td>\n",
              "      <td>-73.982738</td>\n",
              "      <td>40.761270</td>\n",
              "      <td>-73.991242</td>\n",
              "      <td>40.750562</td>\n",
              "      <td>2</td>\n",
              "    </tr>\n",
              "    <tr>\n",
              "      <th>3</th>\n",
              "      <td>2012-04-21 04:30:42.0000001</td>\n",
              "      <td>7.7</td>\n",
              "      <td>2012-04-21 04:30:42 UTC</td>\n",
              "      <td>-73.987130</td>\n",
              "      <td>40.733143</td>\n",
              "      <td>-73.991567</td>\n",
              "      <td>40.758092</td>\n",
              "      <td>1</td>\n",
              "    </tr>\n",
              "    <tr>\n",
              "      <th>4</th>\n",
              "      <td>2010-03-09 07:51:00.000000135</td>\n",
              "      <td>5.3</td>\n",
              "      <td>2010-03-09 07:51:00 UTC</td>\n",
              "      <td>-73.968095</td>\n",
              "      <td>40.768008</td>\n",
              "      <td>-73.956655</td>\n",
              "      <td>40.783762</td>\n",
              "      <td>1</td>\n",
              "    </tr>\n",
              "  </tbody>\n",
              "</table>\n",
              "</div>"
            ],
            "text/plain": [
              "                             key  ...  passenger_count\n",
              "0    2009-06-15 17:26:21.0000001  ...                1\n",
              "1    2010-01-05 16:52:16.0000002  ...                1\n",
              "2   2011-08-18 00:35:00.00000049  ...                2\n",
              "3    2012-04-21 04:30:42.0000001  ...                1\n",
              "4  2010-03-09 07:51:00.000000135  ...                1\n",
              "\n",
              "[5 rows x 8 columns]"
            ]
          },
          "metadata": {
            "tags": []
          },
          "execution_count": 2
        }
      ]
    },
    {
      "cell_type": "code",
      "metadata": {
        "colab": {
          "base_uri": "https://localhost:8080/",
          "height": 274
        },
        "id": "3UoMmHkNZzzB",
        "outputId": "c89e6bee-cfbc-487f-bdb1-5a0cc5c2b6ef"
      },
      "source": [
        "train_df.describe()"
      ],
      "execution_count": null,
      "outputs": [
        {
          "output_type": "execute_result",
          "data": {
            "text/html": [
              "<div>\n",
              "<style scoped>\n",
              "    .dataframe tbody tr th:only-of-type {\n",
              "        vertical-align: middle;\n",
              "    }\n",
              "\n",
              "    .dataframe tbody tr th {\n",
              "        vertical-align: top;\n",
              "    }\n",
              "\n",
              "    .dataframe thead th {\n",
              "        text-align: right;\n",
              "    }\n",
              "</style>\n",
              "<table border=\"1\" class=\"dataframe\">\n",
              "  <thead>\n",
              "    <tr style=\"text-align: right;\">\n",
              "      <th></th>\n",
              "      <th>fare_amount</th>\n",
              "      <th>pickup_longitude</th>\n",
              "      <th>pickup_latitude</th>\n",
              "      <th>dropoff_longitude</th>\n",
              "      <th>dropoff_latitude</th>\n",
              "      <th>passenger_count</th>\n",
              "    </tr>\n",
              "  </thead>\n",
              "  <tbody>\n",
              "    <tr>\n",
              "      <th>count</th>\n",
              "      <td>2.000000e+06</td>\n",
              "      <td>2.000000e+06</td>\n",
              "      <td>2.000000e+06</td>\n",
              "      <td>1.999986e+06</td>\n",
              "      <td>1.999986e+06</td>\n",
              "      <td>2.000000e+06</td>\n",
              "    </tr>\n",
              "    <tr>\n",
              "      <th>mean</th>\n",
              "      <td>1.134779e+01</td>\n",
              "      <td>-7.252321e+01</td>\n",
              "      <td>3.992963e+01</td>\n",
              "      <td>-7.252395e+01</td>\n",
              "      <td>3.992808e+01</td>\n",
              "      <td>1.684113e+00</td>\n",
              "    </tr>\n",
              "    <tr>\n",
              "      <th>std</th>\n",
              "      <td>9.852883e+00</td>\n",
              "      <td>1.286804e+01</td>\n",
              "      <td>7.983352e+00</td>\n",
              "      <td>1.277497e+01</td>\n",
              "      <td>1.032382e+01</td>\n",
              "      <td>1.314982e+00</td>\n",
              "    </tr>\n",
              "    <tr>\n",
              "      <th>min</th>\n",
              "      <td>-6.200000e+01</td>\n",
              "      <td>-3.377681e+03</td>\n",
              "      <td>-3.458665e+03</td>\n",
              "      <td>-3.383297e+03</td>\n",
              "      <td>-3.461541e+03</td>\n",
              "      <td>0.000000e+00</td>\n",
              "    </tr>\n",
              "    <tr>\n",
              "      <th>25%</th>\n",
              "      <td>6.000000e+00</td>\n",
              "      <td>-7.399208e+01</td>\n",
              "      <td>4.073491e+01</td>\n",
              "      <td>-7.399141e+01</td>\n",
              "      <td>4.073400e+01</td>\n",
              "      <td>1.000000e+00</td>\n",
              "    </tr>\n",
              "    <tr>\n",
              "      <th>50%</th>\n",
              "      <td>8.500000e+00</td>\n",
              "      <td>-7.398181e+01</td>\n",
              "      <td>4.075263e+01</td>\n",
              "      <td>-7.398016e+01</td>\n",
              "      <td>4.075312e+01</td>\n",
              "      <td>1.000000e+00</td>\n",
              "    </tr>\n",
              "    <tr>\n",
              "      <th>75%</th>\n",
              "      <td>1.250000e+01</td>\n",
              "      <td>-7.396713e+01</td>\n",
              "      <td>4.076710e+01</td>\n",
              "      <td>-7.396369e+01</td>\n",
              "      <td>4.076809e+01</td>\n",
              "      <td>2.000000e+00</td>\n",
              "    </tr>\n",
              "    <tr>\n",
              "      <th>max</th>\n",
              "      <td>1.273310e+03</td>\n",
              "      <td>2.856442e+03</td>\n",
              "      <td>2.621628e+03</td>\n",
              "      <td>3.414307e+03</td>\n",
              "      <td>3.345917e+03</td>\n",
              "      <td>2.080000e+02</td>\n",
              "    </tr>\n",
              "  </tbody>\n",
              "</table>\n",
              "</div>"
            ],
            "text/plain": [
              "        fare_amount  pickup_longitude  ...  dropoff_latitude  passenger_count\n",
              "count  2.000000e+06      2.000000e+06  ...      1.999986e+06     2.000000e+06\n",
              "mean   1.134779e+01     -7.252321e+01  ...      3.992808e+01     1.684113e+00\n",
              "std    9.852883e+00      1.286804e+01  ...      1.032382e+01     1.314982e+00\n",
              "min   -6.200000e+01     -3.377681e+03  ...     -3.461541e+03     0.000000e+00\n",
              "25%    6.000000e+00     -7.399208e+01  ...      4.073400e+01     1.000000e+00\n",
              "50%    8.500000e+00     -7.398181e+01  ...      4.075312e+01     1.000000e+00\n",
              "75%    1.250000e+01     -7.396713e+01  ...      4.076809e+01     2.000000e+00\n",
              "max    1.273310e+03      2.856442e+03  ...      3.345917e+03     2.080000e+02\n",
              "\n",
              "[8 rows x 6 columns]"
            ]
          },
          "metadata": {
            "tags": []
          },
          "execution_count": 3
        }
      ]
    },
    {
      "cell_type": "markdown",
      "metadata": {
        "id": "iTaHRJ4UZpFy"
      },
      "source": [
        "Following insights can  be inferred from this small sample of our dataset:\n",
        "\n",
        "\n",
        "1.   The minimal *fare_amount* is negative. As this does not seem to be realistic I will drop them from the dataset.\n",
        "2.   Minimum and Maximum *longitude/lattitude coordinates* are way off . Will filter these out using bounding box for co-ordinates of the NYC.\n",
        "3. Min value for *Passenger count* is 0 thus have to filter these rows where such values exist\n",
        "4. Mean value for *Passenger count* is  around 1.68 but max value is 200+ which is not quite possible thus will need to see the distribution and filter out the outliers\n",
        "\n",
        "\n",
        "\n"
      ]
    },
    {
      "cell_type": "markdown",
      "metadata": {
        "id": "w36pcmEubF3U"
      },
      "source": [
        "Now for further insights will try EDA on complete dataset.As data is too big to be read and loaded directly so i used chunk-read   size of 5M along with converting some columns to smaller  datatype  so as  to use less space in memory."
      ]
    },
    {
      "cell_type": "code",
      "metadata": {
        "colab": {
          "base_uri": "https://localhost:8080/"
        },
        "id": "Jy1sg9yw0oBm",
        "outputId": "225defd8-f352-4d07-8b75-9e87197fa87a"
      },
      "source": [
        "df_list = [] # list to hold the batch dataframe\n",
        "chunksize = 5_000_000# 5 million rows at one go. Or try 10 million\n",
        "traintypes = {'fare_amount': 'float32',\n",
        "              'pickup_longitude': 'float32',\n",
        "              'pickup_latitude': 'float32',\n",
        "              'pickup_datetime': 'str',\n",
        "              'dropoff_longitude': 'float32',\n",
        "              'dropoff_latitude': 'float32',\n",
        "              'passenger_count': 'uint8'}\n",
        "\n",
        "cols = list(traintypes.keys())\n",
        "for df_chunk in tqdm(pd.read_csv('/content/train.csv', usecols=cols, dtype=traintypes, chunksize=chunksize)):\n",
        "        df_list.append(df_chunk) \n",
        "        del df_chunk\n",
        "        \n",
        "\n",
        "train_df = pd.concat(df_list)\n",
        "del df_list\n",
        "\n"
      ],
      "execution_count": null,
      "outputs": [
        {
          "output_type": "stream",
          "text": [
            "12it [01:48,  9.07s/it]\n"
          ],
          "name": "stderr"
        }
      ]
    },
    {
      "cell_type": "markdown",
      "metadata": {
        "id": "Lh6RlmTLX8U3"
      },
      "source": [
        "There are about total of 55Million+  rows in our dataset."
      ]
    },
    {
      "cell_type": "code",
      "metadata": {
        "colab": {
          "base_uri": "https://localhost:8080/"
        },
        "id": "ES0ZWnP-1snL",
        "outputId": "e8de389f-d290-497a-ceba-42b784aab646"
      },
      "source": [
        "len(train_df )"
      ],
      "execution_count": null,
      "outputs": [
        {
          "output_type": "execute_result",
          "data": {
            "text/plain": [
              "55423856"
            ]
          },
          "metadata": {
            "tags": []
          },
          "execution_count": 5
        }
      ]
    },
    {
      "cell_type": "code",
      "metadata": {
        "colab": {
          "base_uri": "https://localhost:8080/"
        },
        "id": "TaQYhAT0T_6n",
        "outputId": "ee5e8259-4dbe-4f19-e987-3bd00dbbf286"
      },
      "source": [
        "train_df.shape"
      ],
      "execution_count": null,
      "outputs": [
        {
          "output_type": "execute_result",
          "data": {
            "text/plain": [
              "(55423856, 7)"
            ]
          },
          "metadata": {
            "tags": []
          },
          "execution_count": 6
        }
      ]
    },
    {
      "cell_type": "code",
      "metadata": {
        "colab": {
          "base_uri": "https://localhost:8080/",
          "height": 189
        },
        "id": "Ykb75QFpTwoI",
        "outputId": "8adfa46c-c848-47b2-c2dd-b308a941abcd"
      },
      "source": [
        "train_df.head()"
      ],
      "execution_count": null,
      "outputs": [
        {
          "output_type": "execute_result",
          "data": {
            "text/html": [
              "<div>\n",
              "<style scoped>\n",
              "    .dataframe tbody tr th:only-of-type {\n",
              "        vertical-align: middle;\n",
              "    }\n",
              "\n",
              "    .dataframe tbody tr th {\n",
              "        vertical-align: top;\n",
              "    }\n",
              "\n",
              "    .dataframe thead th {\n",
              "        text-align: right;\n",
              "    }\n",
              "</style>\n",
              "<table border=\"1\" class=\"dataframe\">\n",
              "  <thead>\n",
              "    <tr style=\"text-align: right;\">\n",
              "      <th></th>\n",
              "      <th>fare_amount</th>\n",
              "      <th>pickup_datetime</th>\n",
              "      <th>pickup_longitude</th>\n",
              "      <th>pickup_latitude</th>\n",
              "      <th>dropoff_longitude</th>\n",
              "      <th>dropoff_latitude</th>\n",
              "      <th>passenger_count</th>\n",
              "    </tr>\n",
              "  </thead>\n",
              "  <tbody>\n",
              "    <tr>\n",
              "      <th>0</th>\n",
              "      <td>4.5</td>\n",
              "      <td>2009-06-15 17:26:21 UTC</td>\n",
              "      <td>-73.844315</td>\n",
              "      <td>40.721317</td>\n",
              "      <td>-73.841614</td>\n",
              "      <td>40.712276</td>\n",
              "      <td>1</td>\n",
              "    </tr>\n",
              "    <tr>\n",
              "      <th>1</th>\n",
              "      <td>16.9</td>\n",
              "      <td>2010-01-05 16:52:16 UTC</td>\n",
              "      <td>-74.016045</td>\n",
              "      <td>40.711304</td>\n",
              "      <td>-73.979271</td>\n",
              "      <td>40.782005</td>\n",
              "      <td>1</td>\n",
              "    </tr>\n",
              "    <tr>\n",
              "      <th>2</th>\n",
              "      <td>5.7</td>\n",
              "      <td>2011-08-18 00:35:00 UTC</td>\n",
              "      <td>-73.982735</td>\n",
              "      <td>40.761269</td>\n",
              "      <td>-73.991241</td>\n",
              "      <td>40.750561</td>\n",
              "      <td>2</td>\n",
              "    </tr>\n",
              "    <tr>\n",
              "      <th>3</th>\n",
              "      <td>7.7</td>\n",
              "      <td>2012-04-21 04:30:42 UTC</td>\n",
              "      <td>-73.987129</td>\n",
              "      <td>40.733143</td>\n",
              "      <td>-73.991570</td>\n",
              "      <td>40.758091</td>\n",
              "      <td>1</td>\n",
              "    </tr>\n",
              "    <tr>\n",
              "      <th>4</th>\n",
              "      <td>5.3</td>\n",
              "      <td>2010-03-09 07:51:00 UTC</td>\n",
              "      <td>-73.968094</td>\n",
              "      <td>40.768009</td>\n",
              "      <td>-73.956657</td>\n",
              "      <td>40.783764</td>\n",
              "      <td>1</td>\n",
              "    </tr>\n",
              "  </tbody>\n",
              "</table>\n",
              "</div>"
            ],
            "text/plain": [
              "   fare_amount          pickup_datetime  ...  dropoff_latitude  passenger_count\n",
              "0          4.5  2009-06-15 17:26:21 UTC  ...         40.712276                1\n",
              "1         16.9  2010-01-05 16:52:16 UTC  ...         40.782005                1\n",
              "2          5.7  2011-08-18 00:35:00 UTC  ...         40.750561                2\n",
              "3          7.7  2012-04-21 04:30:42 UTC  ...         40.758091                1\n",
              "4          5.3  2010-03-09 07:51:00 UTC  ...         40.783764                1\n",
              "\n",
              "[5 rows x 7 columns]"
            ]
          },
          "metadata": {
            "tags": []
          },
          "execution_count": 7
        }
      ]
    },
    {
      "cell_type": "code",
      "metadata": {
        "colab": {
          "base_uri": "https://localhost:8080/"
        },
        "id": "lVPOnNYTUIsa",
        "outputId": "868a8c99-ed53-426c-8ccf-f3a5b159bb6d"
      },
      "source": [
        "train_df.isnull().sum().sort_index()/len(train_df)"
      ],
      "execution_count": null,
      "outputs": [
        {
          "output_type": "execute_result",
          "data": {
            "text/plain": [
              "dropoff_latitude     0.000007\n",
              "dropoff_longitude    0.000007\n",
              "fare_amount          0.000000\n",
              "passenger_count      0.000000\n",
              "pickup_datetime      0.000000\n",
              "pickup_latitude      0.000000\n",
              "pickup_longitude     0.000000\n",
              "dtype: float64"
            ]
          },
          "metadata": {
            "tags": []
          },
          "execution_count": 8
        }
      ]
    },
    {
      "cell_type": "markdown",
      "metadata": {
        "id": "JB597KM1cz_O"
      },
      "source": [
        "There are some null values existing in data which we will drop."
      ]
    },
    {
      "cell_type": "code",
      "metadata": {
        "colab": {
          "base_uri": "https://localhost:8080/"
        },
        "id": "fYbN68w3USzI",
        "outputId": "6c01ce0a-3d5d-4f4a-a554-a2956b0d1966"
      },
      "source": [
        "train_df.info()"
      ],
      "execution_count": null,
      "outputs": [
        {
          "output_type": "stream",
          "text": [
            "<class 'pandas.core.frame.DataFrame'>\n",
            "RangeIndex: 55423856 entries, 0 to 55423855\n",
            "Data columns (total 7 columns):\n",
            " #   Column             Dtype  \n",
            "---  ------             -----  \n",
            " 0   fare_amount        float32\n",
            " 1   pickup_datetime    object \n",
            " 2   pickup_longitude   float32\n",
            " 3   pickup_latitude    float32\n",
            " 4   dropoff_longitude  float32\n",
            " 5   dropoff_latitude   float32\n",
            " 6   passenger_count    uint8  \n",
            "dtypes: float32(5), object(1), uint8(1)\n",
            "memory usage: 1.5+ GB\n"
          ],
          "name": "stdout"
        }
      ]
    },
    {
      "cell_type": "markdown",
      "metadata": {
        "id": "uAhFzBX9djpR"
      },
      "source": [
        "In order to utilize the pickup_datetime info will have to break down this data into its basic components year,month,day,hour,minute and seconds later."
      ]
    },
    {
      "cell_type": "code",
      "metadata": {
        "colab": {
          "base_uri": "https://localhost:8080/",
          "height": 274
        },
        "id": "auXzeLlcUP-P",
        "outputId": "ddb52b5a-45d4-40fb-d02e-2acece2b930d"
      },
      "source": [
        "train_df.describe()"
      ],
      "execution_count": null,
      "outputs": [
        {
          "output_type": "execute_result",
          "data": {
            "text/html": [
              "<div>\n",
              "<style scoped>\n",
              "    .dataframe tbody tr th:only-of-type {\n",
              "        vertical-align: middle;\n",
              "    }\n",
              "\n",
              "    .dataframe tbody tr th {\n",
              "        vertical-align: top;\n",
              "    }\n",
              "\n",
              "    .dataframe thead th {\n",
              "        text-align: right;\n",
              "    }\n",
              "</style>\n",
              "<table border=\"1\" class=\"dataframe\">\n",
              "  <thead>\n",
              "    <tr style=\"text-align: right;\">\n",
              "      <th></th>\n",
              "      <th>fare_amount</th>\n",
              "      <th>pickup_longitude</th>\n",
              "      <th>pickup_latitude</th>\n",
              "      <th>dropoff_longitude</th>\n",
              "      <th>dropoff_latitude</th>\n",
              "      <th>passenger_count</th>\n",
              "    </tr>\n",
              "  </thead>\n",
              "  <tbody>\n",
              "    <tr>\n",
              "      <th>count</th>\n",
              "      <td>5.542386e+07</td>\n",
              "      <td>5.542386e+07</td>\n",
              "      <td>5.542386e+07</td>\n",
              "      <td>5.542348e+07</td>\n",
              "      <td>5.542348e+07</td>\n",
              "      <td>5.542386e+07</td>\n",
              "    </tr>\n",
              "    <tr>\n",
              "      <th>mean</th>\n",
              "      <td>8.077921e+00</td>\n",
              "      <td>-3.875290e+01</td>\n",
              "      <td>1.937328e+01</td>\n",
              "      <td>-3.875261e+01</td>\n",
              "      <td>1.937341e+01</td>\n",
              "      <td>1.685380e+00</td>\n",
              "    </tr>\n",
              "    <tr>\n",
              "      <th>std</th>\n",
              "      <td>2.055127e+01</td>\n",
              "      <td>2.556202e+01</td>\n",
              "      <td>1.414234e+01</td>\n",
              "      <td>2.553839e+01</td>\n",
              "      <td>1.412191e+01</td>\n",
              "      <td>1.327664e+00</td>\n",
              "    </tr>\n",
              "    <tr>\n",
              "      <th>min</th>\n",
              "      <td>-3.000000e+02</td>\n",
              "      <td>-3.442060e+03</td>\n",
              "      <td>-3.492264e+03</td>\n",
              "      <td>-3.442025e+03</td>\n",
              "      <td>-3.547887e+03</td>\n",
              "      <td>0.000000e+00</td>\n",
              "    </tr>\n",
              "    <tr>\n",
              "      <th>25%</th>\n",
              "      <td>6.000000e+00</td>\n",
              "      <td>-7.399207e+01</td>\n",
              "      <td>4.073493e+01</td>\n",
              "      <td>-7.399140e+01</td>\n",
              "      <td>4.073403e+01</td>\n",
              "      <td>1.000000e+00</td>\n",
              "    </tr>\n",
              "    <tr>\n",
              "      <th>50%</th>\n",
              "      <td>8.500000e+00</td>\n",
              "      <td>-7.398180e+01</td>\n",
              "      <td>4.075265e+01</td>\n",
              "      <td>-7.398015e+01</td>\n",
              "      <td>4.075316e+01</td>\n",
              "      <td>1.000000e+00</td>\n",
              "    </tr>\n",
              "    <tr>\n",
              "      <th>75%</th>\n",
              "      <td>1.250000e+01</td>\n",
              "      <td>-7.396708e+01</td>\n",
              "      <td>4.076713e+01</td>\n",
              "      <td>-7.396368e+01</td>\n",
              "      <td>4.076810e+01</td>\n",
              "      <td>2.000000e+00</td>\n",
              "    </tr>\n",
              "    <tr>\n",
              "      <th>max</th>\n",
              "      <td>9.396336e+04</td>\n",
              "      <td>3.457626e+03</td>\n",
              "      <td>3.408790e+03</td>\n",
              "      <td>3.457622e+03</td>\n",
              "      <td>3.537133e+03</td>\n",
              "      <td>2.080000e+02</td>\n",
              "    </tr>\n",
              "  </tbody>\n",
              "</table>\n",
              "</div>"
            ],
            "text/plain": [
              "        fare_amount  pickup_longitude  ...  dropoff_latitude  passenger_count\n",
              "count  5.542386e+07      5.542386e+07  ...      5.542348e+07     5.542386e+07\n",
              "mean   8.077921e+00     -3.875290e+01  ...      1.937341e+01     1.685380e+00\n",
              "std    2.055127e+01      2.556202e+01  ...      1.412191e+01     1.327664e+00\n",
              "min   -3.000000e+02     -3.442060e+03  ...     -3.547887e+03     0.000000e+00\n",
              "25%    6.000000e+00     -7.399207e+01  ...      4.073403e+01     1.000000e+00\n",
              "50%    8.500000e+00     -7.398180e+01  ...      4.075316e+01     1.000000e+00\n",
              "75%    1.250000e+01     -7.396708e+01  ...      4.076810e+01     2.000000e+00\n",
              "max    9.396336e+04      3.457626e+03  ...      3.537133e+03     2.080000e+02\n",
              "\n",
              "[8 rows x 6 columns]"
            ]
          },
          "metadata": {
            "tags": []
          },
          "execution_count": 10
        }
      ]
    },
    {
      "cell_type": "code",
      "metadata": {
        "colab": {
          "base_uri": "https://localhost:8080/",
          "height": 309
        },
        "id": "xjUu1Sxj4gpe",
        "outputId": "7ae28eae-209e-4a3d-a146-e9833ed4c980"
      },
      "source": [
        "sns.countplot(x='passenger_count',data=train_df)"
      ],
      "execution_count": null,
      "outputs": [
        {
          "output_type": "execute_result",
          "data": {
            "text/plain": [
              "<matplotlib.axes._subplots.AxesSubplot at 0x7f8f8ec49590>"
            ]
          },
          "metadata": {
            "tags": []
          },
          "execution_count": 11
        },
        {
          "output_type": "display_data",
          "data": {
            "image/png": "[encoded data removed]",
            "text/plain": [
              "<Figure size 432x288 with 1 Axes>"
            ]
          },
          "metadata": {
            "tags": []
          }
        }
      ]
    },
    {
      "cell_type": "markdown",
      "metadata": {
        "id": "TPOFIQbAedrw"
      },
      "source": [
        "From passenger count  plot its deduced that majority of our data lies for 6 passengers which is quite plausible for a cab and thus will drop all data pertaining to passenger count above that."
      ]
    },
    {
      "cell_type": "code",
      "metadata": {
        "colab": {
          "base_uri": "https://localhost:8080/",
          "height": 298
        },
        "id": "oQLG511shMAM",
        "outputId": "7029d70c-11e2-43ab-b795-4e1481630ae8"
      },
      "source": [
        "sns.boxplot(x='fare_amount',data=train_df)"
      ],
      "execution_count": null,
      "outputs": [
        {
          "output_type": "execute_result",
          "data": {
            "text/plain": [
              "<matplotlib.axes._subplots.AxesSubplot at 0x7f8f8e0ee6d0>"
            ]
          },
          "metadata": {
            "tags": []
          },
          "execution_count": 12
        },
        {
          "output_type": "display_data",
          "data": {
            "image/png": "[encoded data removed]",
            "text/plain": [
              "<Figure size 432x288 with 1 Axes>"
            ]
          },
          "metadata": {
            "tags": []
          }
        }
      ]
    },
    {
      "cell_type": "code",
      "metadata": {
        "colab": {
          "base_uri": "https://localhost:8080/",
          "height": 132
        },
        "id": "-gCPa-l5iGuE",
        "outputId": "fe0173ae-5795-4214-b690-4c3ebce91e40"
      },
      "source": [
        "train_df[train_df[\"fare_amount\"]>20000]"
      ],
      "execution_count": null,
      "outputs": [
        {
          "output_type": "execute_result",
          "data": {
            "text/html": [
              "<div>\n",
              "<style scoped>\n",
              "    .dataframe tbody tr th:only-of-type {\n",
              "        vertical-align: middle;\n",
              "    }\n",
              "\n",
              "    .dataframe tbody tr th {\n",
              "        vertical-align: top;\n",
              "    }\n",
              "\n",
              "    .dataframe thead th {\n",
              "        text-align: right;\n",
              "    }\n",
              "</style>\n",
              "<table border=\"1\" class=\"dataframe\">\n",
              "  <thead>\n",
              "    <tr style=\"text-align: right;\">\n",
              "      <th></th>\n",
              "      <th>fare_amount</th>\n",
              "      <th>pickup_datetime</th>\n",
              "      <th>pickup_longitude</th>\n",
              "      <th>pickup_latitude</th>\n",
              "      <th>dropoff_longitude</th>\n",
              "      <th>dropoff_latitude</th>\n",
              "      <th>passenger_count</th>\n",
              "    </tr>\n",
              "  </thead>\n",
              "  <tbody>\n",
              "    <tr>\n",
              "      <th>18859340</th>\n",
              "      <td>61550.859375</td>\n",
              "      <td>2013-08-20 11:52:52 UTC</td>\n",
              "      <td>-73.967712</td>\n",
              "      <td>40.755966</td>\n",
              "      <td>-73.945572</td>\n",
              "      <td>40.747665</td>\n",
              "      <td>1</td>\n",
              "    </tr>\n",
              "    <tr>\n",
              "      <th>41032263</th>\n",
              "      <td>93963.359375</td>\n",
              "      <td>2015-02-24 08:57:37 UTC</td>\n",
              "      <td>-73.994461</td>\n",
              "      <td>40.712353</td>\n",
              "      <td>-74.012543</td>\n",
              "      <td>40.702904</td>\n",
              "      <td>2</td>\n",
              "    </tr>\n",
              "    <tr>\n",
              "      <th>41186018</th>\n",
              "      <td>75747.023438</td>\n",
              "      <td>2015-05-03 09:35:20 UTC</td>\n",
              "      <td>-73.967949</td>\n",
              "      <td>40.792355</td>\n",
              "      <td>-73.990898</td>\n",
              "      <td>40.738976</td>\n",
              "      <td>1</td>\n",
              "    </tr>\n",
              "  </tbody>\n",
              "</table>\n",
              "</div>"
            ],
            "text/plain": [
              "           fare_amount  ... passenger_count\n",
              "18859340  61550.859375  ...               1\n",
              "41032263  93963.359375  ...               2\n",
              "41186018  75747.023438  ...               1\n",
              "\n",
              "[3 rows x 7 columns]"
            ]
          },
          "metadata": {
            "tags": []
          },
          "execution_count": 13
        }
      ]
    },
    {
      "cell_type": "code",
      "metadata": {
        "colab": {
          "base_uri": "https://localhost:8080/",
          "height": 298
        },
        "id": "FifRL1hLmAgS",
        "outputId": "5cd635f4-1eb3-4364-c140-5c27b2baec23"
      },
      "source": [
        "sns.boxplot(x='fare_amount',data=train_df[train_df[\"fare_amount\"]<20000])"
      ],
      "execution_count": null,
      "outputs": [
        {
          "output_type": "execute_result",
          "data": {
            "text/plain": [
              "<matplotlib.axes._subplots.AxesSubplot at 0x7f8f8dbd5990>"
            ]
          },
          "metadata": {
            "tags": []
          },
          "execution_count": 14
        },
        {
          "output_type": "display_data",
          "data": {
            "image/png": "[encoded data removed]",
            "text/plain": [
              "<Figure size 432x288 with 1 Axes>"
            ]
          },
          "metadata": {
            "tags": []
          }
        }
      ]
    },
    {
      "cell_type": "code",
      "metadata": {
        "colab": {
          "base_uri": "https://localhost:8080/",
          "height": 274
        },
        "id": "ZLd3L5GuQguh",
        "outputId": "fdc6a287-e616-4936-a47c-3cdf34b03b65"
      },
      "source": [
        "train_df[train_df[\"fare_amount\"]>2000]"
      ],
      "execution_count": null,
      "outputs": [
        {
          "output_type": "execute_result",
          "data": {
            "text/html": [
              "<div>\n",
              "<style scoped>\n",
              "    .dataframe tbody tr th:only-of-type {\n",
              "        vertical-align: middle;\n",
              "    }\n",
              "\n",
              "    .dataframe tbody tr th {\n",
              "        vertical-align: top;\n",
              "    }\n",
              "\n",
              "    .dataframe thead th {\n",
              "        text-align: right;\n",
              "    }\n",
              "</style>\n",
              "<table border=\"1\" class=\"dataframe\">\n",
              "  <thead>\n",
              "    <tr style=\"text-align: right;\">\n",
              "      <th></th>\n",
              "      <th>fare_amount</th>\n",
              "      <th>pickup_datetime</th>\n",
              "      <th>pickup_longitude</th>\n",
              "      <th>pickup_latitude</th>\n",
              "      <th>dropoff_longitude</th>\n",
              "      <th>dropoff_latitude</th>\n",
              "      <th>passenger_count</th>\n",
              "    </tr>\n",
              "  </thead>\n",
              "  <tbody>\n",
              "    <tr>\n",
              "      <th>18592729</th>\n",
              "      <td>2010.900024</td>\n",
              "      <td>2010-03-21 10:03:32 UTC</td>\n",
              "      <td>-73.986267</td>\n",
              "      <td>40.774845</td>\n",
              "      <td>-73.971542</td>\n",
              "      <td>40.743950</td>\n",
              "      <td>1</td>\n",
              "    </tr>\n",
              "    <tr>\n",
              "      <th>18859340</th>\n",
              "      <td>61550.859375</td>\n",
              "      <td>2013-08-20 11:52:52 UTC</td>\n",
              "      <td>-73.967712</td>\n",
              "      <td>40.755966</td>\n",
              "      <td>-73.945572</td>\n",
              "      <td>40.747665</td>\n",
              "      <td>1</td>\n",
              "    </tr>\n",
              "    <tr>\n",
              "      <th>22703574</th>\n",
              "      <td>3130.300049</td>\n",
              "      <td>2015-03-09 15:28:56 UTC</td>\n",
              "      <td>-74.005417</td>\n",
              "      <td>40.664413</td>\n",
              "      <td>-74.005417</td>\n",
              "      <td>40.664413</td>\n",
              "      <td>1</td>\n",
              "    </tr>\n",
              "    <tr>\n",
              "      <th>30823273</th>\n",
              "      <td>2004.500000</td>\n",
              "      <td>2010-03-20 12:24:52 UTC</td>\n",
              "      <td>-73.963135</td>\n",
              "      <td>40.777855</td>\n",
              "      <td>-73.975433</td>\n",
              "      <td>40.782146</td>\n",
              "      <td>1</td>\n",
              "    </tr>\n",
              "    <tr>\n",
              "      <th>37879397</th>\n",
              "      <td>2023.699951</td>\n",
              "      <td>2010-03-21 14:43:02 UTC</td>\n",
              "      <td>-73.790054</td>\n",
              "      <td>40.647064</td>\n",
              "      <td>-73.917976</td>\n",
              "      <td>40.656940</td>\n",
              "      <td>1</td>\n",
              "    </tr>\n",
              "    <tr>\n",
              "      <th>39374511</th>\n",
              "      <td>9000.410156</td>\n",
              "      <td>2010-02-19 17:10:00 UTC</td>\n",
              "      <td>-73.993744</td>\n",
              "      <td>40.746105</td>\n",
              "      <td>-73.989807</td>\n",
              "      <td>40.738976</td>\n",
              "      <td>1</td>\n",
              "    </tr>\n",
              "    <tr>\n",
              "      <th>41032263</th>\n",
              "      <td>93963.359375</td>\n",
              "      <td>2015-02-24 08:57:37 UTC</td>\n",
              "      <td>-73.994461</td>\n",
              "      <td>40.712353</td>\n",
              "      <td>-74.012543</td>\n",
              "      <td>40.702904</td>\n",
              "      <td>2</td>\n",
              "    </tr>\n",
              "    <tr>\n",
              "      <th>41186018</th>\n",
              "      <td>75747.023438</td>\n",
              "      <td>2015-05-03 09:35:20 UTC</td>\n",
              "      <td>-73.967949</td>\n",
              "      <td>40.792355</td>\n",
              "      <td>-73.990898</td>\n",
              "      <td>40.738976</td>\n",
              "      <td>1</td>\n",
              "    </tr>\n",
              "  </tbody>\n",
              "</table>\n",
              "</div>"
            ],
            "text/plain": [
              "           fare_amount  ... passenger_count\n",
              "18592729   2010.900024  ...               1\n",
              "18859340  61550.859375  ...               1\n",
              "22703574   3130.300049  ...               1\n",
              "30823273   2004.500000  ...               1\n",
              "37879397   2023.699951  ...               1\n",
              "39374511   9000.410156  ...               1\n",
              "41032263  93963.359375  ...               2\n",
              "41186018  75747.023438  ...               1\n",
              "\n",
              "[8 rows x 7 columns]"
            ]
          },
          "metadata": {
            "tags": []
          },
          "execution_count": 15
        }
      ]
    },
    {
      "cell_type": "markdown",
      "metadata": {
        "id": "edBMbQauiN9V"
      },
      "source": [
        "Will drop these rows with fare > 2000  as fare_amount is too  large for these trips even though there seems to be no irregularity in other data and as can be seen from plots points beyond these are outliers anyways as majority data lies below 2000."
      ]
    },
    {
      "cell_type": "code",
      "metadata": {
        "colab": {
          "base_uri": "https://localhost:8080/"
        },
        "id": "YZnkQJNVIccw",
        "outputId": "c69b1d54-adb6-4a15-eebb-339b31013fb5"
      },
      "source": [
        "len(train_df)"
      ],
      "execution_count": null,
      "outputs": [
        {
          "output_type": "execute_result",
          "data": {
            "text/plain": [
              "55423856"
            ]
          },
          "metadata": {
            "tags": []
          },
          "execution_count": 16
        }
      ]
    },
    {
      "cell_type": "markdown",
      "metadata": {
        "id": "LLrrgKTAofFM"
      },
      "source": [
        "## Feature Engineering"
      ]
    },
    {
      "cell_type": "markdown",
      "metadata": {
        "id": "Qx4fL7Bule_i"
      },
      "source": [
        "-New York city coordinates are \n",
        "\n",
        "\n",
        "longitude = -74.0063889\n",
        "lattitude = 40.7141667\n",
        "\n",
        "so accordingly will filter out the coordinates around these."
      ]
    },
    {
      "cell_type": "code",
      "metadata": {
        "id": "6846vTol7ZMh"
      },
      "source": [
        "jfk = (-73.7781, 40.6413)\n",
        "ewr = (-74.1745, 40.6895)\n",
        "lgr = (-73.8740, 40.7769)\n",
        "tsq =(-74.1745, 40.6895)\n",
        "met = (-73.9632,40.7794)\n"
      ],
      "execution_count": null,
      "outputs": []
    },
    {
      "cell_type": "markdown",
      "metadata": {
        "id": "GgMEwOBvf3nW"
      },
      "source": [
        "Taking a cab around some areas in city  is either quiet expensive than others or the prices are fixed  and thus i have picked up some major Airports/Terminals which are  in the city and cover this scenario."
      ]
    },
    {
      "cell_type": "code",
      "metadata": {
        "id": "NLe1X6mOCOgF"
      },
      "source": [
        "# calculate-distance-between-two-latitude-longitude-points-haversine-formula \n",
        "# Returns distance in miles\n",
        "def distance(lat1, lon1, lat2, lon2):\n",
        "    p = 0.017453292519943295 # Pi/180\n",
        "    a = 0.5 - np.cos((lat2 - lat1) * p)/2 + np.cos(lat1 * p) * np.cos(lat2 * p) * (1 - np.cos((lon2 - lon1) * p)) / 2\n",
        "    return 0.6213712 * 12742 * np.arcsin(np.sqrt(a))   # 2*R*asin..."
      ],
      "execution_count": null,
      "outputs": []
    },
    {
      "cell_type": "markdown",
      "metadata": {
        "id": "30y7UaMTk-yk"
      },
      "source": [
        "We will use haversine formula in order to calculate distance between the co-ordinates."
      ]
    },
    {
      "cell_type": "code",
      "metadata": {
        "id": "J_5Km3vatgsj"
      },
      "source": [
        "# list to hold the batch dataframe\n",
        "chunksize = 1_000_000# 5 million rows at one go. Or try 10 million\n",
        "traintypes = {'fare_amount': 'float32',\n",
        "              'pickup_datetime': 'str', \n",
        "              'pickup_longitude': 'float32',\n",
        "              'pickup_latitude': 'float32',\n",
        "              'dropoff_longitude': 'float32',\n",
        "              'dropoff_latitude': 'float32',\n",
        "              'passenger_count': 'uint8'}\n",
        "\n",
        "cols = list(traintypes.keys())\n"
      ],
      "execution_count": null,
      "outputs": []
    },
    {
      "cell_type": "code",
      "metadata": {
        "id": "jHHCXoUJpBzp"
      },
      "source": [
        "def processed_data(unprocessed_file_path):\n",
        "  df_list = [] \n",
        "  count=0\n",
        "  for df_chunk in tqdm(pd.read_csv(unprocessed_file_path, usecols=cols, dtype=traintypes, chunksize=chunksize,parse_dates=['pickup_datetime'])):\n",
        "        df_chunk=df_chunk[df_chunk[\"fare_amount\"].between(1, 2000, inclusive = True) ]\n",
        "        df_chunk=df_chunk[df_chunk[\"passenger_count\"].between(1, 6, inclusive = True) ]\n",
        "        \n",
        "        df_chunk=df_chunk.dropna(how = 'any', axis = 'rows')\n",
        "\n",
        "        df_chunk=df_chunk[df_chunk['dropoff_longitude'].between(-75,-72, inclusive = True)]\n",
        "        df_chunk=df_chunk[df_chunk['pickup_longitude'].between(-75, -72, inclusive = True)]\n",
        "        df_chunk=df_chunk[df_chunk['pickup_latitude'].between(40, 42, inclusive = True)]\n",
        "        df_chunk=df_chunk[df_chunk['dropoff_latitude'].between(40,42, inclusive = True)]\n",
        "\n",
        "        df_chunk['diff_lat'] = ( df_chunk['dropoff_latitude'] - df_chunk['pickup_latitude']).abs()\n",
        "        df_chunk['diff_long'] = (df_chunk['dropoff_longitude'] - df_chunk['pickup_longitude']).abs()\n",
        "\n",
        "        df_chunk[\"geodesic\"]=df_chunk.apply(lambda x: geopy.distance.geodesic((x.pickup_latitude,x.pickup_longitude),(x.dropoff_latitude,x.dropoff_longitude)), axis=1).astype(str).str[:-3].astype('float32')\n",
        "        df_chunk=df_chunk[df_chunk[\"geodesic\"]>=1]\n",
        "        \n",
        "        df_chunk['pickup_distance_to_jfk'] = distance(jfk[1], jfk[0],df_chunk['pickup_latitude'], df_chunk['pickup_longitude']).astype('float32')\n",
        "        df_chunk['dropoff_distance_to_jfk'] = distance(jfk[1], jfk[0],df_chunk['dropoff_latitude'], df_chunk['dropoff_longitude']).astype('float32')\n",
        "        df_chunk['pickup_distance_to_ewr'] = distance(ewr[1], ewr[0],df_chunk['pickup_latitude'], df_chunk['pickup_longitude']).astype('float32')\n",
        "        df_chunk['dropoff_distance_to_ewr'] = distance(ewr[1], ewr[0],df_chunk['dropoff_latitude'], df_chunk['dropoff_longitude']).astype('float32')\n",
        "        df_chunk['pickup_distance_to_lgr'] = distance(lgr[1], lgr[0],df_chunk['pickup_latitude'], df_chunk['pickup_longitude']).astype('float32')\n",
        "        df_chunk['dropoff_distance_to_lgr'] = distance(lgr[1], lgr[0],df_chunk['dropoff_latitude'], df_chunk['dropoff_longitude']).astype('float32')\n",
        "        df_chunk['pickup_distance_to_tsq'] = distance(tsq[1], tsq[0],df_chunk['pickup_latitude'], df_chunk['pickup_longitude']).astype('float32')\n",
        "        df_chunk['dropoff_distance_to_tsq'] = distance(tsq[1], tsq[0],df_chunk['dropoff_latitude'], df_chunk['dropoff_longitude']).astype('float32')\n",
        "        df_chunk['pickup_distance_to_met'] = distance(met[1], met[0],df_chunk['pickup_latitude'], df_chunk['pickup_longitude']).astype('float32')\n",
        "        df_chunk['dropoff_distance_to_met'] = distance(met[1], met[0],df_chunk['dropoff_latitude'], df_chunk['dropoff_longitude']).astype('float32')\n",
        "\n",
        "        df_chunk[['pickup_longitude', 'pickup_latitude','dropoff_longitude', 'dropoff_latitude']]=df_chunk[['pickup_longitude', 'pickup_latitude','dropoff_longitude', 'dropoff_latitude']].astype('float32')\n",
        "        \n",
        "        \n",
        "        df_chunk['day']=(df_chunk['pickup_datetime'].dt.weekday).astype('uint8')\n",
        "        df_chunk['month']=(df_chunk['pickup_datetime'].dt.month).astype('uint8')\n",
        "        df_chunk['year']=df_chunk['pickup_datetime'].dt.year.astype('uint32')\n",
        "        \n",
        "        df_chunk['time']=df_chunk['pickup_datetime'].dt.time\n",
        "        df_chunk[['hh','mm','ss']] = df_chunk['time'].astype(str).str.split(':', expand=True).astype(int)\n",
        "        df_chunk=df_chunk.drop([\"time\",\"pickup_datetime\"],axis=1)\n",
        "\n",
        "        \n",
        "        df_chunk['hh']=df_chunk['hh'].astype('uint8')\n",
        "        df_chunk['mm']=df_chunk['mm'].astype('uint8')\n",
        "        df_chunk['ss']=df_chunk['ss'].astype('uint8')\n",
        "\n",
        "        \n",
        "        df_list.append(df_chunk) \n",
        "        del df_chunk\n",
        "\n",
        "        \n",
        "        if(count==25):\n",
        "          break\n",
        "        else:\n",
        "          count+=1  \n",
        "        \n",
        "  \n",
        "  train_df = pd.concat(df_list)\n",
        "  del df_list\n",
        "  return train_df\n"
      ],
      "execution_count": null,
      "outputs": []
    },
    {
      "cell_type": "code",
      "metadata": {
        "colab": {
          "base_uri": "https://localhost:8080/"
        },
        "id": "LjxpgJGiw4Mh",
        "outputId": "1729280f-ba08-46fd-df21-d5a9cb32a654"
      },
      "source": [
        "train_df = processed_data('train.csv')"
      ],
      "execution_count": null,
      "outputs": [
        {
          "output_type": "stream",
          "text": [
            "25it [3:11:20, 454.78s/it]"
          ],
          "name": "stderr"
        }
      ]
    },
    {
      "cell_type": "markdown",
      "metadata": {
        "id": "EswZ-Z2VutdU"
      },
      "source": [
        "First i will remove all duplicates from our data and then  sample this data due to memory limitations and save that sampled data for future use."
      ]
    },
    {
      "cell_type": "code",
      "metadata": {
        "id": "T3NoKQTWeK0C"
      },
      "source": [
        "train_df[train_df.duplicated(keep=False)]"
      ],
      "execution_count": null,
      "outputs": []
    },
    {
      "cell_type": "code",
      "metadata": {
        "id": "m5CZ8eUhPJMB"
      },
      "source": [
        "train_df.drop_duplicates(keep=False,inplace=True)"
      ],
      "execution_count": null,
      "outputs": []
    },
    {
      "cell_type": "markdown",
      "metadata": {
        "id": "iaE7sxRseM5B"
      },
      "source": [
        "Some duplicate data also exists which we will  filter out."
      ]
    },
    {
      "cell_type": "code",
      "metadata": {
        "colab": {
          "base_uri": "https://localhost:8080/",
          "height": 408
        },
        "id": "2H868CBT_QbX",
        "outputId": "aba605c8-f6eb-4a8d-9cf2-6bf290e94f7b"
      },
      "source": [
        "train_df"
      ],
      "execution_count": null,
      "outputs": [
        {
          "output_type": "execute_result",
          "data": {
            "text/html": [
              "<div>\n",
              "<style scoped>\n",
              "    .dataframe tbody tr th:only-of-type {\n",
              "        vertical-align: middle;\n",
              "    }\n",
              "\n",
              "    .dataframe tbody tr th {\n",
              "        vertical-align: top;\n",
              "    }\n",
              "\n",
              "    .dataframe thead th {\n",
              "        text-align: right;\n",
              "    }\n",
              "</style>\n",
              "<table border=\"1\" class=\"dataframe\">\n",
              "  <thead>\n",
              "    <tr style=\"text-align: right;\">\n",
              "      <th></th>\n",
              "      <th>fare_amount</th>\n",
              "      <th>pickup_longitude</th>\n",
              "      <th>pickup_latitude</th>\n",
              "      <th>dropoff_longitude</th>\n",
              "      <th>dropoff_latitude</th>\n",
              "      <th>passenger_count</th>\n",
              "      <th>diff_lat</th>\n",
              "      <th>diff_long</th>\n",
              "      <th>geodesic</th>\n",
              "      <th>pickup_distance_to_jfk</th>\n",
              "      <th>dropoff_distance_to_jfk</th>\n",
              "      <th>pickup_distance_to_ewr</th>\n",
              "      <th>dropoff_distance_to_ewr</th>\n",
              "      <th>pickup_distance_to_lgr</th>\n",
              "      <th>dropoff_distance_to_lgr</th>\n",
              "      <th>pickup_distance_to_tsq</th>\n",
              "      <th>dropoff_distance_to_tsq</th>\n",
              "      <th>pickup_distance_to_met</th>\n",
              "      <th>dropoff_distance_to_met</th>\n",
              "      <th>day</th>\n",
              "      <th>month</th>\n",
              "      <th>year</th>\n",
              "      <th>hh</th>\n",
              "      <th>mm</th>\n",
              "      <th>ss</th>\n",
              "    </tr>\n",
              "  </thead>\n",
              "  <tbody>\n",
              "    <tr>\n",
              "      <th>0</th>\n",
              "      <td>4.50</td>\n",
              "      <td>-73.844315</td>\n",
              "      <td>40.721317</td>\n",
              "      <td>-73.841614</td>\n",
              "      <td>40.712276</td>\n",
              "      <td>1</td>\n",
              "      <td>0.009041</td>\n",
              "      <td>0.002701</td>\n",
              "      <td>1.029579</td>\n",
              "      <td>6.527098</td>\n",
              "      <td>5.926695</td>\n",
              "      <td>17.433527</td>\n",
              "      <td>17.507881</td>\n",
              "      <td>4.142829</td>\n",
              "      <td>4.776068</td>\n",
              "      <td>17.433527</td>\n",
              "      <td>17.507881</td>\n",
              "      <td>7.404578</td>\n",
              "      <td>7.875058</td>\n",
              "      <td>0</td>\n",
              "      <td>6</td>\n",
              "      <td>2009</td>\n",
              "      <td>17</td>\n",
              "      <td>26</td>\n",
              "      <td>21</td>\n",
              "    </tr>\n",
              "    <tr>\n",
              "      <th>1</th>\n",
              "      <td>16.90</td>\n",
              "      <td>-74.016045</td>\n",
              "      <td>40.711304</td>\n",
              "      <td>-73.979271</td>\n",
              "      <td>40.782005</td>\n",
              "      <td>1</td>\n",
              "      <td>0.070702</td>\n",
              "      <td>0.036774</td>\n",
              "      <td>8.443307</td>\n",
              "      <td>13.373732</td>\n",
              "      <td>14.335908</td>\n",
              "      <td>8.435769</td>\n",
              "      <td>12.054876</td>\n",
              "      <td>8.708064</td>\n",
              "      <td>5.519006</td>\n",
              "      <td>8.435769</td>\n",
              "      <td>12.054876</td>\n",
              "      <td>5.457930</td>\n",
              "      <td>0.859861</td>\n",
              "      <td>1</td>\n",
              "      <td>1</td>\n",
              "      <td>2010</td>\n",
              "      <td>16</td>\n",
              "      <td>52</td>\n",
              "      <td>16</td>\n",
              "    </tr>\n",
              "    <tr>\n",
              "      <th>2</th>\n",
              "      <td>5.70</td>\n",
              "      <td>-73.982735</td>\n",
              "      <td>40.761269</td>\n",
              "      <td>-73.991241</td>\n",
              "      <td>40.750561</td>\n",
              "      <td>2</td>\n",
              "      <td>0.010708</td>\n",
              "      <td>0.008507</td>\n",
              "      <td>1.389240</td>\n",
              "      <td>13.550062</td>\n",
              "      <td>13.478043</td>\n",
              "      <td>11.198892</td>\n",
              "      <td>10.482989</td>\n",
              "      <td>5.791427</td>\n",
              "      <td>6.399674</td>\n",
              "      <td>11.198892</td>\n",
              "      <td>10.482989</td>\n",
              "      <td>1.616868</td>\n",
              "      <td>2.474634</td>\n",
              "      <td>3</td>\n",
              "      <td>8</td>\n",
              "      <td>2011</td>\n",
              "      <td>0</td>\n",
              "      <td>35</td>\n",
              "      <td>0</td>\n",
              "    </tr>\n",
              "    <tr>\n",
              "      <th>3</th>\n",
              "      <td>7.70</td>\n",
              "      <td>-73.987129</td>\n",
              "      <td>40.733143</td>\n",
              "      <td>-73.991570</td>\n",
              "      <td>40.758091</td>\n",
              "      <td>1</td>\n",
              "      <td>0.024948</td>\n",
              "      <td>0.004440</td>\n",
              "      <td>2.795730</td>\n",
              "      <td>12.657128</td>\n",
              "      <td>13.789624</td>\n",
              "      <td>10.266037</td>\n",
              "      <td>10.687096</td>\n",
              "      <td>6.648248</td>\n",
              "      <td>6.288044</td>\n",
              "      <td>10.266037</td>\n",
              "      <td>10.687096</td>\n",
              "      <td>3.432682</td>\n",
              "      <td>2.090812</td>\n",
              "      <td>5</td>\n",
              "      <td>4</td>\n",
              "      <td>2012</td>\n",
              "      <td>4</td>\n",
              "      <td>30</td>\n",
              "      <td>42</td>\n",
              "    </tr>\n",
              "    <tr>\n",
              "      <th>4</th>\n",
              "      <td>5.30</td>\n",
              "      <td>-73.968094</td>\n",
              "      <td>40.768009</td>\n",
              "      <td>-73.956657</td>\n",
              "      <td>40.783764</td>\n",
              "      <td>1</td>\n",
              "      <td>0.015755</td>\n",
              "      <td>0.011436</td>\n",
              "      <td>1.998262</td>\n",
              "      <td>13.254408</td>\n",
              "      <td>13.577181</td>\n",
              "      <td>12.092247</td>\n",
              "      <td>13.133452</td>\n",
              "      <td>4.961637</td>\n",
              "      <td>4.350463</td>\n",
              "      <td>12.092247</td>\n",
              "      <td>13.133452</td>\n",
              "      <td>0.827638</td>\n",
              "      <td>0.456154</td>\n",
              "      <td>1</td>\n",
              "      <td>3</td>\n",
              "      <td>2010</td>\n",
              "      <td>7</td>\n",
              "      <td>51</td>\n",
              "      <td>0</td>\n",
              "    </tr>\n",
              "    <tr>\n",
              "      <th>...</th>\n",
              "      <td>...</td>\n",
              "      <td>...</td>\n",
              "      <td>...</td>\n",
              "      <td>...</td>\n",
              "      <td>...</td>\n",
              "      <td>...</td>\n",
              "      <td>...</td>\n",
              "      <td>...</td>\n",
              "      <td>...</td>\n",
              "      <td>...</td>\n",
              "      <td>...</td>\n",
              "      <td>...</td>\n",
              "      <td>...</td>\n",
              "      <td>...</td>\n",
              "      <td>...</td>\n",
              "      <td>...</td>\n",
              "      <td>...</td>\n",
              "      <td>...</td>\n",
              "      <td>...</td>\n",
              "      <td>...</td>\n",
              "      <td>...</td>\n",
              "      <td>...</td>\n",
              "      <td>...</td>\n",
              "      <td>...</td>\n",
              "      <td>...</td>\n",
              "    </tr>\n",
              "    <tr>\n",
              "      <th>25999993</th>\n",
              "      <td>5.00</td>\n",
              "      <td>-73.992722</td>\n",
              "      <td>40.737175</td>\n",
              "      <td>-73.993713</td>\n",
              "      <td>40.728092</td>\n",
              "      <td>1</td>\n",
              "      <td>0.009083</td>\n",
              "      <td>0.000992</td>\n",
              "      <td>1.012107</td>\n",
              "      <td>13.050360</td>\n",
              "      <td>12.789841</td>\n",
              "      <td>10.073790</td>\n",
              "      <td>9.837002</td>\n",
              "      <td>6.792769</td>\n",
              "      <td>7.115733</td>\n",
              "      <td>10.073790</td>\n",
              "      <td>9.837002</td>\n",
              "      <td>3.301329</td>\n",
              "      <td>3.888165</td>\n",
              "      <td>6</td>\n",
              "      <td>6</td>\n",
              "      <td>2014</td>\n",
              "      <td>13</td>\n",
              "      <td>32</td>\n",
              "      <td>4</td>\n",
              "    </tr>\n",
              "    <tr>\n",
              "      <th>25999995</th>\n",
              "      <td>6.10</td>\n",
              "      <td>-73.990425</td>\n",
              "      <td>40.756519</td>\n",
              "      <td>-74.001434</td>\n",
              "      <td>40.751545</td>\n",
              "      <td>1</td>\n",
              "      <td>0.004974</td>\n",
              "      <td>0.011009</td>\n",
              "      <td>1.081426</td>\n",
              "      <td>13.677677</td>\n",
              "      <td>13.960506</td>\n",
              "      <td>10.693472</td>\n",
              "      <td>10.025496</td>\n",
              "      <td>6.253090</td>\n",
              "      <td>6.895091</td>\n",
              "      <td>10.693472</td>\n",
              "      <td>10.025496</td>\n",
              "      <td>2.128117</td>\n",
              "      <td>2.776214</td>\n",
              "      <td>2</td>\n",
              "      <td>8</td>\n",
              "      <td>2011</td>\n",
              "      <td>13</td>\n",
              "      <td>37</td>\n",
              "      <td>25</td>\n",
              "    </tr>\n",
              "    <tr>\n",
              "      <th>25999996</th>\n",
              "      <td>14.50</td>\n",
              "      <td>-73.988182</td>\n",
              "      <td>40.743362</td>\n",
              "      <td>-73.943207</td>\n",
              "      <td>40.717651</td>\n",
              "      <td>1</td>\n",
              "      <td>0.025711</td>\n",
              "      <td>0.044975</td>\n",
              "      <td>4.752609</td>\n",
              "      <td>13.071175</td>\n",
              "      <td>10.132833</td>\n",
              "      <td>10.442926</td>\n",
              "      <td>12.270101</td>\n",
              "      <td>6.409237</td>\n",
              "      <td>5.466407</td>\n",
              "      <td>10.442926</td>\n",
              "      <td>12.270101</td>\n",
              "      <td>2.812328</td>\n",
              "      <td>4.392896</td>\n",
              "      <td>0</td>\n",
              "      <td>11</td>\n",
              "      <td>2011</td>\n",
              "      <td>21</td>\n",
              "      <td>42</td>\n",
              "      <td>31</td>\n",
              "    </tr>\n",
              "    <tr>\n",
              "      <th>25999998</th>\n",
              "      <td>14.10</td>\n",
              "      <td>-73.990486</td>\n",
              "      <td>40.758072</td>\n",
              "      <td>-73.996773</td>\n",
              "      <td>40.716457</td>\n",
              "      <td>3</td>\n",
              "      <td>0.041615</td>\n",
              "      <td>0.006287</td>\n",
              "      <td>4.651655</td>\n",
              "      <td>13.742874</td>\n",
              "      <td>12.579947</td>\n",
              "      <td>10.737391</td>\n",
              "      <td>9.493794</td>\n",
              "      <td>6.232863</td>\n",
              "      <td>7.664292</td>\n",
              "      <td>10.737391</td>\n",
              "      <td>9.493794</td>\n",
              "      <td>2.051895</td>\n",
              "      <td>4.690557</td>\n",
              "      <td>6</td>\n",
              "      <td>3</td>\n",
              "      <td>2009</td>\n",
              "      <td>11</td>\n",
              "      <td>51</td>\n",
              "      <td>23</td>\n",
              "    </tr>\n",
              "    <tr>\n",
              "      <th>25999999</th>\n",
              "      <td>49.57</td>\n",
              "      <td>-73.981735</td>\n",
              "      <td>40.771088</td>\n",
              "      <td>-73.777832</td>\n",
              "      <td>40.644779</td>\n",
              "      <td>1</td>\n",
              "      <td>0.126308</td>\n",
              "      <td>0.203903</td>\n",
              "      <td>22.218073</td>\n",
              "      <td>13.934673</td>\n",
              "      <td>0.240800</td>\n",
              "      <td>11.560381</td>\n",
              "      <td>21.016878</td>\n",
              "      <td>5.651402</td>\n",
              "      <td>10.425946</td>\n",
              "      <td>11.560381</td>\n",
              "      <td>21.016878</td>\n",
              "      <td>1.127118</td>\n",
              "      <td>13.444878</td>\n",
              "      <td>4</td>\n",
              "      <td>6</td>\n",
              "      <td>2010</td>\n",
              "      <td>10</td>\n",
              "      <td>56</td>\n",
              "      <td>46</td>\n",
              "    </tr>\n",
              "  </tbody>\n",
              "</table>\n",
              "<p>21157353 rows × 25 columns</p>\n",
              "</div>"
            ],
            "text/plain": [
              "          fare_amount  pickup_longitude  pickup_latitude  ...  hh  mm  ss\n",
              "0                4.50        -73.844315        40.721317  ...  17  26  21\n",
              "1               16.90        -74.016045        40.711304  ...  16  52  16\n",
              "2                5.70        -73.982735        40.761269  ...   0  35   0\n",
              "3                7.70        -73.987129        40.733143  ...   4  30  42\n",
              "4                5.30        -73.968094        40.768009  ...   7  51   0\n",
              "...               ...               ...              ...  ...  ..  ..  ..\n",
              "25999993         5.00        -73.992722        40.737175  ...  13  32   4\n",
              "25999995         6.10        -73.990425        40.756519  ...  13  37  25\n",
              "25999996        14.50        -73.988182        40.743362  ...  21  42  31\n",
              "25999998        14.10        -73.990486        40.758072  ...  11  51  23\n",
              "25999999        49.57        -73.981735        40.771088  ...  10  56  46\n",
              "\n",
              "[21157353 rows x 25 columns]"
            ]
          },
          "metadata": {
            "tags": []
          },
          "execution_count": 11
        }
      ]
    },
    {
      "cell_type": "code",
      "metadata": {
        "id": "rcSGu65-3x5K"
      },
      "source": [
        "train_df.to_csv('/content/drive/MyDrive/NYC/mod_traincsv.csv',index=False)\n",
        "train_df.reset_index().to_feather('/content/drive/MyDrive/NYC/mod_trainfeather.feather')\n"
      ],
      "execution_count": null,
      "outputs": []
    },
    {
      "cell_type": "code",
      "metadata": {
        "colab": {
          "base_uri": "https://localhost:8080/"
        },
        "id": "34qMxbUoKBS3",
        "outputId": "8064f749-d916-480a-d158-261d4681cde2"
      },
      "source": [
        "print(\"Done\")"
      ],
      "execution_count": null,
      "outputs": [
        {
          "output_type": "stream",
          "text": [
            "Done\n"
          ],
          "name": "stdout"
        }
      ]
    },
    {
      "cell_type": "markdown",
      "metadata": {
        "id": "F5dwvQpSrixV"
      },
      "source": [
        "##Further processing and inferences"
      ]
    },
    {
      "cell_type": "code",
      "metadata": {
        "id": "Zjokya7Q8lKO"
      },
      "source": [
        "train_df=pd.read_feather('/content/drive/MyDrive/NYC/mod_trainfeather.feather')\n"
      ],
      "execution_count": null,
      "outputs": []
    },
    {
      "cell_type": "code",
      "metadata": {
        "id": "HVkod8ib-R9U"
      },
      "source": [
        "train_df.set_index(\"index\", inplace = True)"
      ],
      "execution_count": null,
      "outputs": []
    },
    {
      "cell_type": "code",
      "metadata": {
        "colab": {
          "base_uri": "https://localhost:8080/"
        },
        "id": "EXd4aD6EXofe",
        "outputId": "6a8afa3e-cd6a-48af-f79f-dbd96621094c"
      },
      "source": [
        "train_df.shape"
      ],
      "execution_count": null,
      "outputs": [
        {
          "output_type": "execute_result",
          "data": {
            "text/plain": [
              "(21157353, 25)"
            ]
          },
          "metadata": {
            "tags": []
          },
          "execution_count": 4
        }
      ]
    },
    {
      "cell_type": "code",
      "metadata": {
        "colab": {
          "base_uri": "https://localhost:8080/"
        },
        "id": "LWl6MT88Xofi",
        "outputId": "47f71bd7-e387-454c-f846-ad4d4db0ed27"
      },
      "source": [
        "train_df.info()"
      ],
      "execution_count": null,
      "outputs": [
        {
          "output_type": "stream",
          "text": [
            "<class 'pandas.core.frame.DataFrame'>\n",
            "Int64Index: 21157353 entries, 0 to 25999999\n",
            "Data columns (total 25 columns):\n",
            " #   Column                   Dtype  \n",
            "---  ------                   -----  \n",
            " 0   fare_amount              float32\n",
            " 1   pickup_longitude         float32\n",
            " 2   pickup_latitude          float32\n",
            " 3   dropoff_longitude        float32\n",
            " 4   dropoff_latitude         float32\n",
            " 5   passenger_count          uint8  \n",
            " 6   diff_lat                 float32\n",
            " 7   diff_long                float32\n",
            " 8   geodesic                 float32\n",
            " 9   pickup_distance_to_jfk   float32\n",
            " 10  dropoff_distance_to_jfk  float32\n",
            " 11  pickup_distance_to_ewr   float32\n",
            " 12  dropoff_distance_to_ewr  float32\n",
            " 13  pickup_distance_to_lgr   float32\n",
            " 14  dropoff_distance_to_lgr  float32\n",
            " 15  pickup_distance_to_tsq   float32\n",
            " 16  dropoff_distance_to_tsq  float32\n",
            " 17  pickup_distance_to_met   float32\n",
            " 18  dropoff_distance_to_met  float32\n",
            " 19  day                      uint8  \n",
            " 20  month                    uint8  \n",
            " 21  year                     uint32 \n",
            " 22  hh                       uint8  \n",
            " 23  mm                       uint8  \n",
            " 24  ss                       uint8  \n",
            "dtypes: float32(18), uint32(1), uint8(6)\n",
            "memory usage: 1.8 GB\n"
          ],
          "name": "stdout"
        }
      ]
    },
    {
      "cell_type": "code",
      "metadata": {
        "colab": {
          "base_uri": "https://localhost:8080/",
          "height": 317
        },
        "id": "TWTfI5HiXofh",
        "outputId": "dd8c0675-a4fd-4183-a4fb-68ec5fabf02e"
      },
      "source": [
        "train_df.describe()"
      ],
      "execution_count": null,
      "outputs": [
        {
          "output_type": "execute_result",
          "data": {
            "text/html": [
              "<div>\n",
              "<style scoped>\n",
              "    .dataframe tbody tr th:only-of-type {\n",
              "        vertical-align: middle;\n",
              "    }\n",
              "\n",
              "    .dataframe tbody tr th {\n",
              "        vertical-align: top;\n",
              "    }\n",
              "\n",
              "    .dataframe thead th {\n",
              "        text-align: right;\n",
              "    }\n",
              "</style>\n",
              "<table border=\"1\" class=\"dataframe\">\n",
              "  <thead>\n",
              "    <tr style=\"text-align: right;\">\n",
              "      <th></th>\n",
              "      <th>fare_amount</th>\n",
              "      <th>pickup_longitude</th>\n",
              "      <th>pickup_latitude</th>\n",
              "      <th>dropoff_longitude</th>\n",
              "      <th>dropoff_latitude</th>\n",
              "      <th>passenger_count</th>\n",
              "      <th>diff_lat</th>\n",
              "      <th>diff_long</th>\n",
              "      <th>geodesic</th>\n",
              "      <th>pickup_distance_to_jfk</th>\n",
              "      <th>dropoff_distance_to_jfk</th>\n",
              "      <th>pickup_distance_to_ewr</th>\n",
              "      <th>dropoff_distance_to_ewr</th>\n",
              "      <th>pickup_distance_to_lgr</th>\n",
              "      <th>dropoff_distance_to_lgr</th>\n",
              "      <th>pickup_distance_to_tsq</th>\n",
              "      <th>dropoff_distance_to_tsq</th>\n",
              "      <th>pickup_distance_to_met</th>\n",
              "      <th>dropoff_distance_to_met</th>\n",
              "      <th>day</th>\n",
              "      <th>month</th>\n",
              "      <th>year</th>\n",
              "      <th>hh</th>\n",
              "      <th>mm</th>\n",
              "      <th>ss</th>\n",
              "    </tr>\n",
              "  </thead>\n",
              "  <tbody>\n",
              "    <tr>\n",
              "      <th>count</th>\n",
              "      <td>2.115735e+07</td>\n",
              "      <td>2.115735e+07</td>\n",
              "      <td>2.115735e+07</td>\n",
              "      <td>2.115735e+07</td>\n",
              "      <td>2.115735e+07</td>\n",
              "      <td>2.115735e+07</td>\n",
              "      <td>2.115735e+07</td>\n",
              "      <td>2.115735e+07</td>\n",
              "      <td>2.115735e+07</td>\n",
              "      <td>2.115735e+07</td>\n",
              "      <td>2.115735e+07</td>\n",
              "      <td>2.115735e+07</td>\n",
              "      <td>2.115735e+07</td>\n",
              "      <td>2.115735e+07</td>\n",
              "      <td>2.115735e+07</td>\n",
              "      <td>2.115735e+07</td>\n",
              "      <td>2.115735e+07</td>\n",
              "      <td>2.115735e+07</td>\n",
              "      <td>2.115735e+07</td>\n",
              "      <td>2.115735e+07</td>\n",
              "      <td>2.115735e+07</td>\n",
              "      <td>2.115735e+07</td>\n",
              "      <td>2.115735e+07</td>\n",
              "      <td>2.115735e+07</td>\n",
              "      <td>2.115735e+07</td>\n",
              "    </tr>\n",
              "    <tr>\n",
              "      <th>mean</th>\n",
              "      <td>1.237236e+01</td>\n",
              "      <td>-8.129482e+01</td>\n",
              "      <td>4.541893e+01</td>\n",
              "      <td>-8.129440e+01</td>\n",
              "      <td>4.541895e+01</td>\n",
              "      <td>1.692950e+00</td>\n",
              "      <td>2.395914e-02</td>\n",
              "      <td>2.526157e-02</td>\n",
              "      <td>3.635531e+00</td>\n",
              "      <td>1.269591e+01</td>\n",
              "      <td>1.273613e+01</td>\n",
              "      <td>1.271281e+01</td>\n",
              "      <td>1.272190e+01</td>\n",
              "      <td>6.405774e+00</td>\n",
              "      <td>6.411884e+00</td>\n",
              "      <td>1.271281e+01</td>\n",
              "      <td>1.272190e+01</td>\n",
              "      <td>2.629571e+00</td>\n",
              "      <td>2.748460e+00</td>\n",
              "      <td>3.056697e+00</td>\n",
              "      <td>6.282495e+00</td>\n",
              "      <td>2.011750e+03</td>\n",
              "      <td>1.352495e+01</td>\n",
              "      <td>2.956427e+01</td>\n",
              "      <td>1.589732e+01</td>\n",
              "    </tr>\n",
              "    <tr>\n",
              "      <th>std</th>\n",
              "      <td>9.318500e+00</td>\n",
              "      <td>7.124118e+00</td>\n",
              "      <td>4.796455e+00</td>\n",
              "      <td>7.124018e+00</td>\n",
              "      <td>4.797296e+00</td>\n",
              "      <td>1.305757e+00</td>\n",
              "      <td>2.410990e-02</td>\n",
              "      <td>3.611553e-02</td>\n",
              "      <td>3.754494e+00</td>\n",
              "      <td>1.947365e+00</td>\n",
              "      <td>1.789110e+00</td>\n",
              "      <td>2.495524e+00</td>\n",
              "      <td>2.457220e+00</td>\n",
              "      <td>1.704177e+00</td>\n",
              "      <td>1.749367e+00</td>\n",
              "      <td>2.495524e+00</td>\n",
              "      <td>2.457220e+00</td>\n",
              "      <td>2.107448e+00</td>\n",
              "      <td>2.140831e+00</td>\n",
              "      <td>1.953589e+00</td>\n",
              "      <td>3.427364e+00</td>\n",
              "      <td>1.862258e+00</td>\n",
              "      <td>6.594528e+00</td>\n",
              "      <td>1.730867e+01</td>\n",
              "      <td>1.944432e+01</td>\n",
              "    </tr>\n",
              "    <tr>\n",
              "      <th>min</th>\n",
              "      <td>1.000000e+00</td>\n",
              "      <td>-7.498993e+01</td>\n",
              "      <td>4.000000e+01</td>\n",
              "      <td>-7.499828e+01</td>\n",
              "      <td>4.000000e+01</td>\n",
              "      <td>1.000000e+00</td>\n",
              "      <td>0.000000e+00</td>\n",
              "      <td>0.000000e+00</td>\n",
              "      <td>1.000000e+00</td>\n",
              "      <td>2.506162e-02</td>\n",
              "      <td>2.463167e-03</td>\n",
              "      <td>1.783656e-02</td>\n",
              "      <td>8.233894e-02</td>\n",
              "      <td>2.312567e-02</td>\n",
              "      <td>1.536743e-02</td>\n",
              "      <td>1.783656e-02</td>\n",
              "      <td>8.233894e-02</td>\n",
              "      <td>6.297669e-03</td>\n",
              "      <td>5.016302e-03</td>\n",
              "      <td>0.000000e+00</td>\n",
              "      <td>1.000000e+00</td>\n",
              "      <td>2.009000e+03</td>\n",
              "      <td>0.000000e+00</td>\n",
              "      <td>0.000000e+00</td>\n",
              "      <td>0.000000e+00</td>\n",
              "    </tr>\n",
              "    <tr>\n",
              "      <th>25%</th>\n",
              "      <td>6.900000e+00</td>\n",
              "      <td>-7.399248e+01</td>\n",
              "      <td>4.073576e+01</td>\n",
              "      <td>-7.399166e+01</td>\n",
              "      <td>4.073459e+01</td>\n",
              "      <td>1.000000e+00</td>\n",
              "      <td>1.019287e-02</td>\n",
              "      <td>8.613586e-03</td>\n",
              "      <td>1.660906e+00</td>\n",
              "      <td>1.276897e+01</td>\n",
              "      <td>1.273697e+01</td>\n",
              "      <td>1.015180e+01</td>\n",
              "      <td>1.023914e+01</td>\n",
              "      <td>5.217282e+00</td>\n",
              "      <td>5.169835e+00</td>\n",
              "      <td>1.015180e+01</td>\n",
              "      <td>1.023914e+01</td>\n",
              "      <td>1.307854e+00</td>\n",
              "      <td>1.343602e+00</td>\n",
              "      <td>1.000000e+00</td>\n",
              "      <td>3.000000e+00</td>\n",
              "      <td>2.010000e+03</td>\n",
              "      <td>9.000000e+00</td>\n",
              "      <td>1.500000e+01</td>\n",
              "      <td>0.000000e+00</td>\n",
              "    </tr>\n",
              "    <tr>\n",
              "      <th>50%</th>\n",
              "      <td>9.300000e+00</td>\n",
              "      <td>-7.398216e+01</td>\n",
              "      <td>4.075293e+01</td>\n",
              "      <td>-7.398040e+01</td>\n",
              "      <td>4.075352e+01</td>\n",
              "      <td>1.000000e+00</td>\n",
              "      <td>1.742172e-02</td>\n",
              "      <td>1.550293e-02</td>\n",
              "      <td>2.567379e+00</td>\n",
              "      <td>1.316469e+01</td>\n",
              "      <td>1.315968e+01</td>\n",
              "      <td>1.106450e+01</td>\n",
              "      <td>1.117640e+01</td>\n",
              "      <td>5.993634e+00</td>\n",
              "      <td>5.926847e+00</td>\n",
              "      <td>1.106450e+01</td>\n",
              "      <td>1.117640e+01</td>\n",
              "      <td>2.317429e+00</td>\n",
              "      <td>2.369850e+00</td>\n",
              "      <td>3.000000e+00</td>\n",
              "      <td>6.000000e+00</td>\n",
              "      <td>2.012000e+03</td>\n",
              "      <td>1.400000e+01</td>\n",
              "      <td>3.000000e+01</td>\n",
              "      <td>4.000000e+00</td>\n",
              "    </tr>\n",
              "    <tr>\n",
              "      <th>75%</th>\n",
              "      <td>1.370000e+01</td>\n",
              "      <td>-7.396838e+01</td>\n",
              "      <td>4.076766e+01</td>\n",
              "      <td>-7.396462e+01</td>\n",
              "      <td>4.076861e+01</td>\n",
              "      <td>2.000000e+00</td>\n",
              "      <td>3.091431e-02</td>\n",
              "      <td>2.718353e-02</td>\n",
              "      <td>4.448215e+00</td>\n",
              "      <td>1.360486e+01</td>\n",
              "      <td>1.362231e+01</td>\n",
              "      <td>1.209789e+01</td>\n",
              "      <td>1.234011e+01</td>\n",
              "      <td>6.880284e+00</td>\n",
              "      <td>6.860105e+00</td>\n",
              "      <td>1.209789e+01</td>\n",
              "      <td>1.234011e+01</td>\n",
              "      <td>3.605081e+00</td>\n",
              "      <td>3.748127e+00</td>\n",
              "      <td>5.000000e+00</td>\n",
              "      <td>9.000000e+00</td>\n",
              "      <td>2.013000e+03</td>\n",
              "      <td>1.900000e+01</td>\n",
              "      <td>4.500000e+01</td>\n",
              "      <td>3.200000e+01</td>\n",
              "    </tr>\n",
              "    <tr>\n",
              "      <th>max</th>\n",
              "      <td>9.520000e+02</td>\n",
              "      <td>-7.200594e+01</td>\n",
              "      <td>4.200000e+01</td>\n",
              "      <td>-7.202303e+01</td>\n",
              "      <td>4.199811e+01</td>\n",
              "      <td>6.000000e+00</td>\n",
              "      <td>1.338558e+00</td>\n",
              "      <td>2.113548e+00</td>\n",
              "      <td>1.953321e+02</td>\n",
              "      <td>1.204819e+02</td>\n",
              "      <td>1.209413e+02</td>\n",
              "      <td>1.327284e+02</td>\n",
              "      <td>1.330920e+02</td>\n",
              "      <td>1.170978e+02</td>\n",
              "      <td>1.174982e+02</td>\n",
              "      <td>1.327284e+02</td>\n",
              "      <td>1.330920e+02</td>\n",
              "      <td>1.203608e+02</td>\n",
              "      <td>1.207409e+02</td>\n",
              "      <td>6.000000e+00</td>\n",
              "      <td>1.200000e+01</td>\n",
              "      <td>2.015000e+03</td>\n",
              "      <td>2.300000e+01</td>\n",
              "      <td>5.900000e+01</td>\n",
              "      <td>5.900000e+01</td>\n",
              "    </tr>\n",
              "  </tbody>\n",
              "</table>\n",
              "</div>"
            ],
            "text/plain": [
              "        fare_amount  pickup_longitude  ...            mm            ss\n",
              "count  2.115735e+07      2.115735e+07  ...  2.115735e+07  2.115735e+07\n",
              "mean   1.237236e+01     -8.129482e+01  ...  2.956427e+01  1.589732e+01\n",
              "std    9.318500e+00      7.124118e+00  ...  1.730867e+01  1.944432e+01\n",
              "min    1.000000e+00     -7.498993e+01  ...  0.000000e+00  0.000000e+00\n",
              "25%    6.900000e+00     -7.399248e+01  ...  1.500000e+01  0.000000e+00\n",
              "50%    9.300000e+00     -7.398216e+01  ...  3.000000e+01  4.000000e+00\n",
              "75%    1.370000e+01     -7.396838e+01  ...  4.500000e+01  3.200000e+01\n",
              "max    9.520000e+02     -7.200594e+01  ...  5.900000e+01  5.900000e+01\n",
              "\n",
              "[8 rows x 25 columns]"
            ]
          },
          "metadata": {
            "tags": []
          },
          "execution_count": 8
        }
      ]
    },
    {
      "cell_type": "code",
      "metadata": {
        "colab": {
          "base_uri": "https://localhost:8080/",
          "height": 484
        },
        "id": "WVFw3WtzoiLd",
        "outputId": "28adf004-de67-4070-f97a-552f078359d7"
      },
      "source": [
        "fig = plt.figure(figsize=(14,7))\n",
        "ax1 = fig.add_subplot(121)\n",
        "ax1.scatter(train_df.pickup_longitude,train_df.pickup_latitude,s=1,alpha=0.1)\n",
        "plt.ylim([40.60,41.00])\n",
        "plt.xlim([-74.15,-73.70])\n",
        "plt.xlabel('Longitude',fontsize=16)\n",
        "plt.ylabel('Latitude',fontsize=16)\n",
        "plt.title('Pickup Location',fontsize=18)\n",
        "ax2 = fig.add_subplot(122)\n",
        "ax2.scatter(train_df.dropoff_longitude,train_df.dropoff_latitude,s=1,color='green',alpha=0.1)\n",
        "plt.ylim([40.60,41.00])\n",
        "plt.xlim([-74.15,-73.70])\n",
        "plt.title('Dropoff Location',fontsize=18)\n",
        "plt.xlabel('Longitude',fontsize=16)\n",
        "plt.ylabel('Latitude',fontsize=16)"
      ],
      "execution_count": null,
      "outputs": [
        {
          "output_type": "execute_result",
          "data": {
            "text/plain": [
              "Text(0, 0.5, 'Latitude')"
            ]
          },
          "metadata": {
            "tags": []
          },
          "execution_count": 19
        },
        {
          "output_type": "display_data",
          "data": {
            "image/png": "[encoded data removed]",
            "text/plain": [
              "<Figure size 1008x504 with 2 Axes>"
            ]
          },
          "metadata": {
            "tags": []
          }
        }
      ]
    },
    {
      "cell_type": "markdown",
      "metadata": {
        "id": "mZQn-mE1osZz"
      },
      "source": [
        "* Pickups are mostly densly populated for around Manhatten \n",
        "\n",
        "\n",
        "\n",
        "\n",
        "\n",
        "* Dropoffs are more despersed and are more dense across all regions of NYC"
      ]
    },
    {
      "cell_type": "code",
      "metadata": {
        "colab": {
          "base_uri": "https://localhost:8080/",
          "height": 560
        },
        "id": "QWwUEiMnJp9R",
        "outputId": "5aea9393-02b4-4964-ce05-5b1c02aebac5"
      },
      "source": [
        "ax=sns.catplot(data=train_df,x='passenger_count',y='fare_amount',kind='box',height=7,aspect=2)\n",
        "ax.set(xlabel=\"Passenge COunt\",ylabel=\"Fare amount\",title=\"Boxplot for passenger_count vs fare_amount\")"
      ],
      "execution_count": null,
      "outputs": [
        {
          "output_type": "execute_result",
          "data": {
            "text/plain": [
              "<seaborn.axisgrid.FacetGrid at 0x7f63531a1090>"
            ]
          },
          "metadata": {
            "tags": []
          },
          "execution_count": 11
        },
        {
          "output_type": "display_data",
          "data": {
            "image/png": "[encoded data removed]",
            "text/plain": [
              "<Figure size 1008x504 with 1 Axes>"
            ]
          },
          "metadata": {
            "tags": []
          }
        }
      ]
    },
    {
      "cell_type": "markdown",
      "metadata": {
        "id": "wlKFApyg62l5"
      },
      "source": [
        "As indiacated by above  graph   single passengers are the most frequent travellers, and the highest fare also seems to come from cabs which carry just 1 passenger."
      ]
    },
    {
      "cell_type": "code",
      "metadata": {
        "colab": {
          "base_uri": "https://localhost:8080/",
          "height": 560
        },
        "id": "o6DXTFT0T9Ff",
        "outputId": "89805492-74b7-4440-b282-a1b0bf3da2a4"
      },
      "source": [
        "ax=sns.catplot(data=train_df,x='day',y='fare_amount',kind='box',height=7,aspect=2)\n",
        "ax.set(xlabel=\"Day\",ylabel=\"Fare amount\",title=\"Boxplot for day vs fare_amount\")"
      ],
      "execution_count": null,
      "outputs": [
        {
          "output_type": "execute_result",
          "data": {
            "text/plain": [
              "<seaborn.axisgrid.FacetGrid at 0x7f631de77f10>"
            ]
          },
          "metadata": {
            "tags": []
          },
          "execution_count": 12
        },
        {
          "output_type": "display_data",
          "data": {
            "image/png": "[encoded data removed]",
            "text/plain": [
              "<Figure size 1008x504 with 1 Axes>"
            ]
          },
          "metadata": {
            "tags": []
          }
        }
      ]
    },
    {
      "cell_type": "markdown",
      "metadata": {
        "id": "hPkku39L9tiR"
      },
      "source": [
        "from above graph Fare  is highest on Sunday."
      ]
    },
    {
      "cell_type": "code",
      "metadata": {
        "colab": {
          "base_uri": "https://localhost:8080/",
          "height": 560
        },
        "id": "0nQndSJKUsc_",
        "outputId": "1afd3ca8-a470-4ce4-e509-5808f696b5a1"
      },
      "source": [
        "ax=sns.catplot(data=train_df,x='month',y='fare_amount',kind='box',height=7,aspect=2)\n",
        "ax.set(xlabel=\"Month\",ylabel=\"Fare amount\",title=\"Boxplot for month vs fare_amount\")"
      ],
      "execution_count": null,
      "outputs": [
        {
          "output_type": "execute_result",
          "data": {
            "text/plain": [
              "<seaborn.axisgrid.FacetGrid at 0x7f63532115d0>"
            ]
          },
          "metadata": {
            "tags": []
          },
          "execution_count": 13
        },
        {
          "output_type": "display_data",
          "data": {
            "image/png": "[encoded data removed]",
            "text/plain": [
              "<Figure size 1008x504 with 1 Axes>"
            ]
          },
          "metadata": {
            "tags": []
          }
        }
      ]
    },
    {
      "cell_type": "markdown",
      "metadata": {
        "id": "49Fq_5oO9me2"
      },
      "source": [
        "From above graph no particular pattern among these emerges except that gereally recorded fare is charged  quite low for January,October and December as compared to other months and went for highest in February"
      ]
    },
    {
      "cell_type": "code",
      "metadata": {
        "colab": {
          "base_uri": "https://localhost:8080/",
          "height": 560
        },
        "id": "aI2zEmOIVGXb",
        "outputId": "718b76b0-e0e5-47b1-99d6-2e80f094d110"
      },
      "source": [
        "ax=sns.catplot(data=train_df,x='hh',y='fare_amount',kind='box',height=7,aspect=2)\n",
        "ax.set(xlabel=\"Hour\",ylabel=\"Fare amount\",title=\"Boxplot for Hour vs fare_amount\")"
      ],
      "execution_count": null,
      "outputs": [
        {
          "output_type": "execute_result",
          "data": {
            "text/plain": [
              "<seaborn.axisgrid.FacetGrid at 0x7f631dbd5490>"
            ]
          },
          "metadata": {
            "tags": []
          },
          "execution_count": 14
        },
        {
          "output_type": "display_data",
          "data": {
            "image/png": "[encoded data removed]",
            "text/plain": [
              "<Figure size 1008x504 with 1 Axes>"
            ]
          },
          "metadata": {
            "tags": []
          }
        }
      ]
    },
    {
      "cell_type": "markdown",
      "metadata": {
        "id": "j9b0hLENXlrx"
      },
      "source": [
        "At certain hours of the day i.e. rush hours the fare charged at instances is higher compared to other times of the day."
      ]
    },
    {
      "cell_type": "code",
      "metadata": {
        "colab": {
          "base_uri": "https://localhost:8080/",
          "height": 470
        },
        "id": "CUerG0GpX6cq",
        "outputId": "40609575-9d40-4491-b371-0d9161dc83b8"
      },
      "source": [
        "train_df.sort_values(['geodesic','fare_amount'], ascending=False)"
      ],
      "execution_count": null,
      "outputs": [
        {
          "output_type": "execute_result",
          "data": {
            "text/html": [
              "<div>\n",
              "<style scoped>\n",
              "    .dataframe tbody tr th:only-of-type {\n",
              "        vertical-align: middle;\n",
              "    }\n",
              "\n",
              "    .dataframe tbody tr th {\n",
              "        vertical-align: top;\n",
              "    }\n",
              "\n",
              "    .dataframe thead th {\n",
              "        text-align: right;\n",
              "    }\n",
              "</style>\n",
              "<table border=\"1\" class=\"dataframe\">\n",
              "  <thead>\n",
              "    <tr style=\"text-align: right;\">\n",
              "      <th></th>\n",
              "      <th>fare_amount</th>\n",
              "      <th>pickup_longitude</th>\n",
              "      <th>pickup_latitude</th>\n",
              "      <th>dropoff_longitude</th>\n",
              "      <th>dropoff_latitude</th>\n",
              "      <th>passenger_count</th>\n",
              "      <th>diff_lat</th>\n",
              "      <th>diff_long</th>\n",
              "      <th>geodesic</th>\n",
              "      <th>pickup_distance_to_jfk</th>\n",
              "      <th>dropoff_distance_to_jfk</th>\n",
              "      <th>pickup_distance_to_ewr</th>\n",
              "      <th>dropoff_distance_to_ewr</th>\n",
              "      <th>pickup_distance_to_lgr</th>\n",
              "      <th>dropoff_distance_to_lgr</th>\n",
              "      <th>pickup_distance_to_tsq</th>\n",
              "      <th>dropoff_distance_to_tsq</th>\n",
              "      <th>pickup_distance_to_met</th>\n",
              "      <th>dropoff_distance_to_met</th>\n",
              "      <th>day</th>\n",
              "      <th>month</th>\n",
              "      <th>year</th>\n",
              "      <th>hh</th>\n",
              "      <th>mm</th>\n",
              "      <th>ss</th>\n",
              "    </tr>\n",
              "    <tr>\n",
              "      <th>index</th>\n",
              "      <th></th>\n",
              "      <th></th>\n",
              "      <th></th>\n",
              "      <th></th>\n",
              "      <th></th>\n",
              "      <th></th>\n",
              "      <th></th>\n",
              "      <th></th>\n",
              "      <th></th>\n",
              "      <th></th>\n",
              "      <th></th>\n",
              "      <th></th>\n",
              "      <th></th>\n",
              "      <th></th>\n",
              "      <th></th>\n",
              "      <th></th>\n",
              "      <th></th>\n",
              "      <th></th>\n",
              "      <th></th>\n",
              "      <th></th>\n",
              "      <th></th>\n",
              "      <th></th>\n",
              "      <th></th>\n",
              "      <th></th>\n",
              "      <th></th>\n",
              "    </tr>\n",
              "  </thead>\n",
              "  <tbody>\n",
              "    <tr>\n",
              "      <th>17751102</th>\n",
              "      <td>8.5</td>\n",
              "      <td>-72.292488</td>\n",
              "      <td>40.076302</td>\n",
              "      <td>-74.406036</td>\n",
              "      <td>40.773117</td>\n",
              "      <td>2</td>\n",
              "      <td>0.696815</td>\n",
              "      <td>2.113548</td>\n",
              "      <td>195.332123</td>\n",
              "      <td>87.415489</td>\n",
              "      <td>34.126694</td>\n",
              "      <td>107.729042</td>\n",
              "      <td>13.428939</td>\n",
              "      <td>96.239128</td>\n",
              "      <td>27.838921</td>\n",
              "      <td>107.729042</td>\n",
              "      <td>13.428939</td>\n",
              "      <td>100.403580</td>\n",
              "      <td>23.174129</td>\n",
              "      <td>6</td>\n",
              "      <td>6</td>\n",
              "      <td>2010</td>\n",
              "      <td>4</td>\n",
              "      <td>34</td>\n",
              "      <td>0</td>\n",
              "    </tr>\n",
              "    <tr>\n",
              "      <th>14229824</th>\n",
              "      <td>8.9</td>\n",
              "      <td>-72.005936</td>\n",
              "      <td>40.137501</td>\n",
              "      <td>-73.975594</td>\n",
              "      <td>40.719059</td>\n",
              "      <td>5</td>\n",
              "      <td>0.581558</td>\n",
              "      <td>1.969658</td>\n",
              "      <td>179.177444</td>\n",
              "      <td>99.543098</td>\n",
              "      <td>11.659762</td>\n",
              "      <td>120.283432</td>\n",
              "      <td>10.616741</td>\n",
              "      <td>107.684731</td>\n",
              "      <td>6.652132</td>\n",
              "      <td>120.283432</td>\n",
              "      <td>10.616741</td>\n",
              "      <td>112.044075</td>\n",
              "      <td>4.219329</td>\n",
              "      <td>4</td>\n",
              "      <td>1</td>\n",
              "      <td>2009</td>\n",
              "      <td>2</td>\n",
              "      <td>32</td>\n",
              "      <td>0</td>\n",
              "    </tr>\n",
              "    <tr>\n",
              "      <th>14360243</th>\n",
              "      <td>9.0</td>\n",
              "      <td>-72.146187</td>\n",
              "      <td>40.022034</td>\n",
              "      <td>-73.978790</td>\n",
              "      <td>40.747082</td>\n",
              "      <td>1</td>\n",
              "      <td>0.725048</td>\n",
              "      <td>1.832603</td>\n",
              "      <td>175.200134</td>\n",
              "      <td>96.012314</td>\n",
              "      <td>12.804369</td>\n",
              "      <td>116.322525</td>\n",
              "      <td>10.993978</td>\n",
              "      <td>104.808784</td>\n",
              "      <td>5.858243</td>\n",
              "      <td>116.322525</td>\n",
              "      <td>10.993978</td>\n",
              "      <td>108.985870</td>\n",
              "      <td>2.377357</td>\n",
              "      <td>6</td>\n",
              "      <td>9</td>\n",
              "      <td>2013</td>\n",
              "      <td>17</td>\n",
              "      <td>22</td>\n",
              "      <td>31</td>\n",
              "    </tr>\n",
              "    <tr>\n",
              "      <th>9363026</th>\n",
              "      <td>7.5</td>\n",
              "      <td>-73.982201</td>\n",
              "      <td>40.753693</td>\n",
              "      <td>-72.118568</td>\n",
              "      <td>41.438103</td>\n",
              "      <td>1</td>\n",
              "      <td>0.684410</td>\n",
              "      <td>1.863632</td>\n",
              "      <td>174.038223</td>\n",
              "      <td>13.214177</td>\n",
              "      <td>102.517868</td>\n",
              "      <td>11.003263</td>\n",
              "      <td>118.934494</td>\n",
              "      <td>5.884872</td>\n",
              "      <td>102.168045</td>\n",
              "      <td>11.003263</td>\n",
              "      <td>118.934494</td>\n",
              "      <td>2.035568</td>\n",
              "      <td>106.265953</td>\n",
              "      <td>1</td>\n",
              "      <td>2</td>\n",
              "      <td>2014</td>\n",
              "      <td>11</td>\n",
              "      <td>1</td>\n",
              "      <td>0</td>\n",
              "    </tr>\n",
              "    <tr>\n",
              "      <th>21586697</th>\n",
              "      <td>6.5</td>\n",
              "      <td>-72.016670</td>\n",
              "      <td>40.720234</td>\n",
              "      <td>-74.009933</td>\n",
              "      <td>40.708832</td>\n",
              "      <td>1</td>\n",
              "      <td>0.011402</td>\n",
              "      <td>1.993263</td>\n",
              "      <td>168.426178</td>\n",
              "      <td>92.453323</td>\n",
              "      <td>13.013694</td>\n",
              "      <td>113.040329</td>\n",
              "      <td>8.723301</td>\n",
              "      <td>97.296700</td>\n",
              "      <td>8.529629</td>\n",
              "      <td>113.040329</td>\n",
              "      <td>8.723301</td>\n",
              "      <td>101.966751</td>\n",
              "      <td>5.455097</td>\n",
              "      <td>2</td>\n",
              "      <td>1</td>\n",
              "      <td>2013</td>\n",
              "      <td>19</td>\n",
              "      <td>58</td>\n",
              "      <td>0</td>\n",
              "    </tr>\n",
              "    <tr>\n",
              "      <th>...</th>\n",
              "      <td>...</td>\n",
              "      <td>...</td>\n",
              "      <td>...</td>\n",
              "      <td>...</td>\n",
              "      <td>...</td>\n",
              "      <td>...</td>\n",
              "      <td>...</td>\n",
              "      <td>...</td>\n",
              "      <td>...</td>\n",
              "      <td>...</td>\n",
              "      <td>...</td>\n",
              "      <td>...</td>\n",
              "      <td>...</td>\n",
              "      <td>...</td>\n",
              "      <td>...</td>\n",
              "      <td>...</td>\n",
              "      <td>...</td>\n",
              "      <td>...</td>\n",
              "      <td>...</td>\n",
              "      <td>...</td>\n",
              "      <td>...</td>\n",
              "      <td>...</td>\n",
              "      <td>...</td>\n",
              "      <td>...</td>\n",
              "      <td>...</td>\n",
              "    </tr>\n",
              "    <tr>\n",
              "      <th>11567816</th>\n",
              "      <td>4.5</td>\n",
              "      <td>-73.982506</td>\n",
              "      <td>40.771694</td>\n",
              "      <td>-73.981384</td>\n",
              "      <td>40.780659</td>\n",
              "      <td>3</td>\n",
              "      <td>0.008965</td>\n",
              "      <td>0.001122</td>\n",
              "      <td>1.000000</td>\n",
              "      <td>13.992499</td>\n",
              "      <td>14.354953</td>\n",
              "      <td>11.545690</td>\n",
              "      <td>11.911840</td>\n",
              "      <td>5.688791</td>\n",
              "      <td>5.624347</td>\n",
              "      <td>11.545690</td>\n",
              "      <td>11.911840</td>\n",
              "      <td>1.141855</td>\n",
              "      <td>0.955351</td>\n",
              "      <td>6</td>\n",
              "      <td>3</td>\n",
              "      <td>2013</td>\n",
              "      <td>18</td>\n",
              "      <td>18</td>\n",
              "      <td>16</td>\n",
              "    </tr>\n",
              "    <tr>\n",
              "      <th>2086282</th>\n",
              "      <td>4.1</td>\n",
              "      <td>-73.990921</td>\n",
              "      <td>40.746933</td>\n",
              "      <td>-73.990105</td>\n",
              "      <td>40.737949</td>\n",
              "      <td>1</td>\n",
              "      <td>0.008984</td>\n",
              "      <td>0.000816</td>\n",
              "      <td>1.000000</td>\n",
              "      <td>13.325471</td>\n",
              "      <td>12.959855</td>\n",
              "      <td>10.400399</td>\n",
              "      <td>10.220750</td>\n",
              "      <td>6.459685</td>\n",
              "      <td>6.645839</td>\n",
              "      <td>10.400399</td>\n",
              "      <td>10.220750</td>\n",
              "      <td>2.671467</td>\n",
              "      <td>3.191389</td>\n",
              "      <td>2</td>\n",
              "      <td>11</td>\n",
              "      <td>2011</td>\n",
              "      <td>21</td>\n",
              "      <td>52</td>\n",
              "      <td>0</td>\n",
              "    </tr>\n",
              "    <tr>\n",
              "      <th>9750184</th>\n",
              "      <td>4.1</td>\n",
              "      <td>-73.976974</td>\n",
              "      <td>40.719360</td>\n",
              "      <td>-73.987900</td>\n",
              "      <td>40.722824</td>\n",
              "      <td>4</td>\n",
              "      <td>0.003464</td>\n",
              "      <td>0.010925</td>\n",
              "      <td>1.000000</td>\n",
              "      <td>11.733563</td>\n",
              "      <td>12.351815</td>\n",
              "      <td>10.549800</td>\n",
              "      <td>10.041138</td>\n",
              "      <td>6.697667</td>\n",
              "      <td>7.035855</td>\n",
              "      <td>10.549800</td>\n",
              "      <td>10.041138</td>\n",
              "      <td>4.210529</td>\n",
              "      <td>4.117260</td>\n",
              "      <td>3</td>\n",
              "      <td>1</td>\n",
              "      <td>2011</td>\n",
              "      <td>10</td>\n",
              "      <td>58</td>\n",
              "      <td>0</td>\n",
              "    </tr>\n",
              "    <tr>\n",
              "      <th>6522175</th>\n",
              "      <td>5.5</td>\n",
              "      <td>-74.008476</td>\n",
              "      <td>40.736576</td>\n",
              "      <td>-73.998177</td>\n",
              "      <td>40.741016</td>\n",
              "      <td>2</td>\n",
              "      <td>0.004440</td>\n",
              "      <td>0.010300</td>\n",
              "      <td>1.000000</td>\n",
              "      <td>13.748077</td>\n",
              "      <td>13.431293</td>\n",
              "      <td>9.283422</td>\n",
              "      <td>9.896336</td>\n",
              "      <td>7.569528</td>\n",
              "      <td>6.955730</td>\n",
              "      <td>9.283422</td>\n",
              "      <td>9.896336</td>\n",
              "      <td>3.790747</td>\n",
              "      <td>3.222430</td>\n",
              "      <td>0</td>\n",
              "      <td>12</td>\n",
              "      <td>2014</td>\n",
              "      <td>12</td>\n",
              "      <td>44</td>\n",
              "      <td>0</td>\n",
              "    </tr>\n",
              "    <tr>\n",
              "      <th>15718897</th>\n",
              "      <td>4.5</td>\n",
              "      <td>-73.981239</td>\n",
              "      <td>40.764687</td>\n",
              "      <td>-73.982361</td>\n",
              "      <td>40.773651</td>\n",
              "      <td>1</td>\n",
              "      <td>0.008965</td>\n",
              "      <td>0.001122</td>\n",
              "      <td>1.000000</td>\n",
              "      <td>13.634374</td>\n",
              "      <td>14.074046</td>\n",
              "      <td>11.374813</td>\n",
              "      <td>11.619236</td>\n",
              "      <td>5.674534</td>\n",
              "      <td>5.674182</td>\n",
              "      <td>11.374813</td>\n",
              "      <td>11.619236</td>\n",
              "      <td>1.387244</td>\n",
              "      <td>1.078351</td>\n",
              "      <td>4</td>\n",
              "      <td>3</td>\n",
              "      <td>2011</td>\n",
              "      <td>19</td>\n",
              "      <td>44</td>\n",
              "      <td>33</td>\n",
              "    </tr>\n",
              "  </tbody>\n",
              "</table>\n",
              "<p>21157353 rows × 25 columns</p>\n",
              "</div>"
            ],
            "text/plain": [
              "          fare_amount  pickup_longitude  pickup_latitude  ...  hh  mm  ss\n",
              "index                                                     ...            \n",
              "17751102          8.5        -72.292488        40.076302  ...   4  34   0\n",
              "14229824          8.9        -72.005936        40.137501  ...   2  32   0\n",
              "14360243          9.0        -72.146187        40.022034  ...  17  22  31\n",
              "9363026           7.5        -73.982201        40.753693  ...  11   1   0\n",
              "21586697          6.5        -72.016670        40.720234  ...  19  58   0\n",
              "...               ...               ...              ...  ...  ..  ..  ..\n",
              "11567816          4.5        -73.982506        40.771694  ...  18  18  16\n",
              "2086282           4.1        -73.990921        40.746933  ...  21  52   0\n",
              "9750184           4.1        -73.976974        40.719360  ...  10  58   0\n",
              "6522175           5.5        -74.008476        40.736576  ...  12  44   0\n",
              "15718897          4.5        -73.981239        40.764687  ...  19  44  33\n",
              "\n",
              "[21157353 rows x 25 columns]"
            ]
          },
          "metadata": {
            "tags": []
          },
          "execution_count": 15
        }
      ]
    },
    {
      "cell_type": "code",
      "metadata": {
        "colab": {
          "base_uri": "https://localhost:8080/"
        },
        "id": "-loq9mu5bWEG",
        "outputId": "5f6d600d-140f-49cd-e35e-a1d4a57a6e22"
      },
      "source": [
        "bins_0 = train_df.loc[(train_df['geodesic'] == 0), ['geodesic']]\n",
        "bins_1 = train_df.loc[(train_df['geodesic'] > 0) & (train_df['geodesic'] <= 10),['geodesic','fare_amount']]\n",
        "bins_2 = train_df.loc[(train_df['geodesic'] > 10) & (train_df['geodesic'] <= 50),['geodesic','fare_amount']]\n",
        "bins_3 = train_df.loc[(train_df['geodesic'] > 50) & (train_df['geodesic'] <= 100),['geodesic','fare_amount']]\n",
        "bins_4 = train_df.loc[(train_df['geodesic'] > 100) & (train_df['geodesic'] <= 200),['geodesic','fare_amount']]\n",
        "bins_5 = train_df.loc[(train_df['geodesic'] > 200) & (train_df['geodesic'] <= 300),['geodesic','fare_amount']]\n",
        "bins_6 = train_df.loc[(train_df['geodesic'] > 300),['geodesic']]\n",
        "bins_0['bins'] = '0'\n",
        "bins_1['bins'] = '0-10'\n",
        "bins_2['bins'] = '11-50'\n",
        "bins_3['bins'] = '51-100'\n",
        "bins_4['bins'] = '100-200'\n",
        "bins_5['bins'] = '201-300'\n",
        "bins_6['bins'] = '>300'\n",
        "dist_bins =pd.concat([bins_0,bins_1,bins_2,bins_3,bins_4,bins_5,bins_6])\n",
        "#len(dist_bins)\n",
        "dist_bins.columns"
      ],
      "execution_count": null,
      "outputs": [
        {
          "output_type": "execute_result",
          "data": {
            "text/plain": [
              "Index(['geodesic', 'bins', 'fare_amount'], dtype='object')"
            ]
          },
          "metadata": {
            "tags": []
          },
          "execution_count": 5
        }
      ]
    },
    {
      "cell_type": "code",
      "metadata": {
        "colab": {
          "base_uri": "https://localhost:8080/",
          "height": 400
        },
        "id": "u1YTKbyybrF3",
        "outputId": "e045dade-b4ec-49c5-f0a3-300a3b0dba1d"
      },
      "source": [
        "sns.catplot(data=dist_bins,x='bins',y='fare_amount',kind='box')"
      ],
      "execution_count": null,
      "outputs": [
        {
          "output_type": "execute_result",
          "data": {
            "text/plain": [
              "<seaborn.axisgrid.FacetGrid at 0x7f162ab46790>"
            ]
          },
          "metadata": {
            "tags": []
          },
          "execution_count": 6
        },
        {
          "output_type": "display_data",
          "data": {
            "image/png": "[encoded data removed]",
            "text/plain": [
              "<Figure size 360x360 with 1 Axes>"
            ]
          },
          "metadata": {
            "tags": []
          }
        }
      ]
    },
    {
      "cell_type": "markdown",
      "metadata": {
        "id": "2ygliCJGdM2K"
      },
      "source": [
        "Form above plot following observations can be made:\n",
        " \n",
        "\n",
        "*   Even for short distance trips high fare have been charged at times due to unknown underlying reasons which can perhaps be  a consequence of traffic or hour of trip or any other reasons due to which so high fare was charged even for short trip.\n",
        "*   For some large distance trips against our intuition of bigger fare for longer trips the fare_charged is to a great extent similar to that for short trips i.e. charged amount is too low which may be due to some discount offers etc which have decreased the fare amount to a considerable degree in these instances.\n",
        "\n",
        "\n",
        "*   In some cases though the fare is unbilievably high it perhaps can be due to reasons such as damage to cab,some sort of fine etc. which were paid along with trip fare as total fare amount.\n",
        "\n"
      ]
    },
    {
      "cell_type": "code",
      "metadata": {
        "colab": {
          "base_uri": "https://localhost:8080/",
          "height": 470
        },
        "id": "_bmTXZATX-w_",
        "outputId": "77382928-d036-4106-9976-7fb96c5cce04"
      },
      "source": [
        "plt.figure(figsize=(15,7))\n",
        "plt.hist(dist_bins['bins'], bins=50)\n",
        "plt.xlabel('Bins')\n",
        "plt.ylabel('Frequency')"
      ],
      "execution_count": null,
      "outputs": [
        {
          "output_type": "execute_result",
          "data": {
            "text/plain": [
              "Text(0, 0.5, 'Frequency')"
            ]
          },
          "metadata": {
            "tags": []
          },
          "execution_count": 7
        },
        {
          "output_type": "display_data",
          "data": {
            "image/png": "[encoded data removed]",
            "text/plain": [
              "<Figure size 1080x504 with 1 Axes>"
            ]
          },
          "metadata": {
            "tags": []
          }
        }
      ]
    },
    {
      "cell_type": "code",
      "metadata": {
        "colab": {
          "base_uri": "https://localhost:8080/"
        },
        "id": "IAsPwxrRYBWd",
        "outputId": "b6769427-a154-4826-f04b-e1a14511333e"
      },
      "source": [
        "Counter(dist_bins['bins'])"
      ],
      "execution_count": null,
      "outputs": [
        {
          "output_type": "execute_result",
          "data": {
            "text/plain": [
              "Counter({'0-10': 19877178, '100-200': 959, '11-50': 1275409, '51-100': 3807})"
            ]
          },
          "metadata": {
            "tags": []
          },
          "execution_count": 18
        }
      ]
    },
    {
      "cell_type": "markdown",
      "metadata": {
        "id": "6oW91o67d494"
      },
      "source": [
        "Majority of trips for of very short distance and freuency of trips grew lesser and lesser with increase in trip distance i.e. lesser trips for large distance are done via the cabs."
      ]
    },
    {
      "cell_type": "code",
      "metadata": {
        "colab": {
          "base_uri": "https://localhost:8080/",
          "height": 331
        },
        "id": "okdmaUwEYFnP",
        "outputId": "03de2ce9-714b-44b1-cfa2-69ccda857c0d"
      },
      "source": [
        "figure,(ax1,ax2,ax3,ax4)=plt.subplots(ncols=4,figsize=(30,5))\n",
        "ax1.set_title('Pickup Years')\n",
        "ax=sns.countplot(x=\"year\",data=train_df,ax=ax1)\n",
        "ax2.set_title('Pickup Months')\n",
        "ax=sns.countplot(x=\"month\",data=train_df,ax=ax2)\n",
        "ax3.set_title('Pickup Days')\n",
        "ax=sns.countplot(x=\"day\",data=train_df,ax=ax3)\n",
        "ax4.set_title('Pickup Hour')\n",
        "ax=sns.countplot(x=\"hh\",data=train_df,ax=ax4)\n",
        "\n"
      ],
      "execution_count": null,
      "outputs": [
        {
          "output_type": "display_data",
          "data": {
            "image/png": "[encoded data removed]",
            "text/plain": [
              "<Figure size 2160x360 with 4 Axes>"
            ]
          },
          "metadata": {
            "tags": []
          }
        }
      ]
    },
    {
      "cell_type": "markdown",
      "metadata": {
        "id": "vplBk6rUDykN"
      },
      "source": [
        "From above graphs following observations can be made:\n",
        "\n",
        "\n",
        "1.   Over the year total pickups have more or less remains the same but we can see very low value for year 2015 which is  due to the data not being for the complete year in case of 2015.\n",
        "\n",
        "2.   As the year progresses the total pickups have gone down a bit month to month basis after initial high of first six months\n",
        "\n",
        "3. Most pickups are made in weekdays compared to weekends\n",
        "\n",
        "4. Most pickups are made 6 PM -11 PM \n",
        "\n"
      ]
    },
    {
      "cell_type": "code",
      "metadata": {
        "colab": {
          "base_uri": "https://localhost:8080/",
          "height": 334
        },
        "id": "pNvTSeZUYHd4",
        "outputId": "076474cf-530f-4fd5-a782-5bde5e3ca80d"
      },
      "source": [
        "figure,(ax1,ax2,ax3,ax4)=plt.subplots(ncols=4,figsize=(30,5))\n",
        "ax1.set_title('Mean fare Years')\n",
        "fair_yearmean=train_df.groupby('year')[\"fare_amount\"].mean()\n",
        "ax=sns.barplot(fair_yearmean.index,fair_yearmean.values,ax=ax1)\n",
        "\n",
        "ax2.set_title('Mean fare Months')\n",
        "fair_monthmean=train_df.groupby('month')[\"fare_amount\"].mean()\n",
        "ax=sns.barplot(fair_monthmean.index,fair_monthmean.values,ax=ax2)\n",
        "\n",
        "ax3.set_title('Mean fare Days')\n",
        "fair_daymean=train_df.groupby('day')[\"fare_amount\"].mean()\n",
        "ax=sns.barplot(fair_daymean.index,fair_daymean.values,ax=ax3)\n",
        "\n",
        "ax4.set_title('Mean fare Hour')\n",
        "fair_hourmean=train_df.groupby('hh')[\"fare_amount\"].mean()\n",
        "ax=sns.barplot(fair_hourmean.index,fair_hourmean.values,ax=ax4)\n",
        "\n"
      ],
      "execution_count": null,
      "outputs": [
        {
          "output_type": "display_data",
          "data": {
            "image/png": "[encoded data removed]",
            "text/plain": [
              "<Figure size 2160x360 with 4 Axes>"
            ]
          },
          "metadata": {
            "tags": []
          }
        }
      ]
    },
    {
      "cell_type": "markdown",
      "metadata": {
        "id": "IORfLvQTEvF1"
      },
      "source": [
        "From above graphs following observations can be made:\n",
        "\n",
        "1.   Over the years mean fare has increased in a progressive manner\n",
        "2.   Over the months more or less mean fare has remained almost same with little variation for some months here and there\n",
        "3. Mean fare remains similar for all days of the week with a little variation \n",
        "4. Mean fare is high for 4 AM -6 AM as opposed to other hours of the day \n",
        "\n",
        "\n"
      ]
    },
    {
      "cell_type": "code",
      "metadata": {
        "id": "hRZ9e2cHIVHq"
      },
      "source": [
        "# train_df.reset_index().to_csv('/content/drive/MyDrive/NYC/mod_traincsv.csv',index=False)"
      ],
      "execution_count": null,
      "outputs": []
    },
    {
      "cell_type": "code",
      "metadata": {
        "id": "L0gchvQVW6pp"
      },
      "source": [
        "# train_df.reset_index().to_feather('/content/drive/MyDrive/NYC/mod_trainfeather.feather')"
      ],
      "execution_count": null,
      "outputs": []
    },
    {
      "cell_type": "markdown",
      "metadata": {
        "id": "ZdfD7rXdkJ40"
      },
      "source": [
        "##Training/Validation sets for Baseline,RandomForest and Linear Regression"
      ]
    },
    {
      "cell_type": "markdown",
      "metadata": {
        "id": "8bNlztCWyUdI"
      },
      "source": [
        "### Year-wise split"
      ]
    },
    {
      "cell_type": "code",
      "metadata": {
        "id": "o2xad4cniYR8"
      },
      "source": [
        "train_df=pd.read_feather('/content/drive/MyDrive/NYC/mod_trainfeather.feather')\n",
        "train_df.set_index(\"index\", inplace = True)"
      ],
      "execution_count": null,
      "outputs": []
    },
    {
      "cell_type": "code",
      "metadata": {
        "colab": {
          "base_uri": "https://localhost:8080/"
        },
        "id": "MmOXgLcdq3ng",
        "outputId": "8f402a9d-4143-47c2-e741-558cab8e35b6"
      },
      "source": [
        "train_df.shape"
      ],
      "execution_count": null,
      "outputs": [
        {
          "output_type": "execute_result",
          "data": {
            "text/plain": [
              "(21157353, 25)"
            ]
          },
          "metadata": {
            "tags": []
          },
          "execution_count": 3
        }
      ]
    },
    {
      "cell_type": "code",
      "metadata": {
        "id": "-51YY2OszPae"
      },
      "source": [
        "#train_df=train_df.sample(10_000_000)\n",
        "#For some models entire data can't be loaded so we will sample this data"
      ],
      "execution_count": null,
      "outputs": []
    },
    {
      "cell_type": "code",
      "metadata": {
        "id": "fxw6VTyRrLwl"
      },
      "source": [
        "train=train_df[train_df[\"year\"]<2014]\n",
        "valid=train_df[train_df[\"year\"]>=2014]"
      ],
      "execution_count": null,
      "outputs": []
    },
    {
      "cell_type": "code",
      "metadata": {
        "id": "ZfJisdOvqi3H"
      },
      "source": [
        "del train_df"
      ],
      "execution_count": null,
      "outputs": []
    },
    {
      "cell_type": "code",
      "metadata": {
        "id": "Vm_uyjxy-wwc"
      },
      "source": [
        "X_train,y_train= train.drop('fare_amount', axis = 1),train['fare_amount']\n",
        "X_test,y_test= valid.drop('fare_amount', axis = 1),valid['fare_amount']"
      ],
      "execution_count": null,
      "outputs": []
    },
    {
      "cell_type": "code",
      "metadata": {
        "id": "2raAH4atyixn"
      },
      "source": [
        "X_train.shape,X_test.shape,y_train.shape,y_test.shape"
      ],
      "execution_count": null,
      "outputs": []
    },
    {
      "cell_type": "markdown",
      "metadata": {
        "id": "BVKjH_e-ymVV"
      },
      "source": [
        "### Random split"
      ]
    },
    {
      "cell_type": "code",
      "metadata": {
        "id": "bqub9HwazFKG"
      },
      "source": [
        "train_df=pd.read_feather('/content/drive/MyDrive/NYC/mod_trainfeather.feather')\n",
        "train_df.set_index(\"index\", inplace = True)"
      ],
      "execution_count": 2,
      "outputs": []
    },
    {
      "cell_type": "code",
      "metadata": {
        "colab": {
          "base_uri": "https://localhost:8080/"
        },
        "id": "rotM1T7mzG4g",
        "outputId": "0c959d7e-5025-4e2a-8443-4eb2949011a6"
      },
      "source": [
        "train_df.shape"
      ],
      "execution_count": 3,
      "outputs": [
        {
          "output_type": "execute_result",
          "data": {
            "text/plain": [
              "(21157353, 25)"
            ]
          },
          "metadata": {
            "tags": []
          },
          "execution_count": 3
        }
      ]
    },
    {
      "cell_type": "code",
      "metadata": {
        "id": "03lv35RXzQ60"
      },
      "source": [
        "train_df=train_df.sample(8_000_000)\n",
        "#For some models entire data can't be loaded so we will sample this data"
      ],
      "execution_count": 4,
      "outputs": []
    },
    {
      "cell_type": "code",
      "metadata": {
        "id": "9JcgFRlewk8d"
      },
      "source": [
        "X,y= train_df.drop('fare_amount', axis = 1),train_df['fare_amount']"
      ],
      "execution_count": 5,
      "outputs": []
    },
    {
      "cell_type": "code",
      "metadata": {
        "id": "xN3EpBO63H2p"
      },
      "source": [
        "del train_df"
      ],
      "execution_count": 6,
      "outputs": []
    },
    {
      "cell_type": "code",
      "metadata": {
        "id": "1A4f72VAweX1"
      },
      "source": [
        "X_train, X_test, y_train, y_test = train_test_split(X, y, test_size=0.3, random_state=42)"
      ],
      "execution_count": 7,
      "outputs": []
    },
    {
      "cell_type": "code",
      "metadata": {
        "id": "96R2ceyU_z0s"
      },
      "source": [
        "del X,y"
      ],
      "execution_count": 8,
      "outputs": []
    },
    {
      "cell_type": "code",
      "metadata": {
        "colab": {
          "base_uri": "https://localhost:8080/"
        },
        "id": "LBzCoktVmLPD",
        "outputId": "19ec2a8c-c97f-4db8-bb32-f656b08e7b15"
      },
      "source": [
        "X_train.shape,X_test.shape,y_train.shape,y_test.shape"
      ],
      "execution_count": 9,
      "outputs": [
        {
          "output_type": "execute_result",
          "data": {
            "text/plain": [
              "((5600000, 24), (2400000, 24), (5600000,), (2400000,))"
            ]
          },
          "metadata": {
            "tags": []
          },
          "execution_count": 9
        }
      ]
    },
    {
      "cell_type": "markdown",
      "metadata": {
        "id": "pPALkqWcF_0B"
      },
      "source": [
        "I will use this train/validation set on different models and will further try to process data based on feature importance  and choose best model for my use case i.e. fare prediction."
      ]
    },
    {
      "cell_type": "markdown",
      "metadata": {
        "id": "QcHXVQcgGh_x"
      },
      "source": [
        "#Models"
      ]
    },
    {
      "cell_type": "markdown",
      "metadata": {
        "id": "r9_vFjN1YYrm"
      },
      "source": [
        "##BaseLine"
      ]
    },
    {
      "cell_type": "markdown",
      "metadata": {
        "id": "Y9_B1xGkzgJe"
      },
      "source": [
        "###Random split"
      ]
    },
    {
      "cell_type": "code",
      "metadata": {
        "colab": {
          "base_uri": "https://localhost:8080/"
        },
        "id": "IqUqkcYBxxd6",
        "outputId": "3a2fc4e9-1050-465f-fad0-459e716e6d7f"
      },
      "source": [
        "avg_fare=round(np.mean(y_train),2) #11.31\n",
        "baseline_pred=np.repeat(avg_fare,y_test.shape[0])\n",
        "baseline_rmse=np.sqrt(mean_squared_error(baseline_pred, y_test))\n",
        "print(\"Basline RMSE of Validation data :\",baseline_rmse)"
      ],
      "execution_count": null,
      "outputs": [
        {
          "output_type": "stream",
          "text": [
            "Basline RMSE of Validation data : 9.788066601902926\n"
          ],
          "name": "stdout"
        }
      ]
    },
    {
      "cell_type": "markdown",
      "metadata": {
        "id": "QD49sbmwzko8"
      },
      "source": [
        "###Year Split"
      ]
    },
    {
      "cell_type": "code",
      "metadata": {
        "colab": {
          "base_uri": "https://localhost:8080/"
        },
        "id": "bZM9GeoPxTvQ",
        "outputId": "ff1d18c4-65a5-4086-8c04-c3c9edf29919"
      },
      "source": [
        "avg_fare=round(np.mean(y_train),2) #11.31\n",
        "baseline_pred=np.repeat(avg_fare,y_test.shape[0])\n",
        "baseline_rmse=np.sqrt(mean_squared_error(baseline_pred, y_test))\n",
        "print(\"Basline RMSE of Validation data :\",baseline_rmse)"
      ],
      "execution_count": null,
      "outputs": [
        {
          "output_type": "stream",
          "text": [
            "Basline RMSE of Validation data : 11.609507235608856\n"
          ],
          "name": "stdout"
        }
      ]
    },
    {
      "cell_type": "markdown",
      "metadata": {
        "id": "boXjTqjy0AaC"
      },
      "source": [
        "### Results "
      ]
    },
    {
      "cell_type": "markdown",
      "metadata": {
        "id": "YHltZPW1F5A3"
      },
      "source": [
        "Baseline RMSE comes out to be quite large.\n",
        "\n",
        "\n",
        "\n",
        "\n",
        "*   Random split  == 9.788066601902926\n",
        "*   List item ==11.609507235608856\n",
        "\n",
        "\n",
        "\n"
      ]
    },
    {
      "cell_type": "markdown",
      "metadata": {
        "id": "DZc4FZfyVIGN"
      },
      "source": [
        "## Linear Regression"
      ]
    },
    {
      "cell_type": "code",
      "metadata": {
        "id": "foRTqLihUbo2"
      },
      "source": [
        "from sklearn.linear_model import LinearRegression"
      ],
      "execution_count": null,
      "outputs": []
    },
    {
      "cell_type": "markdown",
      "metadata": {
        "id": "PeNBzvRwzyNF"
      },
      "source": [
        "###Random split"
      ]
    },
    {
      "cell_type": "code",
      "metadata": {
        "colab": {
          "base_uri": "https://localhost:8080/"
        },
        "id": "0_Mxjb0vx2Pk",
        "outputId": "49f48a1c-c2a2-418c-d14e-9f23002529bd"
      },
      "source": [
        "lm = LinearRegression()\n",
        "lm.fit(X_train,y_train)\n",
        "y_pred=np.round(lm.predict(X_test),2)\n",
        "lm_rmse=np.sqrt(mean_squared_error(y_pred, y_test))\n",
        "lm_train_rmse=np.sqrt(mean_squared_error(lm.predict(X_train), y_train))\n",
        "lm_variance=abs(lm_train_rmse - lm_rmse)\n",
        "print(\"Test RMSE for Linear Regression : \",lm_rmse)\n",
        "print(\"Train RMSE for Linear Regression :  \",lm_train_rmse)\n",
        "print(\"Variance for Linear Regression is : \",lm_variance)"
      ],
      "execution_count": null,
      "outputs": [
        {
          "output_type": "stream",
          "text": [
            "Test RMSE for Linear Regression :  4.271755416914595\n",
            "Train RMSE for Linear Regression :   4.286256653179894\n",
            "Variance for Linear Regression is :  0.014501236265298978\n"
          ],
          "name": "stdout"
        }
      ]
    },
    {
      "cell_type": "markdown",
      "metadata": {
        "id": "ea1YnsgEz2Fi"
      },
      "source": [
        "### Year split"
      ]
    },
    {
      "cell_type": "code",
      "metadata": {
        "colab": {
          "base_uri": "https://localhost:8080/"
        },
        "id": "ueD90QoDrRio",
        "outputId": "a1e4d6cd-a5ac-469d-9d0f-b24c39b1b869"
      },
      "source": [
        "lm = LinearRegression()\n",
        "lm.fit(X_train,y_train)\n",
        "y_pred=np.round(lm.predict(X_test),2)\n",
        "lm_rmse=np.sqrt(mean_squared_error(y_pred, y_test))\n",
        "lm_train_rmse=np.sqrt(mean_squared_error(lm.predict(X_train), y_train))\n",
        "lm_variance=abs(lm_train_rmse - lm_rmse)\n",
        "print(\"Test RMSE for Linear Regression : \",lm_rmse)\n",
        "print(\"Train RMSE for Linear Regression :  \",lm_train_rmse)\n",
        "print(\"Variance for Linear Regression is : \",lm_variance)"
      ],
      "execution_count": null,
      "outputs": [
        {
          "output_type": "stream",
          "text": [
            "Test RMSE for Linear Regression :  4.810091558532721\n",
            "Train RMSE for Linear Regression :   4.15621560669996\n",
            "Variance for Linear Regression is :  0.6538759518327613\n"
          ],
          "name": "stdout"
        }
      ]
    },
    {
      "cell_type": "markdown",
      "metadata": {
        "id": "FnQvLlMeGnFf"
      },
      "source": [
        "###Much better results than Baseline. Let's see if further improvements can be made using other models."
      ]
    },
    {
      "cell_type": "markdown",
      "metadata": {
        "id": "ljz-L1O4VK4b"
      },
      "source": [
        "## Random Forest"
      ]
    },
    {
      "cell_type": "code",
      "metadata": {
        "id": "J38zTPh5VQvf"
      },
      "source": [
        "from sklearn.ensemble import RandomForestRegressor"
      ],
      "execution_count": null,
      "outputs": []
    },
    {
      "cell_type": "code",
      "metadata": {
        "id": "8tiu1CBGVYuh"
      },
      "source": [
        "rf = RandomForestRegressor(n_estimators =40 , max_samples=200_000,max_features=0.7,min_samples_leaf=5,random_state = 42,n_jobs=-1,oob_score=True)"
      ],
      "execution_count": null,
      "outputs": []
    },
    {
      "cell_type": "code",
      "metadata": {
        "colab": {
          "base_uri": "https://localhost:8080/"
        },
        "id": "ao5tRr1HYsw3",
        "outputId": "eac16fc4-3a0c-4aa4-83a7-74b34051c5e3"
      },
      "source": [
        "rf.fit(X_train,y_train) "
      ],
      "execution_count": null,
      "outputs": [
        {
          "output_type": "execute_result",
          "data": {
            "text/plain": [
              "RandomForestRegressor(bootstrap=True, ccp_alpha=0.0, criterion='mse',\n",
              "                      max_depth=None, max_features=0.7, max_leaf_nodes=None,\n",
              "                      max_samples=200000, min_impurity_decrease=0.0,\n",
              "                      min_impurity_split=None, min_samples_leaf=5,\n",
              "                      min_samples_split=2, min_weight_fraction_leaf=0.0,\n",
              "                      n_estimators=40, n_jobs=-1, oob_score=True,\n",
              "                      random_state=42, verbose=0, warm_start=False)"
            ]
          },
          "metadata": {
            "tags": []
          },
          "execution_count": 18
        }
      ]
    },
    {
      "cell_type": "code",
      "metadata": {
        "id": "aEgF102v0fJS"
      },
      "source": [
        "rf_pred= rf.predict(X_test)"
      ],
      "execution_count": null,
      "outputs": []
    },
    {
      "cell_type": "markdown",
      "metadata": {
        "id": "Yhc7n_bv2xTV"
      },
      "source": [
        "### Random split"
      ]
    },
    {
      "cell_type": "code",
      "metadata": {
        "colab": {
          "base_uri": "https://localhost:8080/"
        },
        "id": "y8ugP8n50jXn",
        "outputId": "03b01c70-0a05-4340-a6e5-69c26b0ca8d1"
      },
      "source": [
        "rf_rmse=np.sqrt(mean_squared_error(rf_pred, y_test))\n",
        "print(\"RMSE for Random Forest is \",rf_rmse)"
      ],
      "execution_count": null,
      "outputs": [
        {
          "output_type": "stream",
          "text": [
            "RMSE for Random Forest is  3.17682276253329\n"
          ],
          "name": "stdout"
        }
      ]
    },
    {
      "cell_type": "markdown",
      "metadata": {
        "id": "_zVl4s9X20Kg"
      },
      "source": [
        "### Year-wise split"
      ]
    },
    {
      "cell_type": "code",
      "metadata": {
        "colab": {
          "base_uri": "https://localhost:8080/"
        },
        "id": "n9Yw7_VydVWO",
        "outputId": "4b1eec69-79f9-4709-f0ad-2ce70b68d7fd"
      },
      "source": [
        "rf_rmse=np.sqrt(mean_squared_error(rf_pred, y_test))\n",
        "print(\"RMSE for Random Forest is \",rf_rmse)"
      ],
      "execution_count": null,
      "outputs": [
        {
          "output_type": "stream",
          "text": [
            "RMSE for Random Forest is  3.664561851663333\n"
          ],
          "name": "stdout"
        }
      ]
    },
    {
      "cell_type": "markdown",
      "metadata": {
        "id": "SQpiu7BWVeL9"
      },
      "source": [
        "# LightGBM"
      ]
    },
    {
      "cell_type": "code",
      "metadata": {
        "id": "tCP-4HUAVgXB"
      },
      "source": [
        "import lightgbm as lgbm"
      ],
      "execution_count": null,
      "outputs": []
    },
    {
      "cell_type": "markdown",
      "metadata": {
        "id": "UDW0ap_x3hig"
      },
      "source": [
        "### Random split"
      ]
    },
    {
      "cell_type": "code",
      "metadata": {
        "colab": {
          "base_uri": "https://localhost:8080/"
        },
        "id": "bW2bArcm3bO5",
        "outputId": "7c2eb8c2-d3d4-479c-fb3e-b1759b87786b"
      },
      "source": [
        "train_data=lgbm.Dataset(X_train,label=y_train)\n",
        "param = {'num_leaves':31, 'num_trees':5000,'objective':'regression'}\n",
        "param['metric'] = 'l2_root'\n",
        "num_round=5000\n",
        "cv_results = lgbm.cv(param, train_data, num_boost_round=num_round, nfold=10,verbose_eval=200, early_stopping_rounds=20,stratified=False)"
      ],
      "execution_count": 11,
      "outputs": [
        {
          "output_type": "stream",
          "text": [
            "[200]\tcv_agg's rmse: 3.09786 + 0.0650525\n",
            "[400]\tcv_agg's rmse: 3.03851 + 0.0665255\n",
            "[600]\tcv_agg's rmse: 3.01081 + 0.0677023\n",
            "[800]\tcv_agg's rmse: 2.99505 + 0.068316\n",
            "[1000]\tcv_agg's rmse: 2.98422 + 0.0683895\n",
            "[1200]\tcv_agg's rmse: 2.97766 + 0.0685679\n",
            "[1400]\tcv_agg's rmse: 2.97257 + 0.0686855\n",
            "[1600]\tcv_agg's rmse: 2.96846 + 0.0689225\n",
            "[1800]\tcv_agg's rmse: 2.9653 + 0.0692967\n",
            "[2000]\tcv_agg's rmse: 2.9629 + 0.0694609\n",
            "[2200]\tcv_agg's rmse: 2.96048 + 0.0697908\n",
            "[2400]\tcv_agg's rmse: 2.95865 + 0.0699854\n",
            "[2600]\tcv_agg's rmse: 2.95727 + 0.0698782\n",
            "[2800]\tcv_agg's rmse: 2.95601 + 0.0699517\n",
            "[3000]\tcv_agg's rmse: 2.95489 + 0.0700384\n",
            "[3200]\tcv_agg's rmse: 2.95408 + 0.0701946\n",
            "[3400]\tcv_agg's rmse: 2.95335 + 0.0702156\n",
            "[3600]\tcv_agg's rmse: 2.95258 + 0.070133\n",
            "[3800]\tcv_agg's rmse: 2.95196 + 0.0699414\n"
          ],
          "name": "stdout"
        }
      ]
    },
    {
      "cell_type": "code",
      "metadata": {
        "id": "lorrctHi6Ljx"
      },
      "source": [
        "lgbm_bst=lgbm.train(param,train_data,len(cv_results['rmse-mean']))"
      ],
      "execution_count": 12,
      "outputs": []
    },
    {
      "cell_type": "code",
      "metadata": {
        "id": "OcADtSDA3d_8"
      },
      "source": [
        "lgbm_pred = lgbm_bst.predict(X_test)\n",
        "lgbm_rmse=np.sqrt(mean_squared_error(lgbm_pred, y_test))"
      ],
      "execution_count": 16,
      "outputs": []
    },
    {
      "cell_type": "code",
      "metadata": {
        "id": "_ilVXg4M33-g",
        "colab": {
          "base_uri": "https://localhost:8080/"
        },
        "outputId": "45c3864c-f2ce-464a-d7c6-d27e82e12329"
      },
      "source": [
        "print(\"RMSE for Light GBM is \",lgbm_rmse)"
      ],
      "execution_count": 14,
      "outputs": [
        {
          "output_type": "stream",
          "text": [
            "RMSE for Light GBM is  2.924444841889827\n"
          ],
          "name": "stdout"
        }
      ]
    },
    {
      "cell_type": "code",
      "metadata": {
        "id": "ZV_Ku8Kv33-h",
        "colab": {
          "base_uri": "https://localhost:8080/"
        },
        "outputId": "9a32b70e-6005-40f4-f1d0-774651e08fd1"
      },
      "source": [
        "print(\"RMSE for Light GBM is \",lgbm_rmse)"
      ],
      "execution_count": 15,
      "outputs": [
        {
          "output_type": "stream",
          "text": [
            "RMSE for Light GBM is  2.924444841889827\n"
          ],
          "name": "stdout"
        }
      ]
    },
    {
      "cell_type": "code",
      "metadata": {
        "id": "own7LcBE33-i"
      },
      "source": [
        "filename=\"/content/drive/MyDrive/NYC/LightGBMrandom.sav\"\n",
        "# to save the model\n",
        "pickle.dump(lgbm_bst, open(filename, 'wb'))"
      ],
      "execution_count": 18,
      "outputs": []
    },
    {
      "cell_type": "code",
      "metadata": {
        "id": "byVcntvc33-j",
        "colab": {
          "base_uri": "https://localhost:8080/",
          "height": 312
        },
        "outputId": "0dafafe4-9c16-4d53-8d7f-5183ce63f3bc"
      },
      "source": [
        "lgbm.plot_importance(lgbm_bst,title='Feature importance', xlabel='Feature importance', ylabel='Features')"
      ],
      "execution_count": 19,
      "outputs": [
        {
          "output_type": "execute_result",
          "data": {
            "text/plain": [
              "<matplotlib.axes._subplots.AxesSubplot at 0x7f46cee48390>"
            ]
          },
          "metadata": {
            "tags": []
          },
          "execution_count": 19
        },
        {
          "output_type": "display_data",
          "data": {
            "image/png": "[encoded data removed]",
            "text/plain": [
              "<Figure size 432x288 with 1 Axes>"
            ]
          },
          "metadata": {
            "tags": [],
            "needs_background": "light"
          }
        }
      ]
    },
    {
      "cell_type": "markdown",
      "metadata": {
        "id": "-7uYCCyA3evG"
      },
      "source": [
        "### Year split"
      ]
    },
    {
      "cell_type": "code",
      "metadata": {
        "colab": {
          "base_uri": "https://localhost:8080/"
        },
        "id": "8dLgBmFyJwyV",
        "outputId": "d5d5cde5-bd11-442c-a1cb-7b954fc7f972"
      },
      "source": [
        "train_data=lgbm.Dataset(X_train,label=y_train)\n",
        "param = {'num_leaves':31, 'num_trees':5000,'objective':'regression'}\n",
        "param['metric'] = 'l2_root'\n",
        "num_round=5000\n",
        "cv_results = lgbm.cv(param, train_data, num_boost_round=num_round, nfold=10,verbose_eval=200, early_stopping_rounds=20,stratified=False)\n",
        "lgbm_bst=lgbm.train(param,train_data,len(cv_results['rmse-mean']))\n",
        "lgbm_pred = lgbm_bst.predict(X_test)\n",
        "lgbm_rmse=np.sqrt(mean_squared_error(lgbm_pred, y_test))"
      ],
      "execution_count": null,
      "outputs": [
        {
          "output_type": "stream",
          "text": [
            "[200]\tcv_agg's rmse: 2.9722 + 0.0360383\n",
            "[400]\tcv_agg's rmse: 2.91139 + 0.0369004\n",
            "[600]\tcv_agg's rmse: 2.88422 + 0.0376977\n",
            "[800]\tcv_agg's rmse: 2.86908 + 0.0374322\n",
            "[1000]\tcv_agg's rmse: 2.85988 + 0.0377442\n",
            "[1200]\tcv_agg's rmse: 2.85259 + 0.0380379\n",
            "[1400]\tcv_agg's rmse: 2.84684 + 0.0382246\n",
            "[1600]\tcv_agg's rmse: 2.84279 + 0.0384386\n",
            "[1800]\tcv_agg's rmse: 2.83952 + 0.0383408\n",
            "[2000]\tcv_agg's rmse: 2.83701 + 0.0382942\n",
            "[2200]\tcv_agg's rmse: 2.83483 + 0.037973\n",
            "[2400]\tcv_agg's rmse: 2.83298 + 0.0379485\n",
            "[2600]\tcv_agg's rmse: 2.8313 + 0.0379594\n",
            "[2800]\tcv_agg's rmse: 2.82973 + 0.0379237\n",
            "[3000]\tcv_agg's rmse: 2.8285 + 0.0379603\n",
            "[3200]\tcv_agg's rmse: 2.82739 + 0.0377867\n",
            "[3400]\tcv_agg's rmse: 2.82632 + 0.0379419\n",
            "[3600]\tcv_agg's rmse: 2.82531 + 0.0377033\n",
            "[3800]\tcv_agg's rmse: 2.82459 + 0.0376527\n",
            "[4000]\tcv_agg's rmse: 2.82386 + 0.037644\n"
          ],
          "name": "stdout"
        }
      ]
    },
    {
      "cell_type": "code",
      "metadata": {
        "colab": {
          "base_uri": "https://localhost:8080/"
        },
        "id": "L3DLUPHb-Yh2",
        "outputId": "27ff8da8-71f5-45e7-a78b-6ae1f70ea9bc"
      },
      "source": [
        "print(\"RMSE for Light GBM is \",lgbm_rmse)"
      ],
      "execution_count": null,
      "outputs": [
        {
          "output_type": "stream",
          "text": [
            "RMSE for Light GBM is  3.318272408200512\n"
          ],
          "name": "stdout"
        }
      ]
    },
    {
      "cell_type": "code",
      "metadata": {
        "colab": {
          "base_uri": "https://localhost:8080/"
        },
        "id": "61ag3WulK6RA",
        "outputId": "decc0ceb-c870-4a40-df96-fba0e7f2008d"
      },
      "source": [
        "print(\"RMSE for Light GBM is \",lgbm_rmse)"
      ],
      "execution_count": null,
      "outputs": [
        {
          "output_type": "stream",
          "text": [
            "RMSE for Light GBM is  3.2958462120057233\n"
          ],
          "name": "stdout"
        }
      ]
    },
    {
      "cell_type": "code",
      "metadata": {
        "id": "KI4y7IqkPIGZ"
      },
      "source": [
        "filename=\"/content/drive/MyDrive/NYC/Light GBM.sav\"\n",
        "# to save the model\n",
        "pickle.dump(lgbm_bst, open(filename, 'wb'))"
      ],
      "execution_count": null,
      "outputs": []
    },
    {
      "cell_type": "code",
      "metadata": {
        "colab": {
          "base_uri": "https://localhost:8080/",
          "height": 312
        },
        "id": "91wdx6QIPgRG",
        "outputId": "e5df07d7-3ce4-4426-dc35-a77eaa56f17c"
      },
      "source": [
        "lgbm.plot_importance(lgbm_bst,title='Feature importance', xlabel='Feature importance', ylabel='Features')"
      ],
      "execution_count": null,
      "outputs": [
        {
          "output_type": "execute_result",
          "data": {
            "text/plain": [
              "<matplotlib.axes._subplots.AxesSubplot at 0x7f0259e66f10>"
            ]
          },
          "metadata": {
            "tags": []
          },
          "execution_count": 20
        },
        {
          "output_type": "display_data",
          "data": {
            "image/png": "[encoded data removed]",
            "text/plain": [
              "<Figure size 432x288 with 1 Axes>"
            ]
          },
          "metadata": {
            "tags": []
          }
        }
      ]
    },
    {
      "cell_type": "markdown",
      "metadata": {
        "id": "HAlice77VN5V"
      },
      "source": [
        "# XGBoost"
      ]
    },
    {
      "cell_type": "markdown",
      "metadata": {
        "id": "zylGcVAs6UlX"
      },
      "source": [
        "### GPU boosted "
      ]
    },
    {
      "cell_type": "code",
      "metadata": {
        "colab": {
          "base_uri": "https://localhost:8080/"
        },
        "id": "VXkCERovm_Kb",
        "outputId": "9d04b766-0952-4572-ef00-f3f3a9dc1866"
      },
      "source": [
        "!nvidia-smi"
      ],
      "execution_count": 10,
      "outputs": [
        {
          "output_type": "stream",
          "text": [
            "Sun May 30 10:52:46 2021       \n",
            "+-----------------------------------------------------------------------------+\n",
            "| NVIDIA-SMI 465.19.01    Driver Version: 460.32.03    CUDA Version: 11.2     |\n",
            "|-------------------------------+----------------------+----------------------+\n",
            "| GPU  Name        Persistence-M| Bus-Id        Disp.A | Volatile Uncorr. ECC |\n",
            "| Fan  Temp  Perf  Pwr:Usage/Cap|         Memory-Usage | GPU-Util  Compute M. |\n",
            "|                               |                      |               MIG M. |\n",
            "|===============================+======================+======================|\n",
            "|   0  Tesla P4            Off  | 00000000:00:04.0 Off |                    0 |\n",
            "| N/A   36C    P8     7W /  75W |      0MiB /  7611MiB |      0%      Default |\n",
            "|                               |                      |                  N/A |\n",
            "+-------------------------------+----------------------+----------------------+\n",
            "                                                                               \n",
            "+-----------------------------------------------------------------------------+\n",
            "| Processes:                                                                  |\n",
            "|  GPU   GI   CI        PID   Type   Process name                  GPU Memory |\n",
            "|        ID   ID                                                   Usage      |\n",
            "|=============================================================================|\n",
            "|  No running processes found                                                 |\n",
            "+-----------------------------------------------------------------------------+\n"
          ],
          "name": "stdout"
        }
      ]
    },
    {
      "cell_type": "code",
      "metadata": {
        "id": "SEx4AMSvwHRk"
      },
      "source": [
        "xgb_params = {\n",
        "    'min_child_weight': 1, \n",
        "    'tree_method': 'gpu_hist',\n",
        "    'colsample_bytree': 0.7, \n",
        "    'max_depth': 15,\n",
        "    'subsample': 0.7,\n",
        "    'n_estimators': 5000,\n",
        "    'n_jobs': -1, \n",
        "    'booster' : 'gbtree', \n",
        "    'silent': 1,\n",
        "    'eval_metric': 'rmse'}"
      ],
      "execution_count": 11,
      "outputs": []
    },
    {
      "cell_type": "code",
      "metadata": {
        "id": "XYlbXvYqA0Mu"
      },
      "source": [
        "def XGBmodel(X_train,X_test,y_train,y_test,params):\n",
        "    dtrain = xgb.DMatrix(X_train, label=y_train)\n",
        "    dvalid = xgb.DMatrix(X_test, label=y_test)\n",
        "    watchlist = [(dtrain, 'train'), (dvalid, 'valid')]\n",
        "    model = xgb.train(params, dtrain, 1000, watchlist,early_stopping_rounds=50, maximize=False, verbose_eval=200)\n",
        "    return model\n"
      ],
      "execution_count": 12,
      "outputs": []
    },
    {
      "cell_type": "markdown",
      "metadata": {
        "id": "OVGij9UAH_bl"
      },
      "source": [
        "### Random split"
      ]
    },
    {
      "cell_type": "code",
      "metadata": {
        "colab": {
          "base_uri": "https://localhost:8080/"
        },
        "id": "Rrj-aQSZ5243",
        "outputId": "3324c181-ba85-4bc5-b62f-ca14d2041bae"
      },
      "source": [
        "model = XGBmodel(X_train,X_test,y_train,y_test,xgb_params)"
      ],
      "execution_count": 13,
      "outputs": [
        {
          "output_type": "stream",
          "text": [
            "[0]\ttrain-rmse:11.0413\tvalid-rmse:11.0548\n",
            "Multiple eval metrics have been passed: 'valid-rmse' will be used for early stopping.\n",
            "\n",
            "Will train until valid-rmse hasn't improved in 50 rounds.\n",
            "Stopping. Best iteration:\n",
            "[30]\ttrain-rmse:2.22316\tvalid-rmse:3.06653\n",
            "\n"
          ],
          "name": "stdout"
        }
      ]
    },
    {
      "cell_type": "code",
      "metadata": {
        "id": "rLYfsx4w6mC6"
      },
      "source": [
        "filename=\"/content/drive/MyDrive/NYC/XGBregressorgpurandom.sav\"\n",
        "# to save the model\n",
        "pickle.dump(model, open(filename, 'wb'))"
      ],
      "execution_count": 14,
      "outputs": []
    },
    {
      "cell_type": "markdown",
      "metadata": {
        "id": "JrWJ5XNqID1o"
      },
      "source": [
        "### Year split"
      ]
    },
    {
      "cell_type": "code",
      "metadata": {
        "colab": {
          "base_uri": "https://localhost:8080/"
        },
        "id": "zsUrUd5c-b2p",
        "outputId": "76fb8f7e-a13d-434c-a10e-27cc20347aae"
      },
      "source": [
        "model = XGBmodel(X_train,X_test,y_train,y_test,xgb_params)"
      ],
      "execution_count": null,
      "outputs": [
        {
          "output_type": "stream",
          "text": [
            "[0]\ttrain-rmse:9.99741\tvalid-rmse:10.0185\n",
            "Multiple eval metrics have been passed: 'valid-rmse' will be used for early stopping.\n",
            "\n",
            "Will train until valid-rmse hasn't improved in 50 rounds.\n",
            "Stopping. Best iteration:\n",
            "[32]\ttrain-rmse:2.22434\tvalid-rmse:2.88754\n",
            "\n"
          ],
          "name": "stdout"
        }
      ]
    },
    {
      "cell_type": "code",
      "metadata": {
        "id": "uJcdqiK1U7j8"
      },
      "source": [
        "filename=\"/content/drive/MyDrive/NYC/XGBregressor_gpu.sav\"\n",
        "# to save the model\n",
        "pickle.dump(model, open(filename, 'wb'))"
      ],
      "execution_count": null,
      "outputs": []
    },
    {
      "cell_type": "markdown",
      "metadata": {
        "id": "GwNgeAu36Z6g"
      },
      "source": [
        "### CPU boosted"
      ]
    },
    {
      "cell_type": "code",
      "metadata": {
        "id": "dcTnDnJs6gJ7"
      },
      "source": [
        "xgb_params = {\n",
        "    'min_child_weight': 1, \n",
        "    'tree_method': 'hist',\n",
        "    'colsample_bytree': 0.7, \n",
        "    'max_depth': 15,\n",
        "    'subsample': 0.7,\n",
        "    'n_estimators': 5000,\n",
        "    'n_jobs': -1, \n",
        "    'booster' : 'gbtree', \n",
        "    'silent': 1,\n",
        "    'eval_metric': 'rmse'}"
      ],
      "execution_count": 20,
      "outputs": []
    },
    {
      "cell_type": "code",
      "metadata": {
        "id": "sFp0ysFU6gJ8"
      },
      "source": [
        "def XGBmodel(X_train,X_test,y_train,y_test,params):\n",
        "    dtrain = xgb.DMatrix(X_train, label=y_train)\n",
        "    dvalid = xgb.DMatrix(X_test, label=y_test)\n",
        "    watchlist = [(dtrain, 'train'), (dvalid, 'valid')]\n",
        "    model = xgb.train(params, dtrain, 1000, watchlist,early_stopping_rounds=50, maximize=False, verbose_eval=200)\n",
        "    return model\n"
      ],
      "execution_count": 21,
      "outputs": []
    },
    {
      "cell_type": "markdown",
      "metadata": {
        "id": "l_Zx7yNwITdi"
      },
      "source": [
        "#### Random split"
      ]
    },
    {
      "cell_type": "code",
      "metadata": {
        "colab": {
          "base_uri": "https://localhost:8080/"
        },
        "id": "M-UQQFF23mj6",
        "outputId": "30999de0-9bb2-4bd0-e391-6d591d564ab3"
      },
      "source": [
        "model = XGBmodel(X_train,X_test,y_train,y_test,xgb_params)"
      ],
      "execution_count": 22,
      "outputs": [
        {
          "output_type": "stream",
          "text": [
            "[0]\ttrain-rmse:11.0351\tvalid-rmse:11.045\n",
            "Multiple eval metrics have been passed: 'valid-rmse' will be used for early stopping.\n",
            "\n",
            "Will train until valid-rmse hasn't improved in 50 rounds.\n",
            "Stopping. Best iteration:\n",
            "[26]\ttrain-rmse:2.2633\tvalid-rmse:3.07096\n",
            "\n"
          ],
          "name": "stdout"
        }
      ]
    },
    {
      "cell_type": "markdown",
      "metadata": {
        "id": "_V_YHsc1IURE"
      },
      "source": [
        "### Year split"
      ]
    },
    {
      "cell_type": "code",
      "metadata": {
        "colab": {
          "base_uri": "https://localhost:8080/"
        },
        "id": "tJ9BF0Lf6gJ8",
        "outputId": "76fb8f7e-a13d-434c-a10e-27cc20347aae"
      },
      "source": [
        "model = XGBmodel(X_train,X_test,y_train,y_test,xgb_params)"
      ],
      "execution_count": null,
      "outputs": [
        {
          "output_type": "stream",
          "text": [
            "[0]\ttrain-rmse:9.99741\tvalid-rmse:10.0185\n",
            "Multiple eval metrics have been passed: 'valid-rmse' will be used for early stopping.\n",
            "\n",
            "Will train until valid-rmse hasn't improved in 50 rounds.\n",
            "Stopping. Best iteration:\n",
            "[32]\ttrain-rmse:2.22434\tvalid-rmse:2.88754\n",
            "\n"
          ],
          "name": "stdout"
        }
      ]
    },
    {
      "cell_type": "code",
      "metadata": {
        "id": "ot4ut8L36gJ9"
      },
      "source": [
        "filename=\"/content/drive/MyDrive/NYC/XGBregressor_gpu.sav\"\n",
        "# to save the model\n",
        "pickle.dump(model, open(filename, 'wb'))"
      ],
      "execution_count": null,
      "outputs": []
    },
    {
      "cell_type": "code",
      "metadata": {
        "colab": {
          "base_uri": "https://localhost:8080/"
        },
        "id": "71wXpiqK6gJ9",
        "outputId": "00ab2ad9-db84-4b86-f976-834e6abb9261"
      },
      "source": [
        "print(\"Done\")"
      ],
      "execution_count": null,
      "outputs": [
        {
          "output_type": "stream",
          "text": [
            "Done\n"
          ],
          "name": "stdout"
        }
      ]
    },
    {
      "cell_type": "markdown",
      "metadata": {
        "id": "swcwA73w_sy8"
      },
      "source": [
        "# Deep Learning"
      ]
    },
    {
      "cell_type": "code",
      "metadata": {
        "id": "lLn3EI9JspQ9"
      },
      "source": [
        "import torch\n",
        "import torch.nn as nn\n",
        "import torch.nn.functional as F"
      ],
      "execution_count": 15,
      "outputs": []
    },
    {
      "cell_type": "code",
      "metadata": {
        "colab": {
          "base_uri": "https://localhost:8080/"
        },
        "id": "eDwfY3exJYQn",
        "outputId": "22a9477d-17ea-42da-b204-fcc559bfa02f"
      },
      "source": [
        "X_train.info()"
      ],
      "execution_count": 16,
      "outputs": [
        {
          "output_type": "stream",
          "text": [
            "<class 'pandas.core.frame.DataFrame'>\n",
            "Int64Index: 5600000 entries, 12018707 to 11429533\n",
            "Data columns (total 24 columns):\n",
            " #   Column                   Dtype  \n",
            "---  ------                   -----  \n",
            " 0   pickup_longitude         float32\n",
            " 1   pickup_latitude          float32\n",
            " 2   dropoff_longitude        float32\n",
            " 3   dropoff_latitude         float32\n",
            " 4   passenger_count          uint8  \n",
            " 5   diff_lat                 float32\n",
            " 6   diff_long                float32\n",
            " 7   geodesic                 float32\n",
            " 8   pickup_distance_to_jfk   float32\n",
            " 9   dropoff_distance_to_jfk  float32\n",
            " 10  pickup_distance_to_ewr   float32\n",
            " 11  dropoff_distance_to_ewr  float32\n",
            " 12  pickup_distance_to_lgr   float32\n",
            " 13  dropoff_distance_to_lgr  float32\n",
            " 14  pickup_distance_to_tsq   float32\n",
            " 15  dropoff_distance_to_tsq  float32\n",
            " 16  pickup_distance_to_met   float32\n",
            " 17  dropoff_distance_to_met  float32\n",
            " 18  day                      uint8  \n",
            " 19  month                    uint8  \n",
            " 20  year                     uint32 \n",
            " 21  hh                       uint8  \n",
            " 22  mm                       uint8  \n",
            " 23  ss                       uint8  \n",
            "dtypes: float32(17), uint32(1), uint8(6)\n",
            "memory usage: 459.3 MB\n"
          ],
          "name": "stdout"
        }
      ]
    },
    {
      "cell_type": "code",
      "metadata": {
        "id": "xRb_NTmOJZ3Y"
      },
      "source": [
        "class Net(nn.Module):\n",
        "    def __init__(self, D_in, H1, H2, H3, D_out):\n",
        "        super(Net, self).__init__()\n",
        "        \n",
        "        self.linear1 = nn.Linear(D_in, H1)\n",
        "        self.linear2 = nn.Linear(H1, H2)\n",
        "        self.linear3 = nn.Linear(H2, H3)\n",
        "        self.linear4 = nn.Linear(H3, D_out)\n",
        "        \n",
        "    def forward(self, x):\n",
        "        y_pred = self.linear1(x).clamp(min=0)\n",
        "        y_pred = self.linear2(y_pred).clamp(min=0)\n",
        "        y_pred = self.linear3(y_pred).clamp(min=0)\n",
        "        y_pred = self.linear4(y_pred)\n",
        "        return y_pred\n"
      ],
      "execution_count": 17,
      "outputs": []
    },
    {
      "cell_type": "code",
      "metadata": {
        "id": "Kw78jYy7JzGl"
      },
      "source": [
        "H1, H2, H3 = 500, 1000, 200"
      ],
      "execution_count": 18,
      "outputs": []
    },
    {
      "cell_type": "code",
      "metadata": {
        "id": "T_wfreEyKNp1"
      },
      "source": [
        "xx=torch.tensor(X_train.values)"
      ],
      "execution_count": 19,
      "outputs": []
    },
    {
      "cell_type": "code",
      "metadata": {
        "id": "rYm37hDcKxDg"
      },
      "source": [
        "yy=torch.tensor(y_train.values)"
      ],
      "execution_count": 20,
      "outputs": []
    },
    {
      "cell_type": "code",
      "metadata": {
        "colab": {
          "base_uri": "https://localhost:8080/"
        },
        "id": "QcQHH4sJLoBU",
        "outputId": "770438a6-849a-4062-f39e-a863e9847492"
      },
      "source": [
        "yy.shape"
      ],
      "execution_count": 21,
      "outputs": [
        {
          "output_type": "execute_result",
          "data": {
            "text/plain": [
              "torch.Size([5600000])"
            ]
          },
          "metadata": {
            "tags": []
          },
          "execution_count": 21
        }
      ]
    },
    {
      "cell_type": "code",
      "metadata": {
        "id": "lfCNH6BONADB"
      },
      "source": [
        "yy=torch.unsqueeze(yy, 1)"
      ],
      "execution_count": 22,
      "outputs": []
    },
    {
      "cell_type": "code",
      "metadata": {
        "id": "OBYRx4kbKBkV"
      },
      "source": [
        "D_in, D_out = xx.shape[1], yy.shape[1]"
      ],
      "execution_count": 23,
      "outputs": []
    },
    {
      "cell_type": "code",
      "metadata": {
        "colab": {
          "base_uri": "https://localhost:8080/"
        },
        "id": "Vk9kxJARLaVV",
        "outputId": "9f578fcf-8a5f-4c80-a2f7-9ffb9f126ad7"
      },
      "source": [
        "D_out"
      ],
      "execution_count": 24,
      "outputs": [
        {
          "output_type": "execute_result",
          "data": {
            "text/plain": [
              "1"
            ]
          },
          "metadata": {
            "tags": []
          },
          "execution_count": 24
        }
      ]
    },
    {
      "cell_type": "code",
      "metadata": {
        "id": "F_f_xSTEKL2z"
      },
      "source": [
        "criterion = nn.MSELoss(reduction='sum')\n",
        "\n"
      ],
      "execution_count": 25,
      "outputs": []
    },
    {
      "cell_type": "code",
      "metadata": {
        "id": "TaQXR0W8LQgn"
      },
      "source": [
        "model1 = Net(D_in, H1, H2, H3, D_out)"
      ],
      "execution_count": 26,
      "outputs": []
    },
    {
      "cell_type": "code",
      "metadata": {
        "id": "JXAaHeCWLFu1"
      },
      "source": [
        "losses1 = []\n",
        "\n",
        "for t in range(500):\n",
        "    y_pred = model1(xx)\n",
        "    \n",
        "    loss = criterion(y_pred,yy)\n",
        "    print(t, loss.item())\n",
        "    losses1.append(loss.item())\n",
        "    \n",
        "    if torch.isnan(loss):\n",
        "        break\n",
        "    \n",
        "    optimizer.zero_grad()\n",
        "    loss.backward()\n",
        "    optimizer.step()"
      ],
      "execution_count": null,
      "outputs": []
    },
    {
      "cell_type": "code",
      "metadata": {
        "id": "ahgqR8D6Ng9i"
      },
      "source": [
        "# from keras.models import Sequential\n",
        "# from keras.layers import Dense\n",
        "# from keras.wrappers.scikit_learn import KerasRegressor\n",
        "# from sklearn.model_selection import cross_val_score\n",
        "# from sklearn.model_selection import KFold\n",
        "# from sklearn.preprocessing import StandardScaler\n",
        "# from sklearn.pipeline import Pipeline\n",
        "\n",
        "# def baseline_model():\n",
        "#     # create model\n",
        "#     model = Sequential()\n",
        "#     model.add(Dense(12, input_dim=12, kernel_initializer='normal', activation='relu'))\n",
        "#     model.add(Dense(1, kernel_initializer='normal'))\n",
        "#     # Compile model\n",
        "#     model.compile(loss='mean_squared_error', optimizer='adam')\n",
        "#     return model\n",
        "    \n",
        "# seed = 7\n",
        "# np.random.seed(seed)\n",
        "# # evaluate model with standardized dataset\n",
        "# estimator = KerasRegressor(build_fn=baseline_model, nb_epoch=100, batch_size=5, verbose=0)\n",
        "# kfold = KFold(n_splits=10, random_state=seed)\n",
        "# results = cross_val_score(estimator, X.values, y.values, cv=kfold, n_jobs=1)\n",
        "# print(\"RMSE:\", np.sqrt(results.std()))"
      ],
      "execution_count": null,
      "outputs": []
    }
  ]
}